{
  "nbformat": 4,
  "nbformat_minor": 0,
  "metadata": {
    "colab": {
      "provenance": [],
      "include_colab_link": true
    },
    "kernelspec": {
      "name": "python3",
      "display_name": "Python 3"
    }
  },
  "cells": [
    {
      "cell_type": "markdown",
      "metadata": {
        "id": "view-in-github",
        "colab_type": "text"
      },
      "source": [
        "<a href=\"https://colab.research.google.com/github/PaulSerin/Big-Data-Framework/blob/main/BDF_11_Graph_processing.ipynb\" target=\"_parent\"><img src=\"https://colab.research.google.com/assets/colab-badge.svg\" alt=\"Open In Colab\"/></a>"
      ]
    },
    {
      "cell_type": "markdown",
      "metadata": {
        "id": "uL0HHBxQa1Hc"
      },
      "source": [
        "#00 - Configuration of Apache Spark on Collaboratory\n"
      ]
    },
    {
      "cell_type": "markdown",
      "metadata": {
        "id": "AcWXhOxia5yZ"
      },
      "source": [
        "###Installing Java, Spark, and Findspark\n",
        "\n",
        "\n",
        "---\n",
        "\n",
        "\n",
        "This code installs Apache Spark 3.0.1, Java 8, and [Findspark](https://github.com/minrk/findspark), a library that makes it easy for Python to find Spark."
      ]
    },
    {
      "cell_type": "code",
      "metadata": {
        "id": "KsAfQ0CrgnWf",
        "colab": {
          "base_uri": "https://localhost:8080/"
        },
        "outputId": "c937a4c6-53cf-42d9-daf3-4d7dfdec29e0"
      },
      "source": [
        "import os\n",
        "\n",
        "os.environ[\"SPARK_VERSION\"] = \"spark-3.2.3\"\n",
        "!apt-get update\n",
        "!apt-get install openjdk-8-jdk-headless -qq > /dev/null\n",
        "!wget  https://archive.apache.org/dist/spark/$SPARK_VERSION/$SPARK_VERSION-bin-hadoop2.7.tgz\n",
        "!tar xf $SPARK_VERSION-bin-hadoop2.7.tgz\n",
        "!echo $SPARK_VERSION-bin-hadoop2.7.tgz\n",
        "!pip install -q findspark"
      ],
      "execution_count": 1,
      "outputs": [
        {
          "output_type": "stream",
          "name": "stdout",
          "text": [
            "\r0% [Working]\r            \rGet:1 https://cloud.r-project.org/bin/linux/ubuntu jammy-cran40/ InRelease [3,626 B]\n",
            "\r0% [Connecting to archive.ubuntu.com (185.125.190.83)] [Waiting for headers] [1 InRelease 3,626 B/3,\r0% [Connecting to archive.ubuntu.com (185.125.190.83)] [Waiting for headers] [Connected to r2u.stat.\r                                                                                                    \rGet:2 http://security.ubuntu.com/ubuntu jammy-security InRelease [129 kB]\n",
            "Get:3 https://developer.download.nvidia.com/compute/cuda/repos/ubuntu2204/x86_64  InRelease [1,581 B]\n",
            "Get:4 https://r2u.stat.illinois.edu/ubuntu jammy InRelease [6,555 B]\n",
            "Hit:5 http://archive.ubuntu.com/ubuntu jammy InRelease\n",
            "Get:6 http://archive.ubuntu.com/ubuntu jammy-updates InRelease [128 kB]\n",
            "Hit:7 https://ppa.launchpadcontent.net/deadsnakes/ppa/ubuntu jammy InRelease\n",
            "Get:8 https://developer.download.nvidia.com/compute/cuda/repos/ubuntu2204/x86_64  Packages [1,172 kB]\n",
            "Hit:9 https://ppa.launchpadcontent.net/graphics-drivers/ppa/ubuntu jammy InRelease\n",
            "Hit:10 https://ppa.launchpadcontent.net/ubuntugis/ppa/ubuntu jammy InRelease\n",
            "Get:11 http://archive.ubuntu.com/ubuntu jammy-backports InRelease [127 kB]\n",
            "Get:12 https://r2u.stat.illinois.edu/ubuntu jammy/main amd64 Packages [2,619 kB]\n",
            "Get:13 http://security.ubuntu.com/ubuntu jammy-security/universe amd64 Packages [1,224 kB]\n",
            "Get:14 https://r2u.stat.illinois.edu/ubuntu jammy/main all Packages [8,506 kB]\n",
            "Get:15 http://security.ubuntu.com/ubuntu jammy-security/main amd64 Packages [2,452 kB]\n",
            "Get:16 http://archive.ubuntu.com/ubuntu jammy-updates/universe amd64 Packages [1,512 kB]\n",
            "Get:17 http://archive.ubuntu.com/ubuntu jammy-updates/main amd64 Packages [2,736 kB]\n",
            "Fetched 20.6 MB in 4s (4,760 kB/s)\n",
            "Reading package lists... Done\n",
            "W: Skipping acquire of configured file 'main/source/Sources' as repository 'https://r2u.stat.illinois.edu/ubuntu jammy InRelease' does not seem to provide it (sources.list entry misspelt?)\n",
            "--2024-11-26 15:16:48--  https://archive.apache.org/dist/spark/spark-3.2.3/spark-3.2.3-bin-hadoop2.7.tgz\n",
            "Resolving archive.apache.org (archive.apache.org)... 65.108.204.189, 2a01:4f9:1a:a084::2\n",
            "Connecting to archive.apache.org (archive.apache.org)|65.108.204.189|:443... connected.\n",
            "HTTP request sent, awaiting response... 200 OK\n",
            "Length: 272866820 (260M) [application/x-gzip]\n",
            "Saving to: ‘spark-3.2.3-bin-hadoop2.7.tgz’\n",
            "\n",
            "spark-3.2.3-bin-had 100%[===================>] 260.23M   805KB/s    in 3m 23s  \n",
            "\n",
            "2024-11-26 15:20:12 (1.28 MB/s) - ‘spark-3.2.3-bin-hadoop2.7.tgz’ saved [272866820/272866820]\n",
            "\n",
            "spark-3.2.3-bin-hadoop2.7.tgz\n"
          ]
        }
      ]
    },
    {
      "cell_type": "code",
      "metadata": {
        "id": "2W8ScIqhafBT",
        "colab": {
          "base_uri": "https://localhost:8080/"
        },
        "outputId": "bad8505f-3d3e-453b-c426-860576090c91"
      },
      "source": [
        "!wget https://repos.spark-packages.org/graphframes/graphframes/0.8.2-spark3.2-s_2.12/graphframes-0.8.2-spark3.2-s_2.12.jar"
      ],
      "execution_count": 2,
      "outputs": [
        {
          "output_type": "stream",
          "name": "stdout",
          "text": [
            "--2024-11-26 15:20:20--  https://repos.spark-packages.org/graphframes/graphframes/0.8.2-spark3.2-s_2.12/graphframes-0.8.2-spark3.2-s_2.12.jar\n",
            "Resolving repos.spark-packages.org (repos.spark-packages.org)... 3.168.132.68, 3.168.132.8, 3.168.132.114, ...\n",
            "Connecting to repos.spark-packages.org (repos.spark-packages.org)|3.168.132.68|:443... connected.\n",
            "HTTP request sent, awaiting response... 200 OK\n",
            "Length: 247880 (242K) [binary/octet-stream]\n",
            "Saving to: ‘graphframes-0.8.2-spark3.2-s_2.12.jar’\n",
            "\n",
            "\r          graphfram   0%[                    ]       0  --.-KB/s               \rgraphframes-0.8.2-s 100%[===================>] 242.07K  --.-KB/s    in 0.03s   \n",
            "\n",
            "2024-11-26 15:20:21 (8.12 MB/s) - ‘graphframes-0.8.2-spark3.2-s_2.12.jar’ saved [247880/247880]\n",
            "\n"
          ]
        }
      ]
    },
    {
      "cell_type": "markdown",
      "metadata": {
        "id": "urlhmQ_ra_ba"
      },
      "source": [
        "### Set Environment Variables\n",
        "Set the locations where Spark and Java are installed."
      ]
    },
    {
      "cell_type": "code",
      "metadata": {
        "id": "hiOoj3rUgnVx",
        "colab": {
          "base_uri": "https://localhost:8080/"
        },
        "outputId": "0bd90fe8-f85d-437f-b825-104237e90817"
      },
      "source": [
        "import os\n",
        "os.environ[\"JAVA_HOME\"] = \"/usr/lib/jvm/java-8-openjdk-amd64\"\n",
        "os.environ[\"SPARK_HOME\"] = \"/content/spark/\"\n",
        "os.environ[\"DRIVE_DATA\"] = \"/content/gdrive/My Drive/Big Data Framework/data/\"\n",
        "\n",
        "!rm /content/spark\n",
        "!ln -s /content/$SPARK_VERSION-bin-hadoop2.7 /content/spark\n",
        "\n",
        "!mv graphframes-0.8.2-spark3.2-s_2.12.jar /content/spark/jars/\n",
        "\n",
        "!export SPARK_HOME=/content/spark\n",
        "!export PATH=$PATH:$SPARK_HOME/bin:$SPARK_HOME/sbin\n",
        "\n",
        "!echo $SPARK_HOME\n",
        "!env |grep  \"DRIVE_DATA\"\n",
        "\n",
        "!ls -l /content/"
      ],
      "execution_count": 3,
      "outputs": [
        {
          "output_type": "stream",
          "name": "stdout",
          "text": [
            "rm: cannot remove '/content/spark': No such file or directory\n",
            "/content/spark/\n",
            "DRIVE_DATA=/content/gdrive/My Drive/Big Data Framework/data/\n",
            "total 266484\n",
            "drwxr-xr-x  1 root root      4096 Nov 22 14:23 sample_data\n",
            "lrwxrwxrwx  1 root root        34 Nov 26 15:20 spark -> /content/spark-3.2.3-bin-hadoop2.7\n",
            "drwxr-xr-x 13  501 1000      4096 Nov 14  2022 spark-3.2.3-bin-hadoop2.7\n",
            "-rw-r--r--  1 root root 272866820 Nov 14  2022 spark-3.2.3-bin-hadoop2.7.tgz\n"
          ]
        }
      ]
    },
    {
      "cell_type": "markdown",
      "metadata": {
        "id": "2URH7tCHbDqf"
      },
      "source": [
        "### Start a SparkSession\n",
        "This will start a local Spark session."
      ]
    },
    {
      "cell_type": "code",
      "metadata": {
        "id": "n8JD51WVauRN",
        "colab": {
          "base_uri": "https://localhost:8080/"
        },
        "outputId": "0fc4b1a9-f984-45e8-dd0a-24ba0edf2f4e"
      },
      "source": [
        "!python -V\n",
        "\n",
        "import findspark\n",
        "findspark.init()\n",
        "\n",
        "from pyspark import SparkContext\n",
        "sc = SparkContext.getOrCreate()\n",
        "\n",
        "sc.addPyFile('/content/spark/jars/graphframes-0.8.2-spark3.2-s_2.12.jar')\n",
        "\n",
        "# Example: shows the PySpark version\n",
        "print(\"PySpark version {0}\".format(sc.version))\n",
        "\n",
        "# Example: parallelise an array and show the 2 first elements\n",
        "sc.parallelize([2, 3, 4, 5, 6]).cache().take(2)"
      ],
      "execution_count": 4,
      "outputs": [
        {
          "output_type": "stream",
          "name": "stdout",
          "text": [
            "Python 3.10.12\n",
            "PySpark version 3.2.3\n"
          ]
        },
        {
          "output_type": "execute_result",
          "data": {
            "text/plain": [
              "[2, 3]"
            ]
          },
          "metadata": {},
          "execution_count": 4
        }
      ]
    },
    {
      "cell_type": "code",
      "metadata": {
        "id": "Ar81vEOHauP2"
      },
      "source": [
        "from pyspark.sql import SparkSession\n",
        "# We create a SparkSession object (or we retrieve it if it is already created)\n",
        "spark = SparkSession \\\n",
        ".builder \\\n",
        ".appName(\"My application\") \\\n",
        ".config(\"packages\",\"graphframes:graphframes-0.8.2-spark3.2-s_2.12\") \\\n",
        ".master(\"local[4]\") \\\n",
        ".getOrCreate()\n",
        "# We get the SparkContext\n",
        "sc = spark.sparkContext"
      ],
      "execution_count": 5,
      "outputs": []
    },
    {
      "cell_type": "code",
      "metadata": {
        "id": "KBMAZitVauMT",
        "colab": {
          "base_uri": "https://localhost:8080/"
        },
        "outputId": "479451c6-7323-475b-b5ee-daf12401e3d3"
      },
      "source": [
        "# Mount Google Drive\n",
        "from google.colab import drive\n",
        "drive.mount('/content/gdrive')"
      ],
      "execution_count": 6,
      "outputs": [
        {
          "output_type": "stream",
          "name": "stdout",
          "text": [
            "Mounted at /content/gdrive\n"
          ]
        }
      ]
    },
    {
      "cell_type": "markdown",
      "metadata": {
        "id": "jajoV8LDbTCe"
      },
      "source": [
        "\n",
        "---\n",
        "\n",
        "\n",
        "# 11 - Graph processing"
      ]
    },
    {
      "cell_type": "markdown",
      "metadata": {
        "id": "Tc96GG2FFzA5"
      },
      "source": [
        "## GraphX: Graph processing with RDDs\n",
        "\n",
        "Parallel graph programming using Spark\n",
        "\n",
        "- Main abstraction: [*Graph*](http://spark.apache.org/docs/latest/api/scala/index.html#org.apache.spark.graphx.Graph)\n",
        "    -   Directed multigraph with properties assigned to vertices and edges\n",
        "    -   It is an extension of the RDDs\n",
        "- It includes graph constructors, basic operators ( *reverse*, *subgraph*…) and graph algorithms ( *PageRank*, *Triangle Counting*…)\n",
        "- Only availabe on Scala.\n",
        "\n",
        "Documentation: [spark.apache.org/docs/latest/graphx-programming-guide.html](http://spark.apache.org/docs/latest/graphx-programming-guide.html)\n",
        "\n",
        "API: https://spark.apache.org/docs/latest/api/scala/index.html#org.apache.spark.graphx.package"
      ]
    },
    {
      "cell_type": "markdown",
      "metadata": {
        "id": "szq16u_cIKxA"
      },
      "source": [
        "## Graphs in GraphX\n",
        "<img src=\"http://persoal.citius.usc.es/tf.pena/TCDM/figs/grapxgraph.png\" alt=\"Grafo en GraphX\" style=\"width: 50px;\"/>\n",
        "(Source: M.S. Malak, R. East \"Spark GraphX in action\", Manning, 2016)"
      ]
    },
    {
      "cell_type": "markdown",
      "metadata": {
        "id": "5HkF-qEfIZrO"
      },
      "source": [
        "### Example of a simple graph\n",
        "<img src=\"http://persoal.citius.usc.es/tf.pena/TCDM/figs/simpsonsgraph.png\" alt=\"Grafo de los Simpson\" style=\"width: 600px;\"/>\n",
        "(Source: P. Zecević, M. Bonaći \"Spark in action\", Manning, 2017)"
      ]
    },
    {
      "cell_type": "markdown",
      "metadata": {
        "id": "L6bmE-QvGf2r"
      },
      "source": [
        "## GraphFrames: : Graph processing with DataFrames\n",
        "\n",
        "In Python we can use [*GraphFrames*](https://graphframes.github.io/graphframes/docs/_site/quick-start.html) which wraps GraphX algorithms under the DataFrames API, providing a Python interface.\n",
        "\n",
        "- Support for multiple languages is on the works\n",
        "    - For now,  available for Scala and Python\n",
        "- Not yet integrated on Spark\n",
        "    - Available as an external package (https://spark-packages.org/package/graphframes/graphframes)\n",
        "\n",
        "More information:\n",
        "- Project web: https://graphframes.github.io/graphframes/docs/_site/\n",
        "- Python API : https://graphframes.github.io/graphframes/docs/_site/api/python/index.html\n"
      ]
    },
    {
      "cell_type": "markdown",
      "metadata": {
        "id": "l07_p2RRIu_f"
      },
      "source": [
        "### Graphs using pyspark and GraphFrames"
      ]
    },
    {
      "cell_type": "code",
      "metadata": {
        "id": "1enKNqmMIy1Z",
        "colab": {
          "base_uri": "https://localhost:8080/"
        },
        "outputId": "ca2a866e-fcc8-481a-adb0-d66f8a11c80f"
      },
      "source": [
        "# The following example shows how to create a GraphFrame, query it, and run the PageRank algorithm.\n",
        "# Source: https://graphframes.github.io/graphframes/docs/_site/quick-start.html\n",
        "\n",
        "from pyspark.sql import SQLContext\n",
        "sqlContext = SQLContext(sc)\n",
        "\n",
        "from graphframes import *\n",
        "\n",
        "# Create a Vertex DataFrame with unique ID column \"id\"\n",
        "v = sqlContext.createDataFrame([\n",
        "  (\"a\", \"Alice\", 34),\n",
        "  (\"b\", \"Bob\", 36),\n",
        "  (\"c\", \"Charlie\", 30),\n",
        "], [\"id\", \"name\", \"age\"])\n",
        "# Create an Edge DataFrame with \"src\" and \"dst\" columns\n",
        "e = sqlContext.createDataFrame([\n",
        "  (\"a\", \"b\", \"friend\"),\n",
        "  (\"b\", \"c\", \"follow\"),\n",
        "  (\"c\", \"b\", \"follow\"),\n",
        "], [\"src\", \"dst\", \"relationship\"])\n",
        "# Create a GraphFrame\n",
        "\n",
        "g = GraphFrame(v, e)\n",
        "\n",
        "# Query: Get in-degree of each vertex.\n",
        "g.inDegrees.show()\n",
        "\n",
        "# Query: Count the number of \"follow\" connections in the graph.\n",
        "g.edges.filter(\"relationship = 'follow'\").count()\n",
        "\n",
        "# Run PageRank algorithm, and show results.\n",
        "results = g.pageRank(resetProbability=0.01, maxIter=20)\n",
        "results.vertices.select(\"id\", \"pagerank\").show()"
      ],
      "execution_count": 7,
      "outputs": [
        {
          "output_type": "stream",
          "name": "stderr",
          "text": [
            "/content/spark/python/pyspark/sql/context.py:77: FutureWarning: Deprecated in 3.0.0. Use SparkSession.builder.getOrCreate() instead.\n",
            "  warnings.warn(\n"
          ]
        },
        {
          "output_type": "stream",
          "name": "stdout",
          "text": [
            "+---+--------+\n",
            "| id|inDegree|\n",
            "+---+--------+\n",
            "|  b|       2|\n",
            "|  c|       1|\n",
            "+---+--------+\n",
            "\n",
            "+---+------------------+\n",
            "| id|          pagerank|\n",
            "+---+------------------+\n",
            "|  c|1.8994109890559092|\n",
            "|  b|1.0905890109440908|\n",
            "|  a|              0.01|\n",
            "+---+------------------+\n",
            "\n"
          ]
        }
      ]
    },
    {
      "cell_type": "markdown",
      "metadata": {
        "id": "YIZQECRHuiDw"
      },
      "source": [
        "#Exercises"
      ]
    },
    {
      "cell_type": "markdown",
      "metadata": {
        "id": "usL5LynSI6rE"
      },
      "source": [
        "## Exercise 11.1:\n",
        "\n",
        "A long time ago in a galaxy far, far away, the characters of the Star Wars franchise interacted with each other in an endless series of films. An ancient Jedi order, called the *Data Guardians of the Galaxy* (not affiliated to Marvel's homonym :) registered all those interactions and saved them on a digital file so that they could be studied by the forthcoming generations. This file was originally called (guess it) `sw.txt`, and you will find it in the `/data` directory.\n",
        "\n",
        "Using pySpark, perform the following operations and answer the following questions:\n",
        "\n",
        "1. Load the `$DRIVE_DATA/sw.txt` file. Take into account that it is a JSON file.\n",
        "2. Using this information, create a graph of interactions between the Star Wars characters.\n",
        "3. How many different characters are there?\n",
        "4. How many interactions are there?\n",
        "5. Who is the central character in Star Wars (the one who interacts in most scenes)?\n",
        "6. Who is the character with the highest 'rank' in Star Wars (use the PageRank algorithm)?"
      ]
    },
    {
      "cell_type": "code",
      "source": [
        "from re import MULTILINE\n",
        "sw_DF = spark.read.json(os.environ[\"DRIVE_DATA\"] + \"sw.txt\", multiLine=True).cache()\n",
        "sw_DF.printSchema()\n",
        "# Show the first few rows\n",
        "sw_DF.show(truncate=False)"
      ],
      "metadata": {
        "colab": {
          "base_uri": "https://localhost:8080/"
        },
        "id": "FErn4CUw_dvR",
        "outputId": "531a7b19-4082-4b4b-d5a8-1b75556c39ae"
      },
      "execution_count": 15,
      "outputs": [
        {
          "output_type": "stream",
          "name": "stdout",
          "text": [
            "root\n",
            " |-- links: array (nullable = true)\n",
            " |    |-- element: struct (containsNull = true)\n",
            " |    |    |-- source: long (nullable = true)\n",
            " |    |    |-- target: long (nullable = true)\n",
            " |    |    |-- value: long (nullable = true)\n",
            " |-- nodes: array (nullable = true)\n",
            " |    |-- element: struct (containsNull = true)\n",
            " |    |    |-- colour: string (nullable = true)\n",
            " |    |    |-- name: string (nullable = true)\n",
            " |    |    |-- value: long (nullable = true)\n",
            "\n",
            "+-------------------------------------------------------------------------------------------------------------------------------------------------------------------------------------------------------------------------------------------------------------------------------------------------------------------------------------------------------------------------------------------------------------------------------------------------------------------------------------------------------------------------------------------------------------------------------------------------------------------------------------------------------------------------------------------------------------------------------------------------------------------------------------------------------------------------------------------------------------------------------------------------------------------------------------------------------------------------------------------------------------------------------------------------------------------------------------------------------------------------------------------------------------------------------------------------------------------------------------------------------------------------------------------------------------------------------------------------------------------------------------------------------------------------------------------------------------------------------------------------------------------------------------------------------------------------------------------------------------------------------------------------------------------------------------------------------------------------------------------------------------------------------------------------------------------------------------------------------------------------------------------------------------------------------------------------------------------------------------------------------------------------------------------------------------------------------------------------------------------------------------------------------------------------------------------------------------------------------------------------------------------------------------------------------------------------------------------------------------------------------------------------------------------------------------------------------------------------------------------------------------------------------------------------------------------------------------------------------------------------------------------------------------------------------------------------------------------------------------------------------------------------------------------------------------------------------------------------------------------------------------------------------------------------------------------------------------------------------------------------------------------------------------------------------------------------------------------------------------------------------------------------------------------------------------------------------------------------------------------------------------------------------------------------------------------------------------------------------------------------------------------------------------------------------------------------------------------------------------------------------------------------------------------------------------------------------------------------------------------------------------------------------------------------------------------------------------------------------------------------------------------------------------------------------------------------------------------------------------------------------------------------------------------------------------------------------------------------------------------------------------------------------------------------------------------------------------------------------------------------------------------------------------------------------------------------------------------------------------------------------------------------------------------------------------------------------------------------------------------------------------------------------------------------------------------------------------------------------------------------------------------------------------------------------------------------------------------------------------------------------------------------------------------------------------------------------------------------------------------------------------------------------------------------------------------------------------------------------------------------------------------------------------------------------------------------------------------------------------------------------------------------------------------------------------------------------------------------------------------------------------------------------------------------------------------------------------------------------------------------------------------------------------------------------------------------------------------------------------------------------------------------------------------------------------------------------------------------------------------------------------------------------------------------------------------------------------------------------------------------------------------------------------------------------------------------------------------------------------------------------------------------------------------------------------------------------------------------------------------------------------------------------+--------------------------------------------------------------------------------------------------------------------------------------------------------------------------------------------------------------------------------------------------------------------------------------------------------------------------------------------------------------------------------------------------------------------------------------------------------------------------------------------------------------------------------------------------------------------------------------------------------------------------------------------------------------------------------------------------------------------------------------------------------------------------------------------------------------------------------------------------------------------------------------------------------------------------------------------------------------------------------------------------------------------------------------------------------------------------------------------------------------------------------------------------------------------------------------------------------------------------------------------------------------------------------------------------------------------------------------------------------------------------------------------------------------------------------------------------------------------------------------------------------------------------------------------------------------------------------------------------------------------------------------------------------------------------------------------------------------------------------------------------------------------------------------------------------------------------------------------------------------------------------------------------------------------------------------------------------------------------------------------------------------------------------------------------------------------------------------------------------------------------------------------------------------------------------------------------------------------------------------------------------------------------------------------------------------------------------------------------------------------------------------------------------------------------------------------------------------------------------------------------------------------------------------------------------------------------------------------------------------------------------------------------------------------------------------------------------------------------------------------------------------------------------------------------------+\n",
            "|links                                                                                                                                                                                                                                                                                                                                                                                                                                                                                                                                                                                                                                                                                                                                                                                                                                                                                                                                                                                                                                                                                                                                                                                                                                                                                                                                                                                                                                                                                                                                                                                                                                                                                                                                                                                                                                                                                                                                                                                                                                                                                                                                                                                                                                                                                                                                                                                                                                                                                                                                                                                                                                                                                                                                                                                                                                                                                                                                                                                                                                                                                                                                                                                                                                                                                                                                                                                                                                                                                                                                                                                                                                                                                                                                                                                                                                                                                                                                                                                                                                                                                                                                                                                                                                                                                                                                                                                                                                                                                                                                                                                                                                                                                                                                                                                                                                                                                                                                                                                                                                                                                                                                                                                                                                                                                                                                                                                                                                                                                                                                                                                                                                                                                                                                                                                                                                                                                                  |nodes                                                                                                                                                                                                                                                                                                                                                                                                                                                                                                                                                                                                                                                                                                                                                                                                                                                                                                                                                                                                                                                                                                                                                                                                                                                                                                                                                                                                                                                                                                                                                                                                                                                                                                                                                                                                                                                                                                                                                                                                                                                                                                                                                                                                                                                                                                                                                                                                                                                                                                                                                                                                                                                                                                                                                                                                   |\n",
            "+-------------------------------------------------------------------------------------------------------------------------------------------------------------------------------------------------------------------------------------------------------------------------------------------------------------------------------------------------------------------------------------------------------------------------------------------------------------------------------------------------------------------------------------------------------------------------------------------------------------------------------------------------------------------------------------------------------------------------------------------------------------------------------------------------------------------------------------------------------------------------------------------------------------------------------------------------------------------------------------------------------------------------------------------------------------------------------------------------------------------------------------------------------------------------------------------------------------------------------------------------------------------------------------------------------------------------------------------------------------------------------------------------------------------------------------------------------------------------------------------------------------------------------------------------------------------------------------------------------------------------------------------------------------------------------------------------------------------------------------------------------------------------------------------------------------------------------------------------------------------------------------------------------------------------------------------------------------------------------------------------------------------------------------------------------------------------------------------------------------------------------------------------------------------------------------------------------------------------------------------------------------------------------------------------------------------------------------------------------------------------------------------------------------------------------------------------------------------------------------------------------------------------------------------------------------------------------------------------------------------------------------------------------------------------------------------------------------------------------------------------------------------------------------------------------------------------------------------------------------------------------------------------------------------------------------------------------------------------------------------------------------------------------------------------------------------------------------------------------------------------------------------------------------------------------------------------------------------------------------------------------------------------------------------------------------------------------------------------------------------------------------------------------------------------------------------------------------------------------------------------------------------------------------------------------------------------------------------------------------------------------------------------------------------------------------------------------------------------------------------------------------------------------------------------------------------------------------------------------------------------------------------------------------------------------------------------------------------------------------------------------------------------------------------------------------------------------------------------------------------------------------------------------------------------------------------------------------------------------------------------------------------------------------------------------------------------------------------------------------------------------------------------------------------------------------------------------------------------------------------------------------------------------------------------------------------------------------------------------------------------------------------------------------------------------------------------------------------------------------------------------------------------------------------------------------------------------------------------------------------------------------------------------------------------------------------------------------------------------------------------------------------------------------------------------------------------------------------------------------------------------------------------------------------------------------------------------------------------------------------------------------------------------------------------------------------------------------------------------------------------------------------------------------------------------------------------------------------------------------------------------------------------------------------------------------------------------------------------------------------------------------------------------------------------------------------------------------------------------------------------------------------------------------------------------------------------------------------------------------------------------------------------------+--------------------------------------------------------------------------------------------------------------------------------------------------------------------------------------------------------------------------------------------------------------------------------------------------------------------------------------------------------------------------------------------------------------------------------------------------------------------------------------------------------------------------------------------------------------------------------------------------------------------------------------------------------------------------------------------------------------------------------------------------------------------------------------------------------------------------------------------------------------------------------------------------------------------------------------------------------------------------------------------------------------------------------------------------------------------------------------------------------------------------------------------------------------------------------------------------------------------------------------------------------------------------------------------------------------------------------------------------------------------------------------------------------------------------------------------------------------------------------------------------------------------------------------------------------------------------------------------------------------------------------------------------------------------------------------------------------------------------------------------------------------------------------------------------------------------------------------------------------------------------------------------------------------------------------------------------------------------------------------------------------------------------------------------------------------------------------------------------------------------------------------------------------------------------------------------------------------------------------------------------------------------------------------------------------------------------------------------------------------------------------------------------------------------------------------------------------------------------------------------------------------------------------------------------------------------------------------------------------------------------------------------------------------------------------------------------------------------------------------------------------------------------------------------------------+\n",
            "|[{0, 1, 32}, {2, 0, 2}, {0, 20, 5}, {0, 4, 22}, {0, 18, 41}, {0, 21, 2}, {0, 15, 12}, {0, 22, 2}, {0, 23, 8}, {24, 0, 11}, {0, 26, 3}, {0, 27, 2}, {0, 8, 47}, {0, 29, 1}, {0, 30, 1}, {13, 0, 2}, {0, 19, 4}, {0, 32, 9}, {0, 33, 2}, {0, 34, 9}, {0, 35, 1}, {17, 0, 1}, {38, 0, 2}, {39, 0, 1}, {40, 0, 3}, {0, 14, 1}, {0, 43, 1}, {0, 44, 1}, {0, 45, 3}, {0, 50, 3}, {51, 0, 1}, {52, 0, 2}, {0, 54, 1}, {0, 55, 1}, {0, 5, 1}, {53, 0, 3}, {0, 57, 2}, {0, 12, 21}, {0, 58, 1}, {36, 0, 2}, {63, 0, 1}, {0, 69, 2}, {0, 70, 1}, {0, 71, 7}, {0, 82, 8}, {0, 83, 2}, {0, 86, 1}, {48, 0, 3}, {0, 87, 4}, {0, 72, 2}, {0, 66, 8}, {0, 88, 1}, {2, 1, 17}, {3, 1, 2}, {3, 2, 8}, {8, 1, 28}, {18, 1, 24}, {4, 1, 13}, {1, 20, 3}, {24, 1, 55}, {26, 1, 2}, {29, 1, 4}, {12, 1, 5}, {40, 1, 1}, {51, 1, 1}, {50, 1, 2}, {36, 1, 3}, {1, 34, 5}, {66, 1, 34}, {69, 1, 23}, {65, 1, 1}, {68, 1, 1}, {72, 1, 18}, {87, 1, 5}, {2, 8, 6}, {24, 2, 39}, {2, 66, 32}, {2, 72, 77}, {2, 29, 3}, {2, 69, 48}, {2, 79, 1}, {2, 87, 20}, {48, 2, 2}, {2, 96, 20}, {2, 98, 13}, {101, 2, 1}, {2, 103, 2}, {2, 93, 2}, {2, 94, 3}, {95, 2, 1}, {3, 93, 8}, {3, 92, 2}, {3, 98, 17}, {3, 97, 1}, {3, 96, 15}, {3, 72, 9}, {101, 3, 1}, {3, 103, 3}, {3, 69, 3}, {3, 24, 3}, {5, 4, 1}, {6, 7, 1}, {8, 7, 1}, {4, 7, 1}, {8, 4, 26}, {5, 7, 1}, {9, 5, 1}, {9, 7, 1}, {5, 10, 8}, {10, 11, 2}, {5, 11, 1}, {13, 12, 3}, {12, 14, 1}, {13, 14, 3}, {15, 4, 22}, {15, 8, 15}, {15, 16, 2}, {17, 4, 2}, {17, 8, 2}, {17, 15, 2}, {12, 5, 6}, {12, 10, 3}, {5, 14, 2}, {15, 14, 1}, {13, 15, 7}, {4, 14, 2}, {13, 4, 9}, {13, 18, 7}, {18, 4, 16}, {18, 14, 1}, {13, 8, 7}, {8, 19, 3}, {15, 19, 1}, {4, 19, 2}, {13, 19, 2}, {15, 18, 10}, {4, 20, 6}, {18, 20, 3}, {15, 21, 2}, {4, 21, 2}, {18, 21, 2}, {22, 4, 2}, {22, 18, 1}, {15, 23, 3}, {4, 23, 8}, {18, 23, 5}, {24, 18, 12}, {8, 14, 1}, {25, 12, 3}, {26, 27, 1}, {15, 26, 1}, {26, 4, 2}, {15, 27, 1}, {4, 27, 2}, {8, 23, 1}, {24, 20, 1}, {26, 20, 1}, {24, 4, 1}, {24, 26, 1}, {26, 18, 1}, {28, 29, 1}, {29, 23, 1}, {21, 23, 1}, {29, 15, 1}, {29, 18, 1}, {29, 21, 1}, {29, 4, 1}, {28, 15, 2}, {28, 18, 1}, {30, 4, 1}, {30, 27, 1}, {26, 23, 1}, {12, 31, 2}, {12, 15, 5}, {12, 4, 1}, {15, 31, 1}, {4, 31, 1}, {32, 4, 2}, {33, 4, 2}, {4, 34, 3}, {4, 35, 1}, {33, 32, 4}, {32, 34, 16}, {32, 35, 1}, {33, 34, 4}, {33, 35, 1}, {35, 34, 1}, {36, 12, 6}, {36, 31, 1}, {8, 34, 20}, {32, 8, 9}, {33, 8, 1}, {17, 18, 2}, {25, 5, 3}, {17, 13, 1}, {8, 18, 9}, {12, 37, 1}, {37, 5, 1}, {25, 37, 1}, {25, 10, 1}, {38, 19, 4}, {37, 15, 1}, {5, 18, 2}, {9, 11, 1}, {39, 38, 2}, {39, 19, 2}, {12, 18, 5}, {12, 41, 2}, {12, 42, 2}, {42, 41, 1}, {12, 32, 3}, {12, 34, 2}, {12, 33, 1}, {36, 32, 2}, {36, 34, 8}, {36, 33, 1}, {40, 15, 1}, {40, 8, 2}, {8, 6, 1}, {18, 43, 1}, {44, 43, 2}, {45, 43, 1}, {44, 18, 1}, {18, 45, 1}, {44, 45, 1}, {8, 46, 5}, {47, 46, 2}, {47, 8, 6}, {48, 46, 2}, {48, 49, 3}, {48, 8, 1}, {49, 46, 1}, {49, 8, 1}, {24, 50, 4}, {51, 24, 3}, {24, 52, 1}, {51, 50, 4}, {50, 18, 4}, {52, 50, 2}, {51, 18, 1}, {51, 52, 1}, {52, 18, 2}, {36, 8, 8}, {12, 8, 5}, {8, 41, 1}, {36, 41, 1}, {36, 15, 1}, {41, 34, 1}, {15, 34, 1}, {32, 41, 1}, {15, 32, 1}, {15, 41, 1}, {32, 18, 2}, {15, 42, 1}, {53, 18, 3}, {53, 49, 1}, {55, 54, 2}, {5, 54, 2}, {5, 55, 2}, {8, 54, 1}, {8, 55, 1}, {5, 8, 1}, {53, 8, 3}, {18, 54, 1}, {53, 54, 1}, {18, 55, 1}, {53, 55, 1}, {53, 5, 1}, {53, 32, 2}, {33, 56, 1}, {53, 34, 2}, {18, 34, 1}, {53, 12, 2}, {8, 57, 2}, {58, 8, 2}, {24, 8, 9}, {24, 12, 2}, {36, 24, 3}, {36, 18, 5}, {36, 59, 2}, {36, 60, 2}, {36, 61, 1}, {59, 18, 2}, {59, 60, 2}, {59, 61, 1}, {60, 18, 2}, {61, 18, 1}, {61, 60, 1}, {40, 18, 2}, {24, 40, 2}, {62, 34, 1}, {63, 8, 2}, {8, 64, 1}, {58, 5, 1}, {63, 32, 1}, {63, 34, 1}, {36, 65, 2}, {36, 4, 1}, {24, 34, 1}, {24, 65, 1}, {67, 66, 2}, {68, 67, 2}, {68, 66, 4}, {51, 66, 3}, {66, 50, 3}, {24, 66, 29}, {24, 69, 49}, {69, 66, 26}, {51, 69, 1}, {66, 8, 22}, {69, 8, 1}, {70, 71, 2}, {72, 8, 10}, {72, 66, 43}, {30, 72, 1}, {72, 29, 1}, {24, 72, 54}, {69, 70, 1}, {69, 71, 1}, {72, 69, 69}, {73, 74, 1}, {73, 75, 1}, {73, 66, 1}, {74, 75, 1}, {74, 66, 1}, {66, 75, 4}, {68, 69, 1}, {69, 76, 1}, {66, 76, 3}, {68, 76, 3}, {68, 24, 1}, {24, 76, 1}, {76, 75, 3}, {74, 76, 1}, {68, 75, 2}, {76, 77, 1}, {68, 74, 1}, {66, 77, 1}, {72, 79, 3}, {69, 79, 4}, {24, 80, 1}, {72, 81, 1}, {24, 79, 1}, {83, 82, 2}, {80, 69, 1}, {84, 66, 3}, {85, 75, 2}, {66, 81, 1}, {86, 82, 1}, {66, 34, 6}, {48, 82, 1}, {72, 87, 12}, {87, 69, 12}, {24, 87, 8}, {48, 87, 2}, {48, 24, 1}, {48, 72, 1}, {48, 69, 1}, {87, 66, 6}, {89, 24, 2}, {24, 29, 3}, {29, 66, 2}, {90, 29, 1}, {90, 24, 2}, {90, 72, 1}, {90, 69, 1}, {89, 66, 1}, {89, 29, 1}, {72, 60, 1}, {91, 72, 2}, {87, 60, 1}, {91, 87, 5}, {91, 60, 1}, {24, 60, 1}, {69, 60, 1}, {66, 60, 1}, {91, 24, 2}, {91, 69, 2}, {91, 66, 1}, {12, 66, 3}, {87, 75, 6}, {91, 75, 1}, {92, 93, 3}, {94, 92, 1}, {94, 93, 2}, {95, 94, 1}, {95, 92, 1}, {95, 93, 1}, {95, 96, 3}, {99, 94, 5}, {98, 97, 2}, {96, 93, 11}, {99, 100, 1}, {94, 100, 2}, {95, 99, 1}, {96, 98, 29}, {72, 98, 17}, {96, 72, 23}, {101, 72, 2}, {101, 98, 1}, {101, 96, 1}, {99, 102, 3}, {94, 102, 2}, {72, 103, 4}, {96, 103, 2}, {103, 98, 2}, {72, 93, 2}, {69, 93, 3}, {96, 69, 3}, {94, 98, 4}, {93, 104, 2}, {91, 93, 1}, {24, 93, 2}, {105, 93, 1}, {72, 104, 1}, {91, 104, 1}, {96, 104, 1}, {69, 104, 1}, {24, 104, 1}, {105, 104, 1}, {105, 72, 1}, {91, 96, 1}, {91, 105, 1}, {24, 96, 1}, {105, 96, 1}, {105, 69, 2}, {105, 24, 2}, {95, 72, 2}, {107, 99, 1}, {108, 93, 3}, {109, 104, 1}, {72, 94, 3}, {96, 94, 2}, {109, 110, 2}, {110, 106, 1}, {110, 93, 2}, {108, 110, 2}, {109, 106, 1}, {109, 93, 2}, {108, 109, 2}, {93, 106, 1}, {108, 106, 1}, {69, 98, 1}, {66, 98, 1}]|[{#000000, DARTH VADER, 190}, {#bde0f6, R2-D2, 171}, {#A0522D, CHEWBACCA, 145}, {#eb5d00, BB-8, 40}, {#4f4fb1, QUI-GON, 62}, {#808080, NUTE GUNRAY, 25}, {#808080, PK-4, 4}, {#808080, TC-14, 5}, {#48D1CC, OBI-WAN, 148}, {#808080, DOFINE, 4}, {#808080, RUNE, 11}, {#808080, TEY HOW, 5}, {#191970, EMPEROR, 52}, {#808080, CAPTAIN PANAKA, 20}, {#808080, SIO BIBBLE, 9}, {#9a9a00, JAR JAR, 42}, {#808080, TARPALS, 4}, {#808080, BOSS NASS, 5}, {#DDA0DD, PADME, 75}, {#808080, RIC OLIE, 12}, {#808080, WATTO, 9}, {#808080, SEBULBA, 4}, {#808080, JIRA, 4}, {#808080, SHMI, 12}, {#FFD700, C-3PO, 151}, {#808080, DARTH MAUL, 6}, {#808080, KITSTER, 5}, {#808080, WALD, 4}, {#808080, FODE/BEED, 12}, {#808080, JABBA, 8}, {#808080, GREEDO, 4}, {#808080, VALORUM, 4}, {#808080, MACE WINDU, 23}, {#808080, KI-ADI-MUNDI, 7}, {#9ACD32, YODA, 46}, {#808080, RABE, 3}, {#808080, BAIL ORGANA, 24}, {#808080, GENERAL CEEL, 5}, {#808080, BRAVO TWO, 6}, {#808080, BRAVO THREE, 4}, {#808080, CAPTAIN TYPHO, 7}, {#808080, SENATOR ASK AAK, 4}, {#808080, ORN FREE TAA, 4}, {#808080, SOLA, 4}, {#808080, JOBAL, 4}, {#808080, RUWEE, 5}, {#808080, TAUN WE, 8}, {#808080, LAMA SU, 9}, {#808080, BOBA FETT, 11}, {#808080, JANGO FETT, 6}, {#808080, OWEN, 11}, {#808080, BERU, 7}, {#808080, CLIEGG, 4}, {#808080, COUNT DOOKU, 10}, {#808080, SUN RIT, 4}, {#808080, POGGLE, 4}, {#808080, PLO KOON, 4}, {#808080, ODD BALL, 5}, {#808080, GENERAL GRIEVOUS, 13}, {#808080, FANG ZAR, 4}, {#808080, MON MOTHMA, 5}, {#808080, GIDDEAN DANU, 3}, {#808080, CLONE COMMANDER GREE, 5}, {#808080, CLONE COMMANDER CODY, 5}, {#808080, TION MEDON, 4}, {#808080, CAPTAIN ANTILLES, 4}, {#3881e5, LUKE, 161}, {#808080, CAMIE, 4}, {#808080, BIGGS, 19}, {#DCDCDC, LEIA, 99}, {#808080, MOTTI, 4}, {#808080, TARKIN, 13}, {#ff9400, HAN, 170}, {#808080, DODONNA, 4}, {#808080, GOLD LEADER, 15}, {#808080, WEDGE, 29}, {#808080, RED LEADER, 34}, {#808080, RED TEN, 9}, {#808080, GOLD FIVE, 9}, {#808080, RIEEKAN, 8}, {#808080, DERLIN, 4}, {#808080, ZEV, 7}, {#808080, PIETT, 13}, {#808080, OZZEL, 4}, {#808080, DACK, 5}, {#808080, JANSON, 5}, {#808080, NEEDA, 4}, {#808080, LANDO, 42}, {#808080, JERJERROD, 4}, {#808080, BIB FORTUNA, 4}, {#808080, BOUSHH, 4}, {#808080, ADMIRAL ACKBAR, 13}, {#808080, LOR SAN TEKKA, 5}, {#a15bea, POE, 31}, {#000000, KYLO REN, 23}, {#808080, CAPTAIN PHASMA, 7}, {#07b19f, FINN, 64}, {#808080, UNKAR PLUTT, 6}, {#ffe0af, REY, 57}, {#808080, GENERAL HUX, 15}, {#808080, LIEUTENANT MITAKA, 4}, {#808080, BALA-TIK, 5}, {#191970, SNOKE, 5}, {#808080, MAZ, 7}, {#808080, SNAP, 6}, {#808080, ADMIRAL STATURA, 4}, {#808080, YOLO ZIFF, 4}, {#808080, COLONEL DATOO, 4}, {#808080, ELLO ASTY, 5}, {#808080, JESS, 5}, {#808080, NIV LEK, 4}]|\n",
            "+-------------------------------------------------------------------------------------------------------------------------------------------------------------------------------------------------------------------------------------------------------------------------------------------------------------------------------------------------------------------------------------------------------------------------------------------------------------------------------------------------------------------------------------------------------------------------------------------------------------------------------------------------------------------------------------------------------------------------------------------------------------------------------------------------------------------------------------------------------------------------------------------------------------------------------------------------------------------------------------------------------------------------------------------------------------------------------------------------------------------------------------------------------------------------------------------------------------------------------------------------------------------------------------------------------------------------------------------------------------------------------------------------------------------------------------------------------------------------------------------------------------------------------------------------------------------------------------------------------------------------------------------------------------------------------------------------------------------------------------------------------------------------------------------------------------------------------------------------------------------------------------------------------------------------------------------------------------------------------------------------------------------------------------------------------------------------------------------------------------------------------------------------------------------------------------------------------------------------------------------------------------------------------------------------------------------------------------------------------------------------------------------------------------------------------------------------------------------------------------------------------------------------------------------------------------------------------------------------------------------------------------------------------------------------------------------------------------------------------------------------------------------------------------------------------------------------------------------------------------------------------------------------------------------------------------------------------------------------------------------------------------------------------------------------------------------------------------------------------------------------------------------------------------------------------------------------------------------------------------------------------------------------------------------------------------------------------------------------------------------------------------------------------------------------------------------------------------------------------------------------------------------------------------------------------------------------------------------------------------------------------------------------------------------------------------------------------------------------------------------------------------------------------------------------------------------------------------------------------------------------------------------------------------------------------------------------------------------------------------------------------------------------------------------------------------------------------------------------------------------------------------------------------------------------------------------------------------------------------------------------------------------------------------------------------------------------------------------------------------------------------------------------------------------------------------------------------------------------------------------------------------------------------------------------------------------------------------------------------------------------------------------------------------------------------------------------------------------------------------------------------------------------------------------------------------------------------------------------------------------------------------------------------------------------------------------------------------------------------------------------------------------------------------------------------------------------------------------------------------------------------------------------------------------------------------------------------------------------------------------------------------------------------------------------------------------------------------------------------------------------------------------------------------------------------------------------------------------------------------------------------------------------------------------------------------------------------------------------------------------------------------------------------------------------------------------------------------------------------------------------------------------------------------------------------------------------------------------------------------------------------------------------------+--------------------------------------------------------------------------------------------------------------------------------------------------------------------------------------------------------------------------------------------------------------------------------------------------------------------------------------------------------------------------------------------------------------------------------------------------------------------------------------------------------------------------------------------------------------------------------------------------------------------------------------------------------------------------------------------------------------------------------------------------------------------------------------------------------------------------------------------------------------------------------------------------------------------------------------------------------------------------------------------------------------------------------------------------------------------------------------------------------------------------------------------------------------------------------------------------------------------------------------------------------------------------------------------------------------------------------------------------------------------------------------------------------------------------------------------------------------------------------------------------------------------------------------------------------------------------------------------------------------------------------------------------------------------------------------------------------------------------------------------------------------------------------------------------------------------------------------------------------------------------------------------------------------------------------------------------------------------------------------------------------------------------------------------------------------------------------------------------------------------------------------------------------------------------------------------------------------------------------------------------------------------------------------------------------------------------------------------------------------------------------------------------------------------------------------------------------------------------------------------------------------------------------------------------------------------------------------------------------------------------------------------------------------------------------------------------------------------------------------------------------------------------------------------------------+\n",
            "\n"
          ]
        }
      ]
    },
    {
      "cell_type": "code",
      "source": [
        "# Explode the 'nodes' array to get individual characters\n",
        "characters_DF = sw_DF.selectExpr(\"explode(nodes) as node\") \\\n",
        "                     .selectExpr(\"node.name as name\", \"node.value as interactions\", \"node.colour as colour\")\n",
        "\n",
        "# Show the extracted data\n",
        "characters_DF.show(truncate=False)\n"
      ],
      "metadata": {
        "colab": {
          "base_uri": "https://localhost:8080/"
        },
        "id": "x2_LatkN_4Gn",
        "outputId": "4121c24a-90ec-4522-e93a-1fe82ded4907"
      },
      "execution_count": 16,
      "outputs": [
        {
          "output_type": "stream",
          "name": "stdout",
          "text": [
            "+--------------+------------+-------+\n",
            "|name          |interactions|colour |\n",
            "+--------------+------------+-------+\n",
            "|DARTH VADER   |190         |#000000|\n",
            "|R2-D2         |171         |#bde0f6|\n",
            "|CHEWBACCA     |145         |#A0522D|\n",
            "|BB-8          |40          |#eb5d00|\n",
            "|QUI-GON       |62          |#4f4fb1|\n",
            "|NUTE GUNRAY   |25          |#808080|\n",
            "|PK-4          |4           |#808080|\n",
            "|TC-14         |5           |#808080|\n",
            "|OBI-WAN       |148         |#48D1CC|\n",
            "|DOFINE        |4           |#808080|\n",
            "|RUNE          |11          |#808080|\n",
            "|TEY HOW       |5           |#808080|\n",
            "|EMPEROR       |52          |#191970|\n",
            "|CAPTAIN PANAKA|20          |#808080|\n",
            "|SIO BIBBLE    |9           |#808080|\n",
            "|JAR JAR       |42          |#9a9a00|\n",
            "|TARPALS       |4           |#808080|\n",
            "|BOSS NASS     |5           |#808080|\n",
            "|PADME         |75          |#DDA0DD|\n",
            "|RIC OLIE      |12          |#808080|\n",
            "+--------------+------------+-------+\n",
            "only showing top 20 rows\n",
            "\n"
          ]
        }
      ]
    },
    {
      "cell_type": "code",
      "source": [
        "# Count the number of distinct characters\n",
        "num_characters = characters_DF.select(\"name\").distinct().count()\n",
        "print(f\"Number of different characters: {num_characters}\")"
      ],
      "metadata": {
        "colab": {
          "base_uri": "https://localhost:8080/"
        },
        "id": "qx-T3dKSAitQ",
        "outputId": "7699cf3d-5d85-4545-b851-86da9fd3173c"
      },
      "execution_count": 17,
      "outputs": [
        {
          "output_type": "stream",
          "name": "stdout",
          "text": [
            "Number of different characters: 111\n"
          ]
        }
      ]
    },
    {
      "cell_type": "code",
      "source": [
        "# Find the character with the maximum interactions\n",
        "central_character = characters_DF.orderBy(\"interactions\", ascending=False).first()\n",
        "print(f\"Central character: {central_character['name']} with {central_character['interactions']} interactions\")"
      ],
      "metadata": {
        "colab": {
          "base_uri": "https://localhost:8080/"
        },
        "id": "8Xe_-aitB38G",
        "outputId": "4762fb82-c029-4829-eefe-4d5e704fee88"
      },
      "execution_count": 21,
      "outputs": [
        {
          "output_type": "stream",
          "name": "stdout",
          "text": [
            "Central character: DARTH VADER with 190 interactions\n"
          ]
        }
      ]
    },
    {
      "cell_type": "code",
      "source": [
        "from pyspark.sql.functions import col, explode, lit\n",
        "\n",
        "# Create a DataFrame for edges (pairwise connections between all characters)\n",
        "edges_DF = characters_DF.crossJoin(characters_DF.withColumnRenamed(\"name\", \"name_1\")) \\\n",
        "                        .filter(col(\"name\") != col(\"name_1\")) \\\n",
        "                        .select(col(\"name\").alias(\"src\"), col(\"name_1\").alias(\"dst\"))\n",
        "\n",
        "# Show the edges\n",
        "edges_DF.show(truncate=False)"
      ],
      "metadata": {
        "colab": {
          "base_uri": "https://localhost:8080/"
        },
        "id": "VOykS-q9CIld",
        "outputId": "bd2333e3-dd4f-482f-8bac-b1987d42c115"
      },
      "execution_count": 22,
      "outputs": [
        {
          "output_type": "stream",
          "name": "stdout",
          "text": [
            "+-----------+--------------+\n",
            "|src        |dst           |\n",
            "+-----------+--------------+\n",
            "|DARTH VADER|R2-D2         |\n",
            "|DARTH VADER|CHEWBACCA     |\n",
            "|DARTH VADER|BB-8          |\n",
            "|DARTH VADER|QUI-GON       |\n",
            "|DARTH VADER|NUTE GUNRAY   |\n",
            "|DARTH VADER|PK-4          |\n",
            "|DARTH VADER|TC-14         |\n",
            "|DARTH VADER|OBI-WAN       |\n",
            "|DARTH VADER|DOFINE        |\n",
            "|DARTH VADER|RUNE          |\n",
            "|DARTH VADER|TEY HOW       |\n",
            "|DARTH VADER|EMPEROR       |\n",
            "|DARTH VADER|CAPTAIN PANAKA|\n",
            "|DARTH VADER|SIO BIBBLE    |\n",
            "|DARTH VADER|JAR JAR       |\n",
            "|DARTH VADER|TARPALS       |\n",
            "|DARTH VADER|BOSS NASS     |\n",
            "|DARTH VADER|PADME         |\n",
            "|DARTH VADER|RIC OLIE      |\n",
            "|DARTH VADER|WATTO         |\n",
            "+-----------+--------------+\n",
            "only showing top 20 rows\n",
            "\n"
          ]
        }
      ]
    },
    {
      "cell_type": "code",
      "source": [
        "from graphframes import GraphFrame\n",
        "\n",
        "# Create a GraphFrame\n",
        "vertices = characters_DF.select(col(\"name\").alias(\"id\"))\n",
        "graph = GraphFrame(vertices, edges_DF)\n",
        "\n",
        "# Run PageRank\n",
        "page_rank = graph.pageRank(resetProbability=0.15, maxIter=10)\n",
        "\n",
        "# Show PageRank results\n",
        "page_rank.vertices.select(\"id\", \"pagerank\").orderBy(\"pagerank\", ascending=False).show(truncate=False)\n",
        "\n",
        "# Find the character with the highest rank\n",
        "highest_rank = page_rank.vertices.orderBy(\"pagerank\", ascending=False).first()\n",
        "print(f\"Character with highest PageRank: {highest_rank['id']} with rank {highest_rank['pagerank']}\")\n"
      ],
      "metadata": {
        "colab": {
          "base_uri": "https://localhost:8080/"
        },
        "id": "KpnnqWSsD7sI",
        "outputId": "1b5e8688-5381-4cbc-e2d1-21ca15d8b437"
      },
      "execution_count": 23,
      "outputs": [
        {
          "output_type": "stream",
          "name": "stdout",
          "text": [
            "+--------------+------------------+\n",
            "|id            |pagerank          |\n",
            "+--------------+------------------+\n",
            "|DARTH VADER   |0.9999999999999987|\n",
            "|R2-D2         |0.9999999999999987|\n",
            "|CHEWBACCA     |0.9999999999999987|\n",
            "|BB-8          |0.9999999999999987|\n",
            "|QUI-GON       |0.9999999999999987|\n",
            "|NUTE GUNRAY   |0.9999999999999987|\n",
            "|PK-4          |0.9999999999999987|\n",
            "|TC-14         |0.9999999999999987|\n",
            "|OBI-WAN       |0.9999999999999987|\n",
            "|DOFINE        |0.9999999999999987|\n",
            "|RUNE          |0.9999999999999987|\n",
            "|TEY HOW       |0.9999999999999987|\n",
            "|EMPEROR       |0.9999999999999987|\n",
            "|CAPTAIN PANAKA|0.9999999999999987|\n",
            "|SIO BIBBLE    |0.9999999999999987|\n",
            "|JAR JAR       |0.9999999999999987|\n",
            "|TARPALS       |0.9999999999999987|\n",
            "|BOSS NASS     |0.9999999999999987|\n",
            "|PADME         |0.9999999999999987|\n",
            "|RIC OLIE      |0.9999999999999987|\n",
            "+--------------+------------------+\n",
            "only showing top 20 rows\n",
            "\n",
            "Character with highest PageRank: DARTH VADER with rank 0.9999999999999987\n"
          ]
        }
      ]
    },
    {
      "cell_type": "code",
      "source": [],
      "metadata": {
        "id": "aOE4YJKfD8Jb"
      },
      "execution_count": null,
      "outputs": []
    }
  ]
}