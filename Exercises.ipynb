{
  "nbformat": 4,
  "nbformat_minor": 0,
  "metadata": {
    "colab": {
      "provenance": [],
      "collapsed_sections": [
        "HVKsdEbEVi3T",
        "T3ULPx4Y1LiR"
      ],
      "authorship_tag": "ABX9TyMQpCjV4+3kPpBEh0QbQHrA",
      "include_colab_link": true
    },
    "kernelspec": {
      "name": "python3",
      "display_name": "Python 3"
    },
    "language_info": {
      "name": "python"
    }
  },
  "cells": [
    {
      "cell_type": "markdown",
      "metadata": {
        "id": "view-in-github",
        "colab_type": "text"
      },
      "source": [
        "<a href=\"https://colab.research.google.com/github/PaulSerin/Big-Data-Framework/blob/main/Exercises.ipynb\" target=\"_parent\"><img src=\"https://colab.research.google.com/assets/colab-badge.svg\" alt=\"Open In Colab\"/></a>"
      ]
    },
    {
      "cell_type": "markdown",
      "source": [
        "# **Exercises**"
      ],
      "metadata": {
        "id": "rF2yIjKnS_5V"
      }
    },
    {
      "cell_type": "markdown",
      "source": [
        "## *Spark environment setup*\n",
        "\n",
        "\n"
      ],
      "metadata": {
        "id": "HVKsdEbEVi3T"
      }
    },
    {
      "cell_type": "code",
      "execution_count": 14,
      "metadata": {
        "colab": {
          "base_uri": "https://localhost:8080/"
        },
        "id": "FtjPnwPPS_PC",
        "outputId": "fb34654b-e833-47f6-ba85-b78b2da28b45"
      },
      "outputs": [
        {
          "output_type": "stream",
          "name": "stdout",
          "text": [
            "\r0% [Working]\r            \rHit:1 https://cloud.r-project.org/bin/linux/ubuntu jammy-cran40/ InRelease\n",
            "Hit:2 https://developer.download.nvidia.com/compute/cuda/repos/ubuntu2204/x86_64  InRelease\n",
            "Hit:3 http://archive.ubuntu.com/ubuntu jammy InRelease\n",
            "Hit:4 http://security.ubuntu.com/ubuntu jammy-security InRelease\n",
            "Hit:5 http://archive.ubuntu.com/ubuntu jammy-updates InRelease\n",
            "Hit:6 http://archive.ubuntu.com/ubuntu jammy-backports InRelease\n",
            "Hit:7 https://r2u.stat.illinois.edu/ubuntu jammy InRelease\n",
            "Hit:8 https://ppa.launchpadcontent.net/deadsnakes/ppa/ubuntu jammy InRelease\n",
            "Hit:9 https://ppa.launchpadcontent.net/graphics-drivers/ppa/ubuntu jammy InRelease\n",
            "Hit:10 https://ppa.launchpadcontent.net/ubuntugis/ppa/ubuntu jammy InRelease\n",
            "Reading package lists... Done\n",
            "W: Skipping acquire of configured file 'main/source/Sources' as repository 'https://r2u.stat.illinois.edu/ubuntu jammy InRelease' does not seem to provide it (sources.list entry misspelt?)\n",
            "--2024-11-26 08:22:45--  http://apache.osuosl.org/spark/spark-3.5.3/spark-3.5.3-bin-hadoop3.tgz\n",
            "Resolving apache.osuosl.org (apache.osuosl.org)... 64.50.236.52, 64.50.233.100, 140.211.166.134, ...\n",
            "Connecting to apache.osuosl.org (apache.osuosl.org)|64.50.236.52|:80... connected.\n",
            "HTTP request sent, awaiting response... 200 OK\n",
            "Length: 400864419 (382M) [application/x-gzip]\n",
            "Saving to: ‘spark-3.5.3-bin-hadoop3.tgz’\n",
            "\n",
            "spark-3.5.3-bin-had 100%[===================>] 382.29M  19.4MB/s    in 27s     \n",
            "\n",
            "2024-11-26 08:23:12 (14.1 MB/s) - ‘spark-3.5.3-bin-hadoop3.tgz’ saved [400864419/400864419]\n",
            "\n",
            "spark-3.5.3-bin-hadoop3.tgz\n"
          ]
        }
      ],
      "source": [
        "import os\n",
        "\n",
        "os.environ[\"SPARK_VERSION\"] = \"spark-3.5.3\"\n",
        "!apt-get update\n",
        "!apt-get install openjdk-8-jdk-headless -qq > /dev/null\n",
        "!wget  http://apache.osuosl.org/spark/$SPARK_VERSION/$SPARK_VERSION-bin-hadoop3.tgz\n",
        "!tar xf $SPARK_VERSION-bin-hadoop3.tgz\n",
        "!echo $SPARK_VERSION-bin-hadoop3.tgz\n",
        "!rm $SPARK_VERSION-bin-hadoop3.tgz\n",
        "!pip install -q findspark"
      ]
    },
    {
      "cell_type": "code",
      "source": [
        "import os\n",
        "os.environ[\"JAVA_HOME\"] = \"/usr/lib/jvm/java-8-openjdk-amd64\"\n",
        "os.environ[\"SPARK_HOME\"] = \"/content/spark/\"\n",
        "os.environ[\"DRIVE_DATA\"] = \"/content/gdrive/My Drive/Big Data Framework/data/\"\n",
        "\n",
        "!rm /content/spark\n",
        "!ln -s /content/$SPARK_VERSION-bin-hadoop3 /content/spark\n",
        "!export PATH=$PATH:$SPARK_HOME/bin:$SPARK_HOME/sbin\n",
        "!echo $SPARK_HOME\n",
        "!env |grep  \"DRIVE_DATA\""
      ],
      "metadata": {
        "colab": {
          "base_uri": "https://localhost:8080/"
        },
        "id": "8maMDLUJThlo",
        "outputId": "03cdb9d7-9715-4e41-cec6-c02a68118087"
      },
      "execution_count": 15,
      "outputs": [
        {
          "output_type": "stream",
          "name": "stdout",
          "text": [
            "/content/spark/\n",
            "DRIVE_DATA=/content/gdrive/My Drive/Big Data Framework/data/\n"
          ]
        }
      ]
    },
    {
      "cell_type": "code",
      "source": [
        "!python -V\n",
        "\n",
        "import findspark\n",
        "findspark.init()\n",
        "\n",
        "from pyspark import SparkContext\n",
        "sc = SparkContext.getOrCreate()\n",
        "\n",
        "# Example: shows the PySpark version\n",
        "print(\"PySpark version {0}\".format(sc.version))\n",
        "\n",
        "# Example: parallelise an array and show the 2 first elements\n",
        "sc.parallelize([2, 3, 4, 5, 6]).cache().take(2)"
      ],
      "metadata": {
        "colab": {
          "base_uri": "https://localhost:8080/"
        },
        "id": "LlieYwSpTjOX",
        "outputId": "26471fe9-de5b-42bb-9d5e-fd82852b48e0"
      },
      "execution_count": 16,
      "outputs": [
        {
          "output_type": "stream",
          "name": "stdout",
          "text": [
            "Python 3.10.12\n",
            "PySpark version 3.5.3\n"
          ]
        },
        {
          "output_type": "execute_result",
          "data": {
            "text/plain": [
              "[2, 3]"
            ]
          },
          "metadata": {},
          "execution_count": 16
        }
      ]
    },
    {
      "cell_type": "code",
      "source": [
        "from pyspark.sql import SparkSession\n",
        "# We create a SparkSession object (or we retrieve it if it is already created)\n",
        "spark = SparkSession \\\n",
        ".builder \\\n",
        ".appName(\"My application\") \\\n",
        ".config(\"spark.some.config.option\", \"some-value\") \\\n",
        ".master(\"local[4]\") \\\n",
        ".getOrCreate()\n",
        "# We get the SparkContext\n",
        "sc = spark.sparkContext"
      ],
      "metadata": {
        "id": "EB18ZsqVTq_G"
      },
      "execution_count": 17,
      "outputs": []
    },
    {
      "cell_type": "code",
      "source": [
        "# Mount Google Drive\n",
        "from google.colab import drive\n",
        "drive.mount('/content/gdrive')"
      ],
      "metadata": {
        "colab": {
          "base_uri": "https://localhost:8080/"
        },
        "id": "g3Wof7pCTtEm",
        "outputId": "9bde0a8b-242c-4de8-da66-0cdc47f8d7ba"
      },
      "execution_count": 18,
      "outputs": [
        {
          "output_type": "stream",
          "name": "stdout",
          "text": [
            "Drive already mounted at /content/gdrive; to attempt to forcibly remount, call drive.mount(\"/content/gdrive\", force_remount=True).\n"
          ]
        }
      ]
    },
    {
      "cell_type": "markdown",
      "metadata": {
        "id": "T3ULPx4Y1LiR"
      },
      "source": [
        "## **Exercise 3.1: Word count**"
      ]
    },
    {
      "cell_type": "code",
      "execution_count": 19,
      "metadata": {
        "id": "c7Q_ljrX5RtE"
      },
      "outputs": [],
      "source": [
        "from pyspark.sql import functions as F\n",
        "# so that we can use the F.split() function."
      ]
    },
    {
      "cell_type": "markdown",
      "source": [
        "### Méthode 1 (Dataframe)"
      ],
      "metadata": {
        "id": "fEjuV31kaqpr"
      }
    },
    {
      "cell_type": "code",
      "source": [
        "from pyspark.sql import functions as F\n",
        "\n",
        "# Charger le fichier texte dans un DataFrame\n",
        "file_path = os.environ[\"DRIVE_DATA\"] + \"quijote.txt\"\n",
        "df = spark.read.text(file_path).withColumnRenamed(\"value\", \"line\")\n",
        "\n",
        "# Étape 2 : Compter les mots par ligne\n",
        "df_with_word_count = df.withColumn(\"word_count\", F.size(F.split(F.col(\"line\"), \" \")))\n",
        "df_with_word_count.show(10, truncate=False)\n",
        "\n",
        "# Étape 3 : Compter les mots dans tout le fichier\n",
        "total_word_count = df_with_word_count.agg(F.sum(\"word_count\").alias(\"total_word_count\"))\n",
        "total_word_count.show()\n"
      ],
      "metadata": {
        "colab": {
          "base_uri": "https://localhost:8080/"
        },
        "id": "nrHIf1flWkM2",
        "outputId": "d0bd05f7-cb7a-4d8e-9b42-64f42d94acd9"
      },
      "execution_count": 20,
      "outputs": [
        {
          "output_type": "stream",
          "name": "stdout",
          "text": [
            "+---------------------------------------------------------------------------+----------+\n",
            "|line                                                                       |word_count|\n",
            "+---------------------------------------------------------------------------+----------+\n",
            "|The Project Gutenberg EBook of Don Quijote, by Miguel de Cervantes Saavedra|12        |\n",
            "|                                                                           |1         |\n",
            "|This eBook is for the use of anyone anywhere at no cost and with           |14        |\n",
            "|almost no restrictions whatsoever.  You may copy it, give it away or       |13        |\n",
            "|re-use it under the terms of the Project Gutenberg License included        |11        |\n",
            "|with this eBook or online at www.gutenberg.net                             |7         |\n",
            "|                                                                           |1         |\n",
            "|                                                                           |1         |\n",
            "|Title: Don Quijote                                                         |3         |\n",
            "|                                                                           |1         |\n",
            "+---------------------------------------------------------------------------+----------+\n",
            "only showing top 10 rows\n",
            "\n",
            "+----------------+\n",
            "|total_word_count|\n",
            "+----------------+\n",
            "|          393764|\n",
            "+----------------+\n",
            "\n"
          ]
        }
      ]
    },
    {
      "cell_type": "markdown",
      "source": [
        "Problem : this method counts 1 word for empty lines.\n",
        "\n",
        "We will filter thoses empty lines before"
      ],
      "metadata": {
        "id": "HW3Se-lWbyvy"
      }
    },
    {
      "cell_type": "code",
      "source": [
        "df_non_empty = df.filter(F.col(\"line\").isNotNull() & (F.col(\"line\") != \"\"))\n",
        "df_with_word_count = df_non_empty.withColumn(\"word_count\", F.size(F.split(F.col(\"line\"), \" \")))\n",
        "df_with_word_count.show(10, truncate=False)"
      ],
      "metadata": {
        "id": "CS5fbCmKcPlo",
        "outputId": "926c41a0-2e60-4b94-8ee8-36f66f58dff4",
        "colab": {
          "base_uri": "https://localhost:8080/"
        }
      },
      "execution_count": 21,
      "outputs": [
        {
          "output_type": "stream",
          "name": "stdout",
          "text": [
            "+---------------------------------------------------------------------------+----------+\n",
            "|line                                                                       |word_count|\n",
            "+---------------------------------------------------------------------------+----------+\n",
            "|The Project Gutenberg EBook of Don Quijote, by Miguel de Cervantes Saavedra|12        |\n",
            "|This eBook is for the use of anyone anywhere at no cost and with           |14        |\n",
            "|almost no restrictions whatsoever.  You may copy it, give it away or       |13        |\n",
            "|re-use it under the terms of the Project Gutenberg License included        |11        |\n",
            "|with this eBook or online at www.gutenberg.net                             |7         |\n",
            "|Title: Don Quijote                                                         |3         |\n",
            "|Author: Miguel de Cervantes Saavedra                                       |5         |\n",
            "|Posting Date: April 27, 2010 [EBook #2000]                                 |7         |\n",
            "|Release Date: December, 1999                                               |4         |\n",
            "|Language: Spanish                                                          |2         |\n",
            "+---------------------------------------------------------------------------+----------+\n",
            "only showing top 10 rows\n",
            "\n"
          ]
        }
      ]
    },
    {
      "cell_type": "markdown",
      "source": [
        "### Méthode 2 (RDD)"
      ],
      "metadata": {
        "id": "_rvzdn8_amiD"
      }
    },
    {
      "cell_type": "code",
      "source": [
        "# Load the text file as an RDD\n",
        "rdd = sc.textFile(file_path)\n",
        "\n",
        "# Step 0: Filter out empty lines\n",
        "# Strip removes leading and trailing whitespaces, and we ensure the line is not empty\n",
        "rdd_non_empty = rdd.filter(lambda line: line.strip() != \"\")\n",
        "\n",
        "# Step 1: Count the number of words per line (excluding empty lines)\n",
        "# Split each non-empty line into words and count the number of words\n",
        "word_count_per_line = rdd_non_empty.map(lambda line: len(line.split(\" \")))\n",
        "print(\"Word count per line (excluding empty lines):\")\n",
        "print(word_count_per_line.take(10))  # Display the first 10 results\n",
        "\n",
        "# Step 2: Count the total number of words in the file (excluding empty lines)\n",
        "# Split all non-empty lines into words, flatten the resulting lists, and count the total\n",
        "total_word_count_rdd = rdd_non_empty.flatMap(lambda line: line.split(\" \")).count()\n",
        "print(\"Total word count in the file (excluding empty lines):\", total_word_count_rdd)\n"
      ],
      "metadata": {
        "colab": {
          "base_uri": "https://localhost:8080/"
        },
        "id": "Ph_2Rl7LX7o4",
        "outputId": "ef324e8e-5ae5-4b69-dadb-1235fa6c4621"
      },
      "execution_count": 22,
      "outputs": [
        {
          "output_type": "stream",
          "name": "stdout",
          "text": [
            "Word count per line (excluding empty lines):\n",
            "[12, 14, 13, 11, 7, 3, 5, 7, 4, 2]\n",
            "Total word count in the file (excluding empty lines): 387834\n"
          ]
        }
      ]
    },
    {
      "cell_type": "markdown",
      "source": [
        "### Méthode 3 (function SQL)"
      ],
      "metadata": {
        "id": "44Mg-Kd3auUc"
      }
    },
    {
      "cell_type": "code",
      "source": [
        "# Create a temporary view\n",
        "df.createOrReplaceTempView(\"lines\")\n",
        "\n",
        "# Step 1: Count the number of words per line (excluding empty lines)\n",
        "# Filter out rows where the line is NULL or empty\n",
        "word_count_query = \"\"\"\n",
        "SELECT line,\n",
        "       SIZE(SPLIT(line, ' ')) AS word_count\n",
        "FROM lines\n",
        "WHERE line IS NOT NULL AND line != ''\n",
        "\"\"\"\n",
        "df_word_count = spark.sql(word_count_query)\n",
        "df_word_count.show(10)  # Display the first 10 results\n",
        "\n",
        "# Step 2: Count the total number of words in the file (excluding empty lines)\n",
        "# Again, exclude rows where the line is NULL or empty\n",
        "total_word_count_query = \"\"\"\n",
        "SELECT SUM(SIZE(SPLIT(line, ' '))) AS total_word_count\n",
        "FROM lines\n",
        "WHERE line IS NOT NULL AND line != ''\n",
        "\"\"\"\n",
        "df_total_word_count = spark.sql(total_word_count_query)\n",
        "df_total_word_count.show()  # Display the total word count"
      ],
      "metadata": {
        "colab": {
          "base_uri": "https://localhost:8080/"
        },
        "id": "1Ju6PfeAavez",
        "outputId": "d5809e5f-9d8c-4dfa-ff2c-76fa61f7c629"
      },
      "execution_count": 23,
      "outputs": [
        {
          "output_type": "stream",
          "name": "stdout",
          "text": [
            "+--------------------+----------+\n",
            "|                line|word_count|\n",
            "+--------------------+----------+\n",
            "|The Project Guten...|        12|\n",
            "|This eBook is for...|        14|\n",
            "|almost no restric...|        13|\n",
            "|re-use it under t...|        11|\n",
            "|with this eBook o...|         7|\n",
            "|  Title: Don Quijote|         3|\n",
            "|Author: Miguel de...|         5|\n",
            "|Posting Date: Apr...|         7|\n",
            "|Release Date: Dec...|         4|\n",
            "|   Language: Spanish|         2|\n",
            "+--------------------+----------+\n",
            "only showing top 10 rows\n",
            "\n",
            "+----------------+\n",
            "|total_word_count|\n",
            "+----------------+\n",
            "|          387834|\n",
            "+----------------+\n",
            "\n"
          ]
        }
      ]
    },
    {
      "cell_type": "markdown",
      "source": [
        "## **Exercise 4.1: Pi Estimation**"
      ],
      "metadata": {
        "id": "1YH9-PfYT1Xa"
      }
    },
    {
      "cell_type": "markdown",
      "source": [
        "Using the Monte Carlo method, estimate the value of Pi. Use the random() method from the random class."
      ],
      "metadata": {
        "id": "Y410Vk6LT_-H"
      }
    },
    {
      "cell_type": "code",
      "source": [
        "import random\n",
        "import numpy as np"
      ],
      "metadata": {
        "id": "YdVciAgNTu40"
      },
      "execution_count": 24,
      "outputs": []
    },
    {
      "cell_type": "markdown",
      "source": [
        "### With RDD :"
      ],
      "metadata": {
        "id": "V_MnlIAx3Epc"
      }
    },
    {
      "cell_type": "code",
      "source": [
        "from pyspark.sql import SparkSession\n",
        "\n",
        "# Step 1: Initialize SparkSession\n",
        "spark = SparkSession.builder.appName(\"Pi Estimation\").getOrCreate()\n",
        "\n",
        "# Step 2: Number of points to simulate\n",
        "NUM_POINTS = 1000000\n",
        "\n",
        "# Step 3: Create an RDD with NUM_POINTS random samples\n",
        "rdd = spark.sparkContext.parallelize(range(NUM_POINTS))\n",
        "\n",
        "# Step 4: Function to determine if a point is inside the unit circle\n",
        "def is_inside_unit_circle(_):\n",
        "    x = random.random()\n",
        "    y = random.random()\n",
        "    return x**2 + y**2 <= 1\n",
        "\n",
        "# Step 5: Map points to 1 if inside circle, 0 otherwise\n",
        "points_inside_circle = rdd.map(is_inside_unit_circle).filter(lambda inside: inside == True).count()\n",
        "\n",
        "# Step 6: Calculate Pi\n",
        "pi_estimate = 4 * (points_inside_circle / NUM_POINTS)\n",
        "\n",
        "# Step 7: Output the result\n",
        "print(f\"Estimated value of Pi using {NUM_POINTS} points: {pi_estimate}\")\n",
        "\n",
        "spark.stop()\n"
      ],
      "metadata": {
        "colab": {
          "base_uri": "https://localhost:8080/"
        },
        "id": "K5TMjlA5zDL4",
        "outputId": "122bade8-7f8f-40f6-b26f-3a35af99bab0"
      },
      "execution_count": 25,
      "outputs": [
        {
          "output_type": "stream",
          "name": "stdout",
          "text": [
            "Estimated value of Pi using 1000000 points: 3.143184\n"
          ]
        }
      ]
    },
    {
      "cell_type": "markdown",
      "source": [
        "### With a Dataframe :"
      ],
      "metadata": {
        "id": "3bUa_BvR2_a9"
      }
    },
    {
      "cell_type": "code",
      "source": [
        "from pyspark.sql.functions import rand, pow, col\n",
        "\n",
        "# Step 0: Initialize SparkSession\n",
        "spark = SparkSession.builder.appName(\"Pi Estimation\").getOrCreate()\n",
        "\n",
        "# Step 1: Number of points to simulate\n",
        "NUM_POINTS = 1000000  # Increase for more accuracy\n",
        "\n",
        "# Step 2: Create a DataFrame with random x and y points\n",
        "df_points = (\n",
        "    spark.range(NUM_POINTS)\n",
        "    .select(\n",
        "        rand(seed=0).alias(\"x\"),\n",
        "        rand(seed=1).alias(\"y\")\n",
        "    )\n",
        ")\n",
        "\n",
        "# Step 3: Add a column to determine if the point is inside the unit circle\n",
        "df_inside_circle = df_points.withColumn(\n",
        "    \"inside_circle\", (pow(col(\"x\"), 2) + pow(col(\"y\"), 2) <= 1).cast(\"int\")\n",
        ")\n",
        "\n",
        "# Step 4: Count points inside the circle\n",
        "points_inside_circle = df_inside_circle.agg({\"inside_circle\": \"sum\"}).collect()[0][0]\n",
        "\n",
        "# Step 5: Calculate Pi\n",
        "pi_estimate = 4 * (points_inside_circle / NUM_POINTS)\n",
        "\n",
        "# Step 6: Output the result\n",
        "print(f\"Estimated value of Pi using {NUM_POINTS} points: {pi_estimate}\")\n",
        "\n",
        "spark.stop()\n"
      ],
      "metadata": {
        "colab": {
          "base_uri": "https://localhost:8080/"
        },
        "id": "9nnpiWGIz_j8",
        "outputId": "a1e8b925-0f34-42d4-a771-1788f188df01"
      },
      "execution_count": 26,
      "outputs": [
        {
          "output_type": "stream",
          "name": "stdout",
          "text": [
            "Estimated value of Pi using 1000000 points: 3.137908\n"
          ]
        }
      ]
    },
    {
      "cell_type": "markdown",
      "metadata": {
        "id": "2vPYCnS8ERmg"
      },
      "source": [
        "## Exercise 4.2: Inspect a log file\n",
        "\n",
        "Upload the file /var/log/syslog from your computer to this notebook. Then, select only the \"bad lines\": WARNING and ERROR messages."
      ]
    },
    {
      "cell_type": "code",
      "source": [
        "from google.colab import files\n",
        "uploaded = files.upload()"
      ],
      "metadata": {
        "colab": {
          "base_uri": "https://localhost:8080/",
          "height": 74
        },
        "id": "RTo7oJej43Zv",
        "outputId": "52a97468-f46a-4b8f-d087-f805edf2680e"
      },
      "execution_count": 27,
      "outputs": [
        {
          "output_type": "display_data",
          "data": {
            "text/plain": [
              "<IPython.core.display.HTML object>"
            ],
            "text/html": [
              "\n",
              "     <input type=\"file\" id=\"files-c20b188e-317f-4f17-9f7e-0c0c8052fd6d\" name=\"files[]\" multiple disabled\n",
              "        style=\"border:none\" />\n",
              "     <output id=\"result-c20b188e-317f-4f17-9f7e-0c0c8052fd6d\">\n",
              "      Upload widget is only available when the cell has been executed in the\n",
              "      current browser session. Please rerun this cell to enable.\n",
              "      </output>\n",
              "      <script>// Copyright 2017 Google LLC\n",
              "//\n",
              "// Licensed under the Apache License, Version 2.0 (the \"License\");\n",
              "// you may not use this file except in compliance with the License.\n",
              "// You may obtain a copy of the License at\n",
              "//\n",
              "//      http://www.apache.org/licenses/LICENSE-2.0\n",
              "//\n",
              "// Unless required by applicable law or agreed to in writing, software\n",
              "// distributed under the License is distributed on an \"AS IS\" BASIS,\n",
              "// WITHOUT WARRANTIES OR CONDITIONS OF ANY KIND, either express or implied.\n",
              "// See the License for the specific language governing permissions and\n",
              "// limitations under the License.\n",
              "\n",
              "/**\n",
              " * @fileoverview Helpers for google.colab Python module.\n",
              " */\n",
              "(function(scope) {\n",
              "function span(text, styleAttributes = {}) {\n",
              "  const element = document.createElement('span');\n",
              "  element.textContent = text;\n",
              "  for (const key of Object.keys(styleAttributes)) {\n",
              "    element.style[key] = styleAttributes[key];\n",
              "  }\n",
              "  return element;\n",
              "}\n",
              "\n",
              "// Max number of bytes which will be uploaded at a time.\n",
              "const MAX_PAYLOAD_SIZE = 100 * 1024;\n",
              "\n",
              "function _uploadFiles(inputId, outputId) {\n",
              "  const steps = uploadFilesStep(inputId, outputId);\n",
              "  const outputElement = document.getElementById(outputId);\n",
              "  // Cache steps on the outputElement to make it available for the next call\n",
              "  // to uploadFilesContinue from Python.\n",
              "  outputElement.steps = steps;\n",
              "\n",
              "  return _uploadFilesContinue(outputId);\n",
              "}\n",
              "\n",
              "// This is roughly an async generator (not supported in the browser yet),\n",
              "// where there are multiple asynchronous steps and the Python side is going\n",
              "// to poll for completion of each step.\n",
              "// This uses a Promise to block the python side on completion of each step,\n",
              "// then passes the result of the previous step as the input to the next step.\n",
              "function _uploadFilesContinue(outputId) {\n",
              "  const outputElement = document.getElementById(outputId);\n",
              "  const steps = outputElement.steps;\n",
              "\n",
              "  const next = steps.next(outputElement.lastPromiseValue);\n",
              "  return Promise.resolve(next.value.promise).then((value) => {\n",
              "    // Cache the last promise value to make it available to the next\n",
              "    // step of the generator.\n",
              "    outputElement.lastPromiseValue = value;\n",
              "    return next.value.response;\n",
              "  });\n",
              "}\n",
              "\n",
              "/**\n",
              " * Generator function which is called between each async step of the upload\n",
              " * process.\n",
              " * @param {string} inputId Element ID of the input file picker element.\n",
              " * @param {string} outputId Element ID of the output display.\n",
              " * @return {!Iterable<!Object>} Iterable of next steps.\n",
              " */\n",
              "function* uploadFilesStep(inputId, outputId) {\n",
              "  const inputElement = document.getElementById(inputId);\n",
              "  inputElement.disabled = false;\n",
              "\n",
              "  const outputElement = document.getElementById(outputId);\n",
              "  outputElement.innerHTML = '';\n",
              "\n",
              "  const pickedPromise = new Promise((resolve) => {\n",
              "    inputElement.addEventListener('change', (e) => {\n",
              "      resolve(e.target.files);\n",
              "    });\n",
              "  });\n",
              "\n",
              "  const cancel = document.createElement('button');\n",
              "  inputElement.parentElement.appendChild(cancel);\n",
              "  cancel.textContent = 'Cancel upload';\n",
              "  const cancelPromise = new Promise((resolve) => {\n",
              "    cancel.onclick = () => {\n",
              "      resolve(null);\n",
              "    };\n",
              "  });\n",
              "\n",
              "  // Wait for the user to pick the files.\n",
              "  const files = yield {\n",
              "    promise: Promise.race([pickedPromise, cancelPromise]),\n",
              "    response: {\n",
              "      action: 'starting',\n",
              "    }\n",
              "  };\n",
              "\n",
              "  cancel.remove();\n",
              "\n",
              "  // Disable the input element since further picks are not allowed.\n",
              "  inputElement.disabled = true;\n",
              "\n",
              "  if (!files) {\n",
              "    return {\n",
              "      response: {\n",
              "        action: 'complete',\n",
              "      }\n",
              "    };\n",
              "  }\n",
              "\n",
              "  for (const file of files) {\n",
              "    const li = document.createElement('li');\n",
              "    li.append(span(file.name, {fontWeight: 'bold'}));\n",
              "    li.append(span(\n",
              "        `(${file.type || 'n/a'}) - ${file.size} bytes, ` +\n",
              "        `last modified: ${\n",
              "            file.lastModifiedDate ? file.lastModifiedDate.toLocaleDateString() :\n",
              "                                    'n/a'} - `));\n",
              "    const percent = span('0% done');\n",
              "    li.appendChild(percent);\n",
              "\n",
              "    outputElement.appendChild(li);\n",
              "\n",
              "    const fileDataPromise = new Promise((resolve) => {\n",
              "      const reader = new FileReader();\n",
              "      reader.onload = (e) => {\n",
              "        resolve(e.target.result);\n",
              "      };\n",
              "      reader.readAsArrayBuffer(file);\n",
              "    });\n",
              "    // Wait for the data to be ready.\n",
              "    let fileData = yield {\n",
              "      promise: fileDataPromise,\n",
              "      response: {\n",
              "        action: 'continue',\n",
              "      }\n",
              "    };\n",
              "\n",
              "    // Use a chunked sending to avoid message size limits. See b/62115660.\n",
              "    let position = 0;\n",
              "    do {\n",
              "      const length = Math.min(fileData.byteLength - position, MAX_PAYLOAD_SIZE);\n",
              "      const chunk = new Uint8Array(fileData, position, length);\n",
              "      position += length;\n",
              "\n",
              "      const base64 = btoa(String.fromCharCode.apply(null, chunk));\n",
              "      yield {\n",
              "        response: {\n",
              "          action: 'append',\n",
              "          file: file.name,\n",
              "          data: base64,\n",
              "        },\n",
              "      };\n",
              "\n",
              "      let percentDone = fileData.byteLength === 0 ?\n",
              "          100 :\n",
              "          Math.round((position / fileData.byteLength) * 100);\n",
              "      percent.textContent = `${percentDone}% done`;\n",
              "\n",
              "    } while (position < fileData.byteLength);\n",
              "  }\n",
              "\n",
              "  // All done.\n",
              "  yield {\n",
              "    response: {\n",
              "      action: 'complete',\n",
              "    }\n",
              "  };\n",
              "}\n",
              "\n",
              "scope.google = scope.google || {};\n",
              "scope.google.colab = scope.google.colab || {};\n",
              "scope.google.colab._files = {\n",
              "  _uploadFiles,\n",
              "  _uploadFilesContinue,\n",
              "};\n",
              "})(self);\n",
              "</script> "
            ]
          },
          "metadata": {}
        },
        {
          "output_type": "stream",
          "name": "stdout",
          "text": [
            "Saving syslog to syslog (1)\n"
          ]
        }
      ]
    },
    {
      "cell_type": "code",
      "source": [
        "!ls"
      ],
      "metadata": {
        "colab": {
          "base_uri": "https://localhost:8080/"
        },
        "id": "Demr8raN4yIx",
        "outputId": "8bda3ed0-d260-4e06-c2e6-41152fc7531c"
      },
      "execution_count": 28,
      "outputs": [
        {
          "output_type": "stream",
          "name": "stdout",
          "text": [
            " gdrive   sample_data   spark   spark-3.5.3-bin-hadoop3   syslog  'syslog (1)'\n"
          ]
        }
      ]
    },
    {
      "cell_type": "code",
      "execution_count": 29,
      "metadata": {
        "id": "VR-Men-G5ZdZ",
        "colab": {
          "base_uri": "https://localhost:8080/"
        },
        "outputId": "06155586-379e-4b4d-bf79-23b27a6dd267"
      },
      "outputs": [
        {
          "output_type": "stream",
          "name": "stdout",
          "text": [
            "Bad lines (WARNING and ERROR messages):\n",
            "Nov 25 17:22:07 paul-serin ovpn-cytech.students[1358]: WARNING: file '/data/CYTECH-VPN-CLE-PERSONNELLE/client.p12' is group or others accessible\n",
            "Nov 25 17:22:07 paul-serin ovpn-cytech.students[1358]: WARNING: Your certificate has expired!\n",
            "Nov 25 17:22:07 paul-serin gnome-session[1456]: gnome-session-binary[1456]: WARNING: Falling back to non-systemd startup procedure due to error: GDBus.Error:org.freedesktop.DBus.Error.Spawn.ChildExited: Process org.freedesktop.systemd1 exited with status 1\n",
            "Nov 25 17:22:07 paul-serin gnome-session-binary[1456]: WARNING: Falling back to non-systemd startup procedure due to error: GDBus.Error:org.freedesktop.DBus.Error.Spawn.ChildExited: Process org.freedesktop.systemd1 exited with status 1\n",
            "Nov 25 17:22:15 paul-serin gnome-shell[1481]: JS WARNING: [resource:///org/gnome/shell/ui/layout.js 24]: reference to undefined property \"MetaWindowXwayland\"\n",
            "Nov 25 17:22:21 paul-serin gnome-session[2098]: gnome-session-binary[2098]: WARNING: Could not parse desktop file nautilus-autostart.desktop or it references a not found TryExec binary\n",
            "Nov 25 17:22:21 paul-serin gnome-session-binary[2098]: WARNING: Could not parse desktop file nautilus-autostart.desktop or it references a not found TryExec binary\n",
            "Nov 25 17:22:22 paul-serin ovpn-cytech.students[1358]: WARNING: Your certificate has expired!\n",
            "Nov 25 17:22:29 paul-serin gnome-shell[2515]: [2509:2509:1125/172229.203746:ERROR:object_proxy.cc(576)] Failed to call method: org.freedesktop.ScreenSaver.GetActive: object_path= /org/freedesktop/ScreenSaver: org.freedesktop.DBus.Error.NotSupported: This method is not implemented\n",
            "Nov 25 17:22:32 paul-serin gnome-shell[2515]: [2509:2537:1125/172232.122190:ERROR:registration_request.cc(274)] Registration URL fetching failed.\n",
            "Nov 25 17:22:32 paul-serin gnome-shell[2515]: [2509:2537:1125/172232.122548:ERROR:registration_request.cc(274)] Registration URL fetching failed.\n",
            "Nov 25 17:22:32 paul-serin gnome-shell[2515]: [2509:2537:1125/172232.122613:ERROR:registration_request.cc(274)] Registration URL fetching failed.\n",
            "Nov 25 17:22:32 paul-serin gnome-shell[2515]: [2509:2537:1125/172232.122660:ERROR:registration_request.cc(274)] Registration URL fetching failed.\n",
            "Nov 25 17:22:32 paul-serin gnome-shell[2515]: [2509:2509:1125/172232.852309:ERROR:interface_endpoint_client.cc(725)] Message 1 rejected by interface blink.mojom.WidgetHost\n",
            "Nov 25 17:22:32 paul-serin gnome-shell[2515]: [2509:2509:1125/172232.852532:ERROR:interface_endpoint_client.cc(725)] Message 1 rejected by interface blink.mojom.WidgetHost\n",
            "Nov 25 17:22:37 paul-serin ovpn-cytech.students[1358]: WARNING: Your certificate has expired!\n",
            "Nov 25 17:22:47 paul-serin gnome-shell[2515]: [2509:2509:1125/172247.136366:ERROR:account_info_fetcher.cc(62)] OnGetTokenFailure: Invalid credentials (credentials rejected by server).\n",
            "Nov 25 17:22:52 paul-serin ovpn-cytech.students[1358]: WARNING: Your certificate has expired!\n",
            "Nov 25 17:22:52 paul-serin gnome-shell[2515]: [2509:2537:1125/172252.845564:ERROR:registration_request.cc(291)] Registration response error message: DEPRECATED_ENDPOINT\n",
            "Nov 25 17:23:38 paul-serin gnome-shell[2515]: [2509:2537:1125/172338.434705:ERROR:registration_request.cc(291)] Registration response error message: DEPRECATED_ENDPOINT\n",
            "Nov 25 17:24:09 paul-serin ovpn-cytech.students[1358]: WARNING: Your certificate has expired!\n",
            "Nov 25 17:25:09 paul-serin gnome-shell[2515]: [2509:2537:1125/172509.535766:ERROR:registration_request.cc(291)] Registration response error message: DEPRECATED_ENDPOINT\n",
            "Nov 25 17:25:21 paul-serin discord_discord.desktop[5622]: [5622:1125/172521.737196:ERROR:zygote_host_impl_linux.cc(273)] Failed to adjust OOM score of renderer with pid 5783: Permission denied (13)\n",
            "Nov 25 17:25:22 paul-serin discord_discord.desktop[5810]: [5810:1125/172522.612847:ERROR:ffmpeg_common.cc(965)] Unsupported pixel format: -1\n",
            "Nov 25 17:25:24 paul-serin ovpn-cytech.students[1358]: WARNING: Your certificate has expired!\n",
            "Nov 25 17:25:33 paul-serin discord_discord.desktop[5622]: [5622:1125/172533.292692:ERROR:object_proxy.cc(576)] Failed to call method: org.freedesktop.login1.Manager.Inhibit: object_path= /org/freedesktop/login1: org.freedesktop.DBus.Error.AccessDenied: An AppArmor policy prevents this sender from sending this message to this recipient; type=\"method_call\", sender=\":1.170\" (uid=1000 pid=5622 comm=\"/snap/discord/216/usr/share/discord/Discord --use-\" label=\"snap.discord.discord (enforce)\") interface=\"org.freedesktop.login1.Manager\" member=\"Inhibit\" error name=\"(unset)\" requested_reply=\"0\" destination=\"org.freedesktop.login1\" (uid=0 pid=962 comm=\"/lib/systemd/systemd-logind \" label=\"unconfined\")\n",
            "Nov 25 17:25:36 paul-serin discord_discord.desktop[5622]: [5622:1125/172536.571434:ERROR:object_proxy.cc(576)] Failed to call method: org.freedesktop.Secret.Service.ReadAlias: object_path= /org/freedesktop/secrets: org.freedesktop.DBus.Error.AccessDenied: An AppArmor policy prevents this sender from sending this message to this recipient; type=\"method_call\", sender=\":1.123\" (uid=1000 pid=5622 comm=\"/snap/discord/216/usr/share/discord/Discord --use-\" label=\"snap.discord.discord (enforce)\") interface=\"org.freedesktop.Secret.Service\" member=\"ReadAlias\" error name=\"(unset)\" requested_reply=\"0\" destination=\"org.freedesktop.secrets\" (uid=1000 pid=1967 comm=\"/usr/bin/gnome-keyring-daemon --daemonize --login \" label=\"unconfined\")\n",
            "Nov 25 17:25:39 paul-serin discord_discord.desktop[5886]: [5886:1125/172539.449943:ERROR:ffmpeg_common.cc(965)] Unsupported pixel format: -1\n",
            "Nov 25 17:26:33 paul-serin discord_discord.desktop[5622]: [5622:1125/172633.190294:ERROR:atom_cache.cc(230)] Add chromium/from-privileged to kAtomsToCache\n",
            "Nov 25 17:26:39 paul-serin ovpn-cytech.students[1358]: WARNING: Your certificate has expired!\n",
            "Nov 25 17:26:50 paul-serin discord_discord.desktop[5622]: 17:26:50.279 › [UploaderBase.tsx] _handleError: undefined ({\"type\":\"ERROR_SOURCE_UNKNOWN\",\"msg\":\"Error: File upload9 failed to upload\"}) for Uploader11\n",
            "Nov 25 17:26:50 paul-serin discord_discord.desktop[5622]: 17:26:50.673 › [UploaderBase.tsx] _handleError: undefined ({\"type\":\"ERROR_SOURCE_UNKNOWN\",\"msg\":\"Error: Unhandled error. (undefined)\"}) for Uploader11\n",
            "Nov 25 17:27:01 paul-serin gnome-shell[2515]: [2509:2533:1125/172701.160397:ERROR:cert_verify_proc_builtin.cc(1063)] CertVerifyProcBuiltin for arel.cy-tech.fr failed:\n",
            "Nov 25 17:27:01 paul-serin gnome-shell[2515]: ERROR: Time is after notAfter\n",
            "Nov 25 17:27:01 paul-serin gnome-shell[2515]: [2571:2578:1125/172701.160792:ERROR:ssl_client_socket_impl.cc(882)] handshake failed; returned -1, SSL error code 1, net_error -201\n",
            "Nov 25 17:27:31 paul-serin discord_discord.desktop[5622]: 17:27:31.012 › [UploaderBase.tsx] _handleError: undefined ({\"type\":\"ERROR_SOURCE_UNKNOWN\",\"msg\":\"Error: File upload12 failed to upload\"}) for Uploader14\n",
            "Nov 25 17:27:31 paul-serin discord_discord.desktop[5622]: 17:27:31.352 › [UploaderBase.tsx] _handleError: undefined ({\"type\":\"ERROR_SOURCE_UNKNOWN\",\"msg\":\"Error: Unhandled error. (undefined)\"}) for Uploader14\n"
          ]
        }
      ],
      "source": [
        "from pyspark.sql import SparkSession\n",
        "\n",
        "# Step 1: Assuming a SparkSession is already active\n",
        "# If not, uncomment the line below to initialize it\n",
        "spark = SparkSession.builder.appName(\"Inspect Log File\").getOrCreate()\n",
        "\n",
        "# Step 2: Load the syslog file\n",
        "log_file_path = \"/content/syslog\"  # Replace with the uploaded file path\n",
        "rdd = spark.sparkContext.textFile(log_file_path)\n",
        "\n",
        "# Step 3: Filter lines containing \"WARNING\" or \"ERROR\"\n",
        "bad_lines = rdd.filter(lambda line: \"WARNING\" in line or \"ERROR\" in line)\n",
        "\n",
        "# Step 4: Collect and display the bad lines\n",
        "bad_lines_collected = bad_lines.collect()\n",
        "print(\"Bad lines (WARNING and ERROR messages):\")\n",
        "for line in bad_lines_collected:\n",
        "    print(line)\n"
      ]
    },
    {
      "cell_type": "markdown",
      "source": [
        "Dataframe approach"
      ],
      "metadata": {
        "id": "dRBstjBoKYNP"
      }
    },
    {
      "cell_type": "code",
      "source": [
        "from pyspark.sql.functions import col, when, lit\n",
        "\n",
        "# Step 1: Load the syslog file into a DataFrame\n",
        "df_logs = spark.read.text(log_file_path).withColumnRenamed(\"value\", \"line\")\n",
        "\n",
        "# Step 2: Add a column to classify lines as \"bad\" or \"good\"\n",
        "# A \"bad\" line contains \"WARNING\" or \"ERROR\", otherwise it is \"good\"\n",
        "df_logs = df_logs.withColumn(\n",
        "    \"is_bad\",\n",
        "    when((col(\"line\").contains(\"WARNING\")) | (col(\"line\").contains(\"ERROR\")), lit(1)).otherwise(lit(0))\n",
        ")\n",
        "\n",
        "# Step 3: Count the number of bad and good lines\n",
        "bad_lines_count = df_logs.filter(col(\"is_bad\") == 1).count()\n",
        "good_lines_count = df_logs.filter(col(\"is_bad\") == 0).count()\n",
        "\n",
        "# Step 4: Show results\n",
        "print(f\"Number of bad lines (WARNING or ERROR): {bad_lines_count}\")\n",
        "print(f\"Number of good lines: {good_lines_count}\")\n"
      ],
      "metadata": {
        "id": "S7OoWtMlKTls",
        "outputId": "b1970200-430c-4477-c513-3e33a8c03c72",
        "colab": {
          "base_uri": "https://localhost:8080/"
        }
      },
      "execution_count": 30,
      "outputs": [
        {
          "output_type": "stream",
          "name": "stdout",
          "text": [
            "Number of bad lines (WARNING or ERROR): 37\n",
            "Number of good lines: 10578\n"
          ]
        }
      ]
    }
  ]
}