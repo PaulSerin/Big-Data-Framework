{
  "cells": [
    {
      "cell_type": "markdown",
      "metadata": {
        "id": "view-in-github",
        "colab_type": "text"
      },
      "source": [
        "<a href=\"https://colab.research.google.com/github/PaulSerin/Big-Data-Framework/blob/main/BDF_02_Basic_operations_on_Spark.ipynb\" target=\"_parent\"><img src=\"https://colab.research.google.com/assets/colab-badge.svg\" alt=\"Open In Colab\"/></a>"
      ]
    },
    {
      "cell_type": "markdown",
      "metadata": {
        "id": "ZaD3xvwg2Nnl"
      },
      "source": [
        "#00 - Configuration of Apache Spark on Collaboratory\n",
        "\n",
        "---\n",
        "\n",
        "\n"
      ]
    },
    {
      "cell_type": "markdown",
      "metadata": {
        "id": "kvD4HBMi0ohY"
      },
      "source": [
        "###Installing Java, Spark, and Findspark\n",
        "\n",
        "\n",
        "---\n",
        "\n",
        "\n",
        "This code installs Apache Spark 2.2.1, Java 8, and [Findspark](https://github.com/minrk/findspark), a library that makes it easy for Python to find Spark."
      ]
    },
    {
      "cell_type": "code",
      "execution_count": 1,
      "metadata": {
        "id": "hifcN82z1o_a",
        "colab": {
          "base_uri": "https://localhost:8080/"
        },
        "outputId": "019f076c-0941-421e-9c9c-0715343e2c4c"
      },
      "outputs": [
        {
          "output_type": "stream",
          "name": "stdout",
          "text": [
            "\r0% [Working]\r            \rGet:1 https://cloud.r-project.org/bin/linux/ubuntu jammy-cran40/ InRelease [3,626 B]\n",
            "\r0% [Waiting for headers] [Waiting for headers] [1 InRelease 0 B/3,626 B 0%] [Waiting for headers] [W\r0% [Waiting for headers] [Waiting for headers] [Waiting for headers] [Waiting for headers] [Connecti\r                                                                                                    \rHit:2 http://archive.ubuntu.com/ubuntu jammy InRelease\n",
            "\r0% [Waiting for headers] [Waiting for headers] [Waiting for headers] [Connecting to ppa.launchpadcon\r                                                                                                    \rGet:3 https://developer.download.nvidia.com/compute/cuda/repos/ubuntu2204/x86_64  InRelease [1,581 B]\n",
            "\r0% [Waiting for headers] [Waiting for headers] [Waiting for headers] [3 InRelease 1,581 B/1,581 B 10\r0% [Waiting for headers] [Waiting for headers] [Waiting for headers] [Connecting to ppa.launchpadcon\r                                                                                                    \rGet:4 http://archive.ubuntu.com/ubuntu jammy-updates InRelease [128 kB]\n",
            "Get:5 http://security.ubuntu.com/ubuntu jammy-security InRelease [129 kB]\n",
            "Get:6 https://r2u.stat.illinois.edu/ubuntu jammy InRelease [6,555 B]\n",
            "Get:7 http://archive.ubuntu.com/ubuntu jammy-backports InRelease [127 kB]\n",
            "Hit:8 https://ppa.launchpadcontent.net/deadsnakes/ppa/ubuntu jammy InRelease\n",
            "Get:9 https://developer.download.nvidia.com/compute/cuda/repos/ubuntu2204/x86_64  Packages [1,172 kB]\n",
            "Hit:10 https://ppa.launchpadcontent.net/graphics-drivers/ppa/ubuntu jammy InRelease\n",
            "Hit:11 https://ppa.launchpadcontent.net/ubuntugis/ppa/ubuntu jammy InRelease\n",
            "Get:12 https://r2u.stat.illinois.edu/ubuntu jammy/main all Packages [8,501 kB]\n",
            "Get:13 http://archive.ubuntu.com/ubuntu jammy-updates/main amd64 Packages [2,734 kB]\n",
            "Get:14 http://archive.ubuntu.com/ubuntu jammy-updates/universe amd64 Packages [1,512 kB]\n",
            "Get:15 https://r2u.stat.illinois.edu/ubuntu jammy/main amd64 Packages [2,616 kB]\n",
            "Get:16 http://security.ubuntu.com/ubuntu jammy-security/main amd64 Packages [2,452 kB]\n",
            "Get:17 http://security.ubuntu.com/ubuntu jammy-security/restricted amd64 Packages [3,323 kB]\n",
            "Get:18 http://security.ubuntu.com/ubuntu jammy-security/universe amd64 Packages [1,223 kB]\n",
            "Fetched 23.9 MB in 4s (6,320 kB/s)\n",
            "Reading package lists... Done\n",
            "W: Skipping acquire of configured file 'main/source/Sources' as repository 'https://r2u.stat.illinois.edu/ubuntu jammy InRelease' does not seem to provide it (sources.list entry misspelt?)\n",
            "--2024-11-25 13:09:38--  http://apache.osuosl.org/spark/spark-3.5.3/spark-3.5.3-bin-hadoop3.tgz\n",
            "Resolving apache.osuosl.org (apache.osuosl.org)... 64.50.236.52, 64.50.233.100, 140.211.166.134, ...\n",
            "Connecting to apache.osuosl.org (apache.osuosl.org)|64.50.236.52|:80... connected.\n",
            "HTTP request sent, awaiting response... 200 OK\n",
            "Length: 400864419 (382M) [application/x-gzip]\n",
            "Saving to: ‘spark-3.5.3-bin-hadoop3.tgz’\n",
            "\n",
            "spark-3.5.3-bin-had 100%[===================>] 382.29M   115MB/s    in 4.4s    \n",
            "\n",
            "2024-11-25 13:09:42 (86.8 MB/s) - ‘spark-3.5.3-bin-hadoop3.tgz’ saved [400864419/400864419]\n",
            "\n",
            "spark-3.5.3-bin-hadoop3.tgz\n"
          ]
        }
      ],
      "source": [
        "import os\n",
        "\n",
        "os.environ[\"SPARK_VERSION\"] = \"spark-3.5.3\"\n",
        "!apt-get update\n",
        "!apt-get install openjdk-8-jdk-headless -qq > /dev/null\n",
        "!wget  http://apache.osuosl.org/spark/$SPARK_VERSION/$SPARK_VERSION-bin-hadoop3.tgz\n",
        "!tar xf $SPARK_VERSION-bin-hadoop3.tgz\n",
        "!echo $SPARK_VERSION-bin-hadoop3.tgz\n",
        "!rm $SPARK_VERSION-bin-hadoop3.tgz\n",
        "!pip install -q findspark"
      ]
    },
    {
      "cell_type": "markdown",
      "metadata": {
        "id": "b4Kjvk_h1AHl"
      },
      "source": [
        "### Set Environment Variables\n",
        "Set the locations where Spark and Java are installed."
      ]
    },
    {
      "cell_type": "code",
      "execution_count": 2,
      "metadata": {
        "id": "9T01OUpE1o7H",
        "colab": {
          "base_uri": "https://localhost:8080/"
        },
        "outputId": "90e5ddca-54f3-43f1-d6d6-e1f06ff4a95f"
      },
      "outputs": [
        {
          "output_type": "stream",
          "name": "stdout",
          "text": [
            "rm: cannot remove '/content/spark': No such file or directory\n",
            "/content/spark/\n",
            "DRIVE_DATA=/content/gdrive/My Drive/Big Data Framework/data/\n"
          ]
        }
      ],
      "source": [
        "import os\n",
        "os.environ[\"JAVA_HOME\"] = \"/usr/lib/jvm/java-8-openjdk-amd64\"\n",
        "os.environ[\"SPARK_HOME\"] = \"/content/spark/\"\n",
        "os.environ[\"DRIVE_DATA\"] = \"/content/gdrive/My Drive/Big Data Framework/data/\"\n",
        "\n",
        "!rm /content/spark\n",
        "!ln -s /content/$SPARK_VERSION-bin-hadoop3 /content/spark\n",
        "!export PATH=$PATH:$SPARK_HOME/bin:$SPARK_HOME/sbin\n",
        "!echo $SPARK_HOME\n",
        "!env |grep  \"DRIVE_DATA\""
      ]
    },
    {
      "cell_type": "markdown",
      "metadata": {
        "id": "NwU28K5f1H3P"
      },
      "source": [
        "### Start a SparkSession\n",
        "This will start a local Spark session."
      ]
    },
    {
      "cell_type": "code",
      "execution_count": 3,
      "metadata": {
        "id": "6AFTUVTO1o4S",
        "colab": {
          "base_uri": "https://localhost:8080/"
        },
        "outputId": "8df7ad49-043d-4977-b7ef-6d981fd938de"
      },
      "outputs": [
        {
          "output_type": "stream",
          "name": "stdout",
          "text": [
            "Python 3.10.12\n",
            "PySpark version 3.5.3\n"
          ]
        },
        {
          "output_type": "execute_result",
          "data": {
            "text/plain": [
              "[2, 3]"
            ]
          },
          "metadata": {},
          "execution_count": 3
        }
      ],
      "source": [
        "!python -V\n",
        "\n",
        "import findspark\n",
        "findspark.init()\n",
        "\n",
        "from pyspark import SparkContext\n",
        "sc = SparkContext.getOrCreate()\n",
        "\n",
        "# Example: shows the PySpark version\n",
        "print(\"PySpark version {0}\".format(sc.version))\n",
        "\n",
        "# Example: parallelise an array and show the 2 first elements\n",
        "sc.parallelize([2, 3, 4, 5, 6]).cache().take(2)"
      ]
    },
    {
      "cell_type": "code",
      "execution_count": 4,
      "metadata": {
        "id": "M1DWUdD31o0y"
      },
      "outputs": [],
      "source": [
        "from pyspark.sql import SparkSession\n",
        "# We create a SparkSession object (or we retrieve it if it is already created)\n",
        "spark = SparkSession \\\n",
        ".builder \\\n",
        ".appName(\"My application\") \\\n",
        ".config(\"spark.some.config.option\", \"some-value\") \\\n",
        ".master(\"local[4]\") \\\n",
        ".getOrCreate()\n",
        "# We get the SparkContext\n",
        "sc = spark.sparkContext"
      ]
    },
    {
      "cell_type": "code",
      "execution_count": 5,
      "metadata": {
        "id": "YR2QZfJZ1ovu",
        "colab": {
          "base_uri": "https://localhost:8080/"
        },
        "outputId": "3bed0884-86ae-42a7-cbae-a1b1b7fe4fc6"
      },
      "outputs": [
        {
          "output_type": "stream",
          "name": "stdout",
          "text": [
            "Mounted at /content/gdrive\n"
          ]
        }
      ],
      "source": [
        "# Mount Google Drive\n",
        "from google.colab import drive\n",
        "drive.mount('/content/gdrive')"
      ]
    },
    {
      "cell_type": "code",
      "execution_count": 6,
      "metadata": {
        "id": "WHHUo1a7Qp9m",
        "colab": {
          "base_uri": "https://localhost:8080/"
        },
        "outputId": "76c93e79-5087-443d-e7e7-e16e0dc04aa9"
      },
      "outputs": [
        {
          "output_type": "stream",
          "name": "stdout",
          "text": [
            "2015-summary.csv       books   cite75_99.txt.tar.bz2  italianPosts.csv.bz2  people.txt\t sw.txt\n",
            "apat63_99.txt.tar.bz2  by-day  country_codes.txt      myscript.py\t    quijote.txt\n"
          ]
        }
      ],
      "source": [
        "!ls \"$DRIVE_DATA\""
      ]
    },
    {
      "cell_type": "markdown",
      "metadata": {
        "id": "fkKGBZRvEwZL"
      },
      "source": [
        "\n",
        "\n",
        "---\n",
        "\n",
        "\n",
        "# 02 - Basic operations on Spark"
      ]
    },
    {
      "cell_type": "markdown",
      "metadata": {
        "id": "gA37mxxrFCtL"
      },
      "source": [
        "- Spark operates with immutable and distributed collections of elements, managing them in parallel\n",
        "    - Structured API: DataFrames and DataSets\n",
        "    - Low-level API: RDDs\n",
        "\n",
        "-   Operations on these collections\n",
        "    -   Creation\n",
        "    -   Transformations (sorting, filtering, etc.)\n",
        "    -   Actions to obtain results\n",
        "\n",
        "-   Spark automatically distributes data and parallelises operations\n",
        "\n"
      ]
    },
    {
      "cell_type": "markdown",
      "metadata": {
        "id": "zxVbhE4NJYF3"
      },
      "source": [
        "## Example: creation of a DataFrame from a CSV file\n",
        "\n",
        "**Note:** To learn how to upload a file into collaboratory from your machine or from Google Drive, check [this link](https://colab.research.google.com/notebooks/io.ipynb)\n"
      ]
    },
    {
      "cell_type": "markdown",
      "metadata": {
        "id": "dS26HN93HsDW"
      },
      "source": [
        "### Option 1: Uploading the *2015-summary.csv* CSV file from your computer\n",
        "\n",
        "1.   List item\n",
        "2.   List item\n",
        "\n"
      ]
    },
    {
      "cell_type": "code",
      "execution_count": 7,
      "metadata": {
        "id": "F7opOoMHHvCN",
        "colab": {
          "base_uri": "https://localhost:8080/",
          "height": 74
        },
        "outputId": "e1af4e6f-7cc1-42b5-97d1-314d44bd6cec"
      },
      "outputs": [
        {
          "output_type": "display_data",
          "data": {
            "text/plain": [
              "<IPython.core.display.HTML object>"
            ],
            "text/html": [
              "\n",
              "     <input type=\"file\" id=\"files-4ef43e13-1359-4051-bef9-4c5fe67dab12\" name=\"files[]\" multiple disabled\n",
              "        style=\"border:none\" />\n",
              "     <output id=\"result-4ef43e13-1359-4051-bef9-4c5fe67dab12\">\n",
              "      Upload widget is only available when the cell has been executed in the\n",
              "      current browser session. Please rerun this cell to enable.\n",
              "      </output>\n",
              "      <script>// Copyright 2017 Google LLC\n",
              "//\n",
              "// Licensed under the Apache License, Version 2.0 (the \"License\");\n",
              "// you may not use this file except in compliance with the License.\n",
              "// You may obtain a copy of the License at\n",
              "//\n",
              "//      http://www.apache.org/licenses/LICENSE-2.0\n",
              "//\n",
              "// Unless required by applicable law or agreed to in writing, software\n",
              "// distributed under the License is distributed on an \"AS IS\" BASIS,\n",
              "// WITHOUT WARRANTIES OR CONDITIONS OF ANY KIND, either express or implied.\n",
              "// See the License for the specific language governing permissions and\n",
              "// limitations under the License.\n",
              "\n",
              "/**\n",
              " * @fileoverview Helpers for google.colab Python module.\n",
              " */\n",
              "(function(scope) {\n",
              "function span(text, styleAttributes = {}) {\n",
              "  const element = document.createElement('span');\n",
              "  element.textContent = text;\n",
              "  for (const key of Object.keys(styleAttributes)) {\n",
              "    element.style[key] = styleAttributes[key];\n",
              "  }\n",
              "  return element;\n",
              "}\n",
              "\n",
              "// Max number of bytes which will be uploaded at a time.\n",
              "const MAX_PAYLOAD_SIZE = 100 * 1024;\n",
              "\n",
              "function _uploadFiles(inputId, outputId) {\n",
              "  const steps = uploadFilesStep(inputId, outputId);\n",
              "  const outputElement = document.getElementById(outputId);\n",
              "  // Cache steps on the outputElement to make it available for the next call\n",
              "  // to uploadFilesContinue from Python.\n",
              "  outputElement.steps = steps;\n",
              "\n",
              "  return _uploadFilesContinue(outputId);\n",
              "}\n",
              "\n",
              "// This is roughly an async generator (not supported in the browser yet),\n",
              "// where there are multiple asynchronous steps and the Python side is going\n",
              "// to poll for completion of each step.\n",
              "// This uses a Promise to block the python side on completion of each step,\n",
              "// then passes the result of the previous step as the input to the next step.\n",
              "function _uploadFilesContinue(outputId) {\n",
              "  const outputElement = document.getElementById(outputId);\n",
              "  const steps = outputElement.steps;\n",
              "\n",
              "  const next = steps.next(outputElement.lastPromiseValue);\n",
              "  return Promise.resolve(next.value.promise).then((value) => {\n",
              "    // Cache the last promise value to make it available to the next\n",
              "    // step of the generator.\n",
              "    outputElement.lastPromiseValue = value;\n",
              "    return next.value.response;\n",
              "  });\n",
              "}\n",
              "\n",
              "/**\n",
              " * Generator function which is called between each async step of the upload\n",
              " * process.\n",
              " * @param {string} inputId Element ID of the input file picker element.\n",
              " * @param {string} outputId Element ID of the output display.\n",
              " * @return {!Iterable<!Object>} Iterable of next steps.\n",
              " */\n",
              "function* uploadFilesStep(inputId, outputId) {\n",
              "  const inputElement = document.getElementById(inputId);\n",
              "  inputElement.disabled = false;\n",
              "\n",
              "  const outputElement = document.getElementById(outputId);\n",
              "  outputElement.innerHTML = '';\n",
              "\n",
              "  const pickedPromise = new Promise((resolve) => {\n",
              "    inputElement.addEventListener('change', (e) => {\n",
              "      resolve(e.target.files);\n",
              "    });\n",
              "  });\n",
              "\n",
              "  const cancel = document.createElement('button');\n",
              "  inputElement.parentElement.appendChild(cancel);\n",
              "  cancel.textContent = 'Cancel upload';\n",
              "  const cancelPromise = new Promise((resolve) => {\n",
              "    cancel.onclick = () => {\n",
              "      resolve(null);\n",
              "    };\n",
              "  });\n",
              "\n",
              "  // Wait for the user to pick the files.\n",
              "  const files = yield {\n",
              "    promise: Promise.race([pickedPromise, cancelPromise]),\n",
              "    response: {\n",
              "      action: 'starting',\n",
              "    }\n",
              "  };\n",
              "\n",
              "  cancel.remove();\n",
              "\n",
              "  // Disable the input element since further picks are not allowed.\n",
              "  inputElement.disabled = true;\n",
              "\n",
              "  if (!files) {\n",
              "    return {\n",
              "      response: {\n",
              "        action: 'complete',\n",
              "      }\n",
              "    };\n",
              "  }\n",
              "\n",
              "  for (const file of files) {\n",
              "    const li = document.createElement('li');\n",
              "    li.append(span(file.name, {fontWeight: 'bold'}));\n",
              "    li.append(span(\n",
              "        `(${file.type || 'n/a'}) - ${file.size} bytes, ` +\n",
              "        `last modified: ${\n",
              "            file.lastModifiedDate ? file.lastModifiedDate.toLocaleDateString() :\n",
              "                                    'n/a'} - `));\n",
              "    const percent = span('0% done');\n",
              "    li.appendChild(percent);\n",
              "\n",
              "    outputElement.appendChild(li);\n",
              "\n",
              "    const fileDataPromise = new Promise((resolve) => {\n",
              "      const reader = new FileReader();\n",
              "      reader.onload = (e) => {\n",
              "        resolve(e.target.result);\n",
              "      };\n",
              "      reader.readAsArrayBuffer(file);\n",
              "    });\n",
              "    // Wait for the data to be ready.\n",
              "    let fileData = yield {\n",
              "      promise: fileDataPromise,\n",
              "      response: {\n",
              "        action: 'continue',\n",
              "      }\n",
              "    };\n",
              "\n",
              "    // Use a chunked sending to avoid message size limits. See b/62115660.\n",
              "    let position = 0;\n",
              "    do {\n",
              "      const length = Math.min(fileData.byteLength - position, MAX_PAYLOAD_SIZE);\n",
              "      const chunk = new Uint8Array(fileData, position, length);\n",
              "      position += length;\n",
              "\n",
              "      const base64 = btoa(String.fromCharCode.apply(null, chunk));\n",
              "      yield {\n",
              "        response: {\n",
              "          action: 'append',\n",
              "          file: file.name,\n",
              "          data: base64,\n",
              "        },\n",
              "      };\n",
              "\n",
              "      let percentDone = fileData.byteLength === 0 ?\n",
              "          100 :\n",
              "          Math.round((position / fileData.byteLength) * 100);\n",
              "      percent.textContent = `${percentDone}% done`;\n",
              "\n",
              "    } while (position < fileData.byteLength);\n",
              "  }\n",
              "\n",
              "  // All done.\n",
              "  yield {\n",
              "    response: {\n",
              "      action: 'complete',\n",
              "    }\n",
              "  };\n",
              "}\n",
              "\n",
              "scope.google = scope.google || {};\n",
              "scope.google.colab = scope.google.colab || {};\n",
              "scope.google.colab._files = {\n",
              "  _uploadFiles,\n",
              "  _uploadFilesContinue,\n",
              "};\n",
              "})(self);\n",
              "</script> "
            ]
          },
          "metadata": {}
        },
        {
          "output_type": "stream",
          "name": "stdout",
          "text": [
            "Saving 2015-summary.csv to 2015-summary.csv\n"
          ]
        }
      ],
      "source": [
        "from google.colab import files\n",
        "import pandas as pd\n",
        "import io\n",
        "\n",
        "uploaded = files.upload()\n"
      ]
    },
    {
      "cell_type": "code",
      "execution_count": 8,
      "metadata": {
        "id": "Cv553N0FLseK",
        "colab": {
          "base_uri": "https://localhost:8080/"
        },
        "outputId": "94e75163-3a6c-49c8-f296-f9bd806f0571"
      },
      "outputs": [
        {
          "output_type": "stream",
          "name": "stdout",
          "text": [
            "User uploaded file \"2015-summary.csv\" with length 7080 bytes\n",
            "  DEST_COUNTRY_NAME ORIGIN_COUNTRY_NAME  count\n",
            "0     United States             Romania     15\n",
            "1     United States             Croatia      1\n",
            "2     United States             Ireland    344\n",
            "3             Egypt       United States     15\n",
            "4     United States               India     62\n"
          ]
        }
      ],
      "source": [
        "for fn in uploaded.keys():\n",
        "  print('User uploaded file \"{name}\" with length {length} bytes'.format(\n",
        "      name=fn, length=len(uploaded[fn])))\n",
        "  df = pd.read_csv(io.StringIO(uploaded[fn].decode('utf-8')))\n",
        "  print(format(df.head()))"
      ]
    },
    {
      "cell_type": "code",
      "execution_count": 9,
      "metadata": {
        "id": "Kz70AWIsKRGF",
        "colab": {
          "base_uri": "https://localhost:8080/"
        },
        "outputId": "2704130a-6e57-4867-c23a-196d4b90ce05"
      },
      "outputs": [
        {
          "output_type": "stream",
          "name": "stdout",
          "text": [
            "-rw-r--r-- 1 root root 7.0K Nov 25 13:11 2015-summary.csv\n",
            "DEST_COUNTRY_NAME,ORIGIN_COUNTRY_NAME,count\n",
            "United States,Romania,15\n",
            "United States,Croatia,1\n",
            "United States,Ireland,344\n",
            "Egypt,United States,15\n",
            "United States,India,62\n",
            "United States,Singapore,1\n",
            "United States,Grenada,62\n",
            "Costa Rica,United States,588\n",
            "Senegal,United States,40\n"
          ]
        }
      ],
      "source": [
        "!ls -lh 2015-summary.csv\n",
        "!head 2015-summary.csv"
      ]
    },
    {
      "cell_type": "markdown",
      "metadata": {
        "id": "XFrEJdMuDT4s"
      },
      "source": [
        "### Option 2: Uploading the CSV file from Google Drive"
      ]
    },
    {
      "cell_type": "code",
      "execution_count": 10,
      "metadata": {
        "id": "w1BI6RTZ-BA0",
        "colab": {
          "base_uri": "https://localhost:8080/"
        },
        "outputId": "df1dc5e1-90ca-46e6-fe11-548f967eb2fb"
      },
      "outputs": [
        {
          "output_type": "stream",
          "name": "stdout",
          "text": [
            "Drive already mounted at /content/gdrive; to attempt to forcibly remount, call drive.mount(\"/content/gdrive\", force_remount=True).\n"
          ]
        }
      ],
      "source": [
        "from google.colab import drive\n",
        "drive.mount('/content/gdrive')"
      ]
    },
    {
      "cell_type": "code",
      "execution_count": 11,
      "metadata": {
        "id": "-1ozxIns-FG5",
        "colab": {
          "base_uri": "https://localhost:8080/"
        },
        "outputId": "85a97cb5-bfe7-4a8e-a550-7ac3b2ff1c01"
      },
      "outputs": [
        {
          "output_type": "stream",
          "name": "stdout",
          "text": [
            "DEST_COUNTRY_NAME,ORIGIN_COUNTRY_NAME,count\n",
            "United States,Romania,15\n",
            "United States,Croatia,1\n",
            "United States,Ireland,344\n",
            "Egypt,United States,15\n",
            "United States,India,62\n",
            "United States,Singapore,1\n",
            "United States,Grenada,62\n",
            "Costa Rica,United States,588\n",
            "Senegal,United States,40\n"
          ]
        }
      ],
      "source": [
        "!head \"$DRIVE_DATA/2015-summary.csv\""
      ]
    },
    {
      "cell_type": "markdown",
      "metadata": {
        "id": "5ZEO9sioDdQH"
      },
      "source": [
        "### Creating the DataFrame\n",
        "\n",
        "In this example, Spark infers the data schema automatically\n",
        "\n",
        "  - It is better to specify the schema in a explicit way, as we will see later\n",
        "\n",
        "We define the first line to be the header."
      ]
    },
    {
      "cell_type": "code",
      "execution_count": 12,
      "metadata": {
        "id": "jO79mIbNMUFS",
        "colab": {
          "base_uri": "https://localhost:8080/"
        },
        "outputId": "f34c7853-2450-42fd-8f83-28aedf7aeec1"
      },
      "outputs": [
        {
          "output_type": "stream",
          "name": "stdout",
          "text": [
            "root\n",
            " |-- DEST_COUNTRY_NAME: string (nullable = true)\n",
            " |-- ORIGIN_COUNTRY_NAME: string (nullable = true)\n",
            " |-- count: integer (nullable = true)\n",
            "\n",
            "+-----------------+-------------------+-----+\n",
            "|DEST_COUNTRY_NAME|ORIGIN_COUNTRY_NAME|count|\n",
            "+-----------------+-------------------+-----+\n",
            "|    United States|            Romania|   15|\n",
            "|    United States|            Croatia|    1|\n",
            "|    United States|            Ireland|  344|\n",
            "|            Egypt|      United States|   15|\n",
            "|    United States|              India|   62|\n",
            "+-----------------+-------------------+-----+\n",
            "only showing top 5 rows\n",
            "\n",
            "256\n"
          ]
        }
      ],
      "source": [
        "from pyspark.sql import SparkSession\n",
        "# We create a SparkSession object (or we retrieve it if it is already created)\n",
        "spark = SparkSession \\\n",
        ".builder \\\n",
        ".appName(\"My application\") \\\n",
        ".config(\"spark.some.config.option\", \"some-value\") \\\n",
        ".master(\"local[4]\") \\\n",
        ".getOrCreate()\n",
        "\n",
        "flightData2015 = (spark\n",
        "    .read\n",
        "    .option(\"inferSchema\", \"true\")\n",
        "    .option(\"header\", \"true\")\n",
        "    .csv(os.environ[\"DRIVE_DATA\"] +\"/2015-summary.csv\"))\n",
        "\n",
        "flightData2015.printSchema()\n",
        "\n",
        "flightData2015.show(5)\n",
        "print(flightData2015.count())"
      ]
    },
    {
      "cell_type": "markdown",
      "metadata": {
        "id": "8KYSQqBGE2Qr"
      },
      "source": [
        "## Rows\n",
        "\n",
        "Rows in a DataFrame are objects of `Row`  type\n",
        "\n",
        "- Row API in Python: https://spark.apache.org/docs/latest/api/python/reference/api/pyspark.sql.Row.html#pyspark.sql.Row"
      ]
    },
    {
      "cell_type": "markdown",
      "metadata": {
        "id": "CoHDkbcRFlqX"
      },
      "source": [
        "### Row manipulation"
      ]
    },
    {
      "cell_type": "code",
      "execution_count": 13,
      "metadata": {
        "id": "LbIn1BPpFw1h",
        "colab": {
          "base_uri": "https://localhost:8080/"
        },
        "outputId": "35d8fc3b-5636-4b73-c798-c5c2aabba8a6"
      },
      "outputs": [
        {
          "output_type": "stream",
          "name": "stdout",
          "text": [
            "[Row(DEST_COUNTRY_NAME='United States', ORIGIN_COUNTRY_NAME='Romania', count=15), Row(DEST_COUNTRY_NAME='United States', ORIGIN_COUNTRY_NAME='Croatia', count=1)]\n"
          ]
        }
      ],
      "source": [
        "# Get the two first rows of the DataFrame\n",
        "row1_2 = flightData2015.take(2)\n",
        "print(row1_2)"
      ]
    },
    {
      "cell_type": "code",
      "execution_count": 14,
      "metadata": {
        "id": "qX09DSHkIPGj",
        "colab": {
          "base_uri": "https://localhost:8080/"
        },
        "outputId": "71f56451-e707-4b54-c1a1-e238150e44b1"
      },
      "outputs": [
        {
          "output_type": "stream",
          "name": "stdout",
          "text": [
            "{'DEST_COUNTRY_NAME': 'United States', 'ORIGIN_COUNTRY_NAME': 'Romania', 'count': 15}\n"
          ]
        }
      ],
      "source": [
        "# Get the first row as a Python dictionary\n",
        "print(row1_2[0].asDict())"
      ]
    },
    {
      "cell_type": "markdown",
      "metadata": {
        "id": "gJaL8kRM0JSs"
      },
      "source": [
        "## Partitions\n",
        "\n",
        "The elements in a DataFrame (or DataSet or RDD) are splitted between the nodes of the cluster, dividing the collection in partitions. Each partition is then processed by a given executor.\n",
        "\n",
        "-  The number of partitions by default is a function of the cluster size (total number of cores from every executor) and the data size (number of blocks of the files in HDFS)\n",
        "-  In the case of an RDD, a different partition size can be specified at creation time.\n",
        "- The partition size can be modified once they are created.\n",
        "\n",
        "![Partitioning](https://docs.google.com/drawings/d/1GAasfY7P7uaMXhvGHuZ1nOqPqv6TrE7-N96RqUn1NqE/pub?w=960&h=540)\n",
        "\n"
      ]
    },
    {
      "cell_type": "code",
      "execution_count": 15,
      "metadata": {
        "id": "aS4EUE5k0RI4",
        "colab": {
          "base_uri": "https://localhost:8080/"
        },
        "outputId": "d0a58ddb-fd3a-4948-a40b-ccb81a70fa98"
      },
      "outputs": [
        {
          "output_type": "stream",
          "name": "stdout",
          "text": [
            "Number of partitions: 1\n",
            "Number of partitions: 4\n"
          ]
        }
      ],
      "source": [
        "print(\"Number of partitions: {0}\"\n",
        "    .format(flightData2015.rdd.getNumPartitions()))\n",
        "\n",
        "# Create a new DataFrame with 4 partitions\n",
        "flightData2015_4P = flightData2015.repartition(4)\n",
        "print(\"Number of partitions: {0}\"\n",
        "    .format(flightData2015_4P.rdd.getNumPartitions()))"
      ]
    },
    {
      "cell_type": "markdown",
      "metadata": {
        "id": "4MEZZbQGafhU"
      },
      "source": [
        "##Transformations vs Actions"
      ]
    },
    {
      "cell_type": "markdown",
      "metadata": {
        "id": "riLRJq9_0VFd"
      },
      "source": [
        "### Transformations\n",
        "\n",
        "Operations that transform data\n",
        "\n",
        "  - Origin data are not transformed ( *immutability* )\n",
        "  - Transformations are computed in a \"lazy\" way ( *lazyness* ),  in the sense that they do not actually do anything until an action is executed.\n",
        "\n",
        "Two types:\n",
        "\n",
        "  - *Narrow* Transformations\n",
        "    - Each input partition contributes to a single output partition\n",
        "    - The number of partitions is not modified\n",
        "    - Typically performed in memory\n",
        "  - *Wide* Transformations\n",
        "    - Each output partition depends on several (or all) input partitions\n",
        "    - They imply data shuffling\n",
        "    - The number of partitions can be modified\n",
        "    - They may imply disk writes\n",
        "    \n",
        "Examples:\n",
        "* map\n",
        "* filter\n",
        "* replace"
      ]
    },
    {
      "cell_type": "code",
      "execution_count": 16,
      "metadata": {
        "id": "11cYhpn90XM_",
        "colab": {
          "base_uri": "https://localhost:8080/"
        },
        "outputId": "696b870e-73b9-4ddb-964b-23929ef611f4"
      },
      "outputs": [
        {
          "output_type": "stream",
          "name": "stdout",
          "text": [
            "+-----------------+-------------------+-----+\n",
            "|DEST_COUNTRY_NAME|ORIGIN_COUNTRY_NAME|count|\n",
            "+-----------------+-------------------+-----+\n",
            "|   Estados Unidos|            Romania|   15|\n",
            "|   Estados Unidos|            Croatia|    1|\n",
            "|   Estados Unidos|            Ireland|  344|\n",
            "|            Egypt|     Estados Unidos|   15|\n",
            "|   Estados Unidos|              India|   62|\n",
            "+-----------------+-------------------+-----+\n",
            "only showing top 5 rows\n",
            "\n"
          ]
        }
      ],
      "source": [
        "# Narrow transformation example\n",
        "flightData2015_EEUU = flightData2015.replace(\"United States\", \"Estados Unidos\")\n",
        "flightData2015_EEUU.show(5)"
      ]
    },
    {
      "cell_type": "code",
      "execution_count": 17,
      "metadata": {
        "id": "bKJkWfYN0Z-u",
        "colab": {
          "base_uri": "https://localhost:8080/"
        },
        "outputId": "9092f319-aa99-4c8f-96d2-98e1be8cda0a"
      },
      "outputs": [
        {
          "output_type": "stream",
          "name": "stdout",
          "text": [
            "+-----------------+-------------------+------+\n",
            "|DEST_COUNTRY_NAME|ORIGIN_COUNTRY_NAME| count|\n",
            "+-----------------+-------------------+------+\n",
            "|   Estados Unidos|     Estados Unidos|370002|\n",
            "|   Estados Unidos|             Canada|  8483|\n",
            "|           Canada|     Estados Unidos|  8399|\n",
            "|   Estados Unidos|             Mexico|  7187|\n",
            "|           Mexico|     Estados Unidos|  7140|\n",
            "+-----------------+-------------------+------+\n",
            "only showing top 5 rows\n",
            "\n"
          ]
        }
      ],
      "source": [
        "# Wide transformation example\n",
        "flightData2015_Ord = flightData2015_EEUU.sort(\"count\", ascending=False)\n",
        "flightData2015_Ord.cache()\n",
        "flightData2015_Ord.show(5)  #we don't want to force an action"
      ]
    },
    {
      "cell_type": "markdown",
      "metadata": {
        "id": "6MENQmQq0faM"
      },
      "source": [
        "### Actions\n",
        "\n",
        "They return a result to the driver program, forcing therefore to perform the pending transformations\n",
        "\n",
        "  - When an action is triggered, a *plan* is created with the transformations needed to obtain the requested data\n",
        "    - A Directed Acyclic Graph (DAG) is created to connect the transformations to apply\n",
        "    - Spark will optimise this graph, removing unnecessary tranformations and joining them when possible\n",
        "  - Actions translate the DAG into an execution plan\n",
        "\n",
        "Types of actions:\n",
        "\n",
        "  - Actions to show data in the console\n",
        "  - Actions to convert Spark data into language-related data\n",
        "  - Actions to write data to disk\n",
        "  \n",
        "Examples:\n",
        "* reduce\n",
        "* collect\n",
        "* take\n",
        "* show\n"
      ]
    },
    {
      "cell_type": "code",
      "execution_count": 18,
      "metadata": {
        "id": "PFCKol2v0gjC",
        "colab": {
          "base_uri": "https://localhost:8080/"
        },
        "outputId": "dfb83360-bbc7-48da-b3a8-ef5130120208"
      },
      "outputs": [
        {
          "output_type": "stream",
          "name": "stdout",
          "text": [
            "Number of rows in the table: 256\n",
            "[Row(DEST_COUNTRY_NAME='Estados Unidos', ORIGIN_COUNTRY_NAME='Estados Unidos', count=370002), Row(DEST_COUNTRY_NAME='Estados Unidos', ORIGIN_COUNTRY_NAME='Canada', count=8483), Row(DEST_COUNTRY_NAME='Canada', ORIGIN_COUNTRY_NAME='Estados Unidos', count=8399)]\n",
            "+------------------+-------------------+------+\n",
            "| DEST_COUNTRY_NAME|ORIGIN_COUNTRY_NAME| count|\n",
            "+------------------+-------------------+------+\n",
            "|    Estados Unidos|     Estados Unidos|370002|\n",
            "|    Estados Unidos|             Canada|  8483|\n",
            "|            Canada|     Estados Unidos|  8399|\n",
            "|    Estados Unidos|             Mexico|  7187|\n",
            "|            Mexico|     Estados Unidos|  7140|\n",
            "|    United Kingdom|     Estados Unidos|  2025|\n",
            "|    Estados Unidos|     United Kingdom|  1970|\n",
            "|             Japan|     Estados Unidos|  1548|\n",
            "|    Estados Unidos|              Japan|  1496|\n",
            "|           Germany|     Estados Unidos|  1468|\n",
            "|    Estados Unidos| Dominican Republic|  1420|\n",
            "|Dominican Republic|     Estados Unidos|  1353|\n",
            "|    Estados Unidos|            Germany|  1336|\n",
            "|       South Korea|     Estados Unidos|  1048|\n",
            "|    Estados Unidos|        The Bahamas|   986|\n",
            "|       The Bahamas|     Estados Unidos|   955|\n",
            "|    Estados Unidos|             France|   952|\n",
            "|            France|     Estados Unidos|   935|\n",
            "|    Estados Unidos|              China|   920|\n",
            "|          Colombia|     Estados Unidos|   873|\n",
            "+------------------+-------------------+------+\n",
            "only showing top 20 rows\n",
            "\n"
          ]
        }
      ],
      "source": [
        "# Action example\n",
        "print(\"Number of rows in the table: {0}\".format(flightData2015_Ord.count()))\n",
        "\n",
        "print(flightData2015_Ord.take(3))\n",
        "\n",
        "flightData2015_Ord.show()"
      ]
    },
    {
      "cell_type": "markdown",
      "metadata": {
        "id": "qTmzHsWvanUk"
      },
      "source": [
        "### DAG example\n",
        "Each job is represented by a graph (specifically a directed acyclic graph (DAG)):\n",
        "\n",
        "![DAG](http://2.bp.blogspot.com/-5sDP78mSdlw/Ur3szYz1HpI/AAAAAAAABCo/Aak2Xn7TmnI/s1600/p2.png)"
      ]
    }
  ],
  "metadata": {
    "colab": {
      "provenance": [],
      "toc_visible": true,
      "include_colab_link": true
    },
    "kernelspec": {
      "display_name": "Python 3",
      "name": "python3"
    }
  },
  "nbformat": 4,
  "nbformat_minor": 0
}