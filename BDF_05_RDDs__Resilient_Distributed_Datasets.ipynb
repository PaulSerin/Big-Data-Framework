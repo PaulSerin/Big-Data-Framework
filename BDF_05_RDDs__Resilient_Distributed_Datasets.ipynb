{
  "cells": [
    {
      "cell_type": "markdown",
      "metadata": {
        "id": "view-in-github",
        "colab_type": "text"
      },
      "source": [
        "<a href=\"https://colab.research.google.com/github/PaulSerin/Big-Data-Framework/blob/main/BDF_05_RDDs__Resilient_Distributed_Datasets.ipynb\" target=\"_parent\"><img src=\"https://colab.research.google.com/assets/colab-badge.svg\" alt=\"Open In Colab\"/></a>"
      ]
    },
    {
      "cell_type": "markdown",
      "metadata": {
        "id": "qvy135v4KPHL"
      },
      "source": [
        "#00 - Configuration of Apache Spark on Collaboratory\n",
        "\n",
        "\n",
        "\n"
      ]
    },
    {
      "cell_type": "markdown",
      "metadata": {
        "id": "Iuen2fmUKSCQ"
      },
      "source": [
        "###Installing Java, Spark, and Findspark\n",
        "\n",
        "\n",
        "---\n",
        "\n",
        "\n",
        "This code installs Apache Spark 2.2.1, Java 8, and [Findspark](https://github.com/minrk/findspark), a library that makes it easy for Python to find Spark."
      ]
    },
    {
      "cell_type": "code",
      "execution_count": 5,
      "metadata": {
        "id": "KsAfQ0CrgnWf",
        "colab": {
          "base_uri": "https://localhost:8080/"
        },
        "outputId": "f2ba670e-3d95-4ec4-bd77-d5e558a30094"
      },
      "outputs": [
        {
          "output_type": "stream",
          "name": "stdout",
          "text": [
            "\r0% [Working]\r            \rHit:1 http://security.ubuntu.com/ubuntu jammy-security InRelease\n",
            "\r0% [Waiting for headers] [Connected to cloud.r-project.org (18.239.18.39)] [Connecting to r2u.stat.i\r                                                                                                    \rHit:2 http://archive.ubuntu.com/ubuntu jammy InRelease\n",
            "\r                                                                                                    \rHit:3 http://archive.ubuntu.com/ubuntu jammy-updates InRelease\n",
            "\r                                                                                                    \rHit:4 http://archive.ubuntu.com/ubuntu jammy-backports InRelease\n",
            "\r0% [Waiting for headers] [Connecting to r2u.stat.illinois.edu (192.17.190.167)] [Waiting for headers\r                                                                                                    \rHit:5 https://cloud.r-project.org/bin/linux/ubuntu jammy-cran40/ InRelease\n",
            "\r0% [Connecting to r2u.stat.illinois.edu (192.17.190.167)] [Waiting for headers] [Connected to ppa.la\r                                                                                                    \rHit:6 https://developer.download.nvidia.com/compute/cuda/repos/ubuntu2204/x86_64  InRelease\n",
            "\r                                                                                                    \r0% [Connecting to r2u.stat.illinois.edu (192.17.190.167)] [Waiting for headers]\r                                                                               \rHit:7 https://ppa.launchpadcontent.net/deadsnakes/ppa/ubuntu jammy InRelease\n",
            "\r                                                                               \r0% [Connected to r2u.stat.illinois.edu (192.17.190.167)] [Waiting for headers]\r                                                                              \rHit:8 https://ppa.launchpadcontent.net/graphics-drivers/ppa/ubuntu jammy InRelease\n",
            "Hit:9 https://ppa.launchpadcontent.net/ubuntugis/ppa/ubuntu jammy InRelease\n",
            "Hit:10 https://r2u.stat.illinois.edu/ubuntu jammy InRelease\n",
            "Reading package lists... Done\n",
            "W: Skipping acquire of configured file 'main/source/Sources' as repository 'https://r2u.stat.illinois.edu/ubuntu jammy InRelease' does not seem to provide it (sources.list entry misspelt?)\n",
            "--2024-11-26 08:29:39--  http://apache.osuosl.org/spark/spark-3.5.3/spark-3.5.3-bin-hadoop3.tgz\n",
            "Resolving apache.osuosl.org (apache.osuosl.org)... 64.50.236.52, 64.50.233.100, 140.211.166.134, ...\n",
            "Connecting to apache.osuosl.org (apache.osuosl.org)|64.50.236.52|:80... connected.\n",
            "HTTP request sent, awaiting response... 200 OK\n",
            "Length: 400864419 (382M) [application/x-gzip]\n",
            "Saving to: ‘spark-3.5.3-bin-hadoop3.tgz’\n",
            "\n",
            "spark-3.5.3-bin-had 100%[===================>] 382.29M  40.1MB/s    in 58s     \n",
            "\n",
            "2024-11-26 08:30:38 (6.60 MB/s) - ‘spark-3.5.3-bin-hadoop3.tgz’ saved [400864419/400864419]\n",
            "\n",
            "spark-3.5.3-bin-hadoop3.tgz\n"
          ]
        }
      ],
      "source": [
        "import os\n",
        "\n",
        "os.environ[\"SPARK_VERSION\"] = \"spark-3.5.3\"\n",
        "!apt-get update\n",
        "!apt-get install openjdk-8-jdk-headless -qq > /dev/null\n",
        "!wget  http://apache.osuosl.org/spark/$SPARK_VERSION/$SPARK_VERSION-bin-hadoop3.tgz\n",
        "!tar xf $SPARK_VERSION-bin-hadoop3.tgz\n",
        "!echo $SPARK_VERSION-bin-hadoop3.tgz\n",
        "!rm $SPARK_VERSION-bin-hadoop3.tgz\n",
        "!pip install -q findspark"
      ]
    },
    {
      "cell_type": "markdown",
      "metadata": {
        "id": "OFKUhFm4KZgM"
      },
      "source": [
        "### Set Environment Variables\n",
        "Set the locations where Spark and Java are installed.\n"
      ]
    },
    {
      "cell_type": "code",
      "execution_count": 6,
      "metadata": {
        "id": "hiOoj3rUgnVx",
        "colab": {
          "base_uri": "https://localhost:8080/"
        },
        "outputId": "1630e4d1-7e96-4f1d-9945-bd32cb04ba36"
      },
      "outputs": [
        {
          "output_type": "stream",
          "name": "stdout",
          "text": [
            "/content/spark/\n",
            "DRIVE_DATA=/content/gdrive/My Drive/Big Data Framework/data/\n"
          ]
        }
      ],
      "source": [
        "import os\n",
        "os.environ[\"JAVA_HOME\"] = \"/usr/lib/jvm/java-8-openjdk-amd64\"\n",
        "os.environ[\"SPARK_HOME\"] = \"/content/spark/\"\n",
        "os.environ[\"DRIVE_DATA\"] = \"/content/gdrive/My Drive/Big Data Framework/data/\"\n",
        "\n",
        "!rm /content/spark\n",
        "!ln -s /content/$SPARK_VERSION-bin-hadoop3 /content/spark\n",
        "!export PATH=$PATH:$SPARK_HOME/bin:$SPARK_HOME/sbin\n",
        "!echo $SPARK_HOME\n",
        "!env |grep  \"DRIVE_DATA\""
      ]
    },
    {
      "cell_type": "markdown",
      "metadata": {
        "id": "Q5zSFkyOKewE"
      },
      "source": [
        "### Start a SparkSession\n",
        "This will start a local Spark session."
      ]
    },
    {
      "cell_type": "code",
      "execution_count": 7,
      "metadata": {
        "id": "VoTPRSa-KK5C",
        "colab": {
          "base_uri": "https://localhost:8080/"
        },
        "outputId": "1c2563c2-3449-41a0-983b-cea4bd7200fa"
      },
      "outputs": [
        {
          "output_type": "stream",
          "name": "stdout",
          "text": [
            "Python 3.10.12\n",
            "PySpark version 3.5.3\n"
          ]
        },
        {
          "output_type": "execute_result",
          "data": {
            "text/plain": [
              "[2, 3]"
            ]
          },
          "metadata": {},
          "execution_count": 7
        }
      ],
      "source": [
        "!python -V\n",
        "\n",
        "import findspark\n",
        "findspark.init()\n",
        "\n",
        "from pyspark import SparkContext\n",
        "sc = SparkContext.getOrCreate()\n",
        "\n",
        "# Example: shows the PySpark version\n",
        "print(\"PySpark version {0}\".format(sc.version))\n",
        "\n",
        "# Example: parallelise an array and show the 2 first elements\n",
        "sc.parallelize([2, 3, 4, 5, 6]).cache().take(2)"
      ]
    },
    {
      "cell_type": "code",
      "execution_count": 8,
      "metadata": {
        "id": "AhW9r4HgKK3q"
      },
      "outputs": [],
      "source": [
        "from pyspark.sql import SparkSession\n",
        "# We create a SparkSession object (or we retrieve it if it is already created)\n",
        "spark = SparkSession \\\n",
        ".builder \\\n",
        ".appName(\"My application\") \\\n",
        ".config(\"spark.some.config.option\", \"some-value\") \\\n",
        ".master(\"local[4]\") \\\n",
        ".getOrCreate()\n",
        "# We get the SparkContext\n",
        "sc = spark.sparkContext"
      ]
    },
    {
      "cell_type": "code",
      "execution_count": 9,
      "metadata": {
        "id": "0mLhZ2iMKK1W",
        "colab": {
          "base_uri": "https://localhost:8080/"
        },
        "outputId": "de6edfd7-0c2b-4514-aa82-6dd0ba681a6b"
      },
      "outputs": [
        {
          "output_type": "stream",
          "name": "stdout",
          "text": [
            "Mounted at /content/gdrive\n"
          ]
        }
      ],
      "source": [
        "# Mount Google Drive\n",
        "from google.colab import drive\n",
        "drive.mount('/content/gdrive')"
      ]
    },
    {
      "cell_type": "markdown",
      "metadata": {
        "id": "ZqCEbDANgCWJ"
      },
      "source": [
        "\n",
        "---\n",
        "\n",
        "\n",
        "# 05 - RDDs: Resilient Distributed Datasets"
      ]
    },
    {
      "cell_type": "markdown",
      "metadata": {
        "id": "mY_P1QWJgPoU"
      },
      "source": [
        "\n",
        "-   Immutable distributed collection of objects that can be manipulated in parallel.\n",
        "    - Most basic data type in Spark\n",
        "\n",
        "-   A Spark program operates on RDDs:\n",
        "\n",
        "    -   RDDs creation\n",
        "\n",
        "    -   RDDs **transformation** (map, filter, etc.)\n",
        "\n",
        "    -   **Actions** on RDDs to obtain results\n",
        "    \n",
        "    Similar to DataFrames, but they provide a more precise control on the partitioning and data distribution\n",
        "\n",
        "-   Spark automatically distributes the data and parallelises the operations"
      ]
    },
    {
      "cell_type": "markdown",
      "metadata": {
        "id": "ybw4YkQ7g_NF"
      },
      "source": [
        "## RDDs creation\n",
        "\n",
        "Two ways:\n",
        "\n",
        "1 -   By distributing a collection of objects (e.g., a list or set) in their driver program"
      ]
    },
    {
      "cell_type": "code",
      "execution_count": 10,
      "metadata": {
        "id": "cmNv36fXho6I",
        "colab": {
          "base_uri": "https://localhost:8080/"
        },
        "outputId": "dac5de0d-34ff-4ba8-8431-61fd81e782ac"
      },
      "outputs": [
        {
          "output_type": "stream",
          "name": "stdout",
          "text": [
            "[1, 2, 3, 4, 5, 6, 7, 8]\n",
            "[0, 1, 2, 3, 4, 5, 6, 7, 8, 9, 10, 11, 12, 13, 14, 15, 16, 17, 18, 19, 20, 21, 22, 23, 24, 25, 26, 27, 28, 29, 30, 31, 32, 33, 34, 35, 36, 37, 38, 39, 40, 41, 42, 43, 44, 45, 46, 47, 48, 49, 50, 51, 52, 53, 54, 55, 56, 57, 58, 59, 60, 61, 62, 63, 64, 65, 66, 67, 68, 69, 70, 71, 72, 73, 74, 75, 76, 77, 78, 79, 80, 81, 82, 83, 84, 85, 86, 87, 88, 89, 90, 91, 92, 93, 94, 95, 96, 97, 98, 99]\n",
            "[1, 2, 'three', 4]\n"
          ]
        }
      ],
      "source": [
        "rdd1 = sc.parallelize([1,2,3,4,5,6,7,8])\n",
        "print(rdd1.collect())\n",
        "\n",
        "import numpy as np\n",
        "rdd2=sc.parallelize(np.array(range(100)))\n",
        "print(rdd2.collect())\n",
        "\n",
        "# RDDs accept lists of different types\n",
        "rdd5 = sc.parallelize([1,2,\"three\",4])\n",
        "print(rdd5.collect())"
      ]
    },
    {
      "cell_type": "markdown",
      "metadata": {
        "id": "G6Ue7W8XiwBq"
      },
      "source": [
        "2 -   By loading an external dataset from an input such as a file"
      ]
    },
    {
      "cell_type": "code",
      "execution_count": 11,
      "metadata": {
        "id": "A8vObfpHiu1r",
        "colab": {
          "base_uri": "https://localhost:8080/"
        },
        "outputId": "e52496cb-6da1-4eaf-9fe0-58bab3d39cfb"
      },
      "outputs": [
        {
          "output_type": "stream",
          "name": "stdout",
          "text": [
            "['The Project Gutenberg EBook of Don Quijote, by Miguel de Cervantes Saavedra', '', 'This eBook is for the use of anyone anywhere at no cost and with', 'almost no restrictions whatsoever.  You may copy it, give it away or', 're-use it under the terms of the Project Gutenberg License included', 'with this eBook or online at www.gutenberg.net', '', '', 'Title: Don Quijote', '', 'Author: Miguel de Cervantes Saavedra', '', 'Posting Date: April 27, 2010 [EBook #2000]', 'Release Date: December, 1999', '', 'Language: Spanish', '', '', '*** START OF THIS PROJECT GUTENBERG EBOOK DON QUIJOTE ***', '', '', '', '', 'Produced by an anonymous Project Gutenberg volunteer. Text', 'file corrections and new HTML file by Joaquin Cuenca Abela.', '', '', '', '', '', '', '', '', '', '', '', 'El ingenioso hidalgo don Quijote de la Mancha', '', '', 'TASA', '', 'Yo, Juan Gallo de Andrada, escribano de Cámara del Rey nuestro señor, de', 'los que residen en su Consejo, certifico y doy fe que, habiendo visto por', 'los señores dél un libro intitulado El ingenioso hidalgo de la Mancha,', 'compuesto por Miguel de Cervantes Saavedra, tasaron cada pliego del dicho', 'libro a tres maravedís y medio; el cual tiene ochenta y tres pliegos, que', 'al dicho precio monta el dicho libro docientos y noventa maravedís y medio,', 'en que se ha de vender en papel; y dieron licencia para que a este precio', 'se pueda vender, y mandaron que esta tasa se ponga al principio del dicho', 'libro, y no se pueda vender sin ella. Y, para que dello conste, di la', 'presente en Valladolid, a veinte días del mes de deciembre de mil y', 'seiscientos y cuatro años.', '', 'Juan Gallo de Andrada.', '', 'TESTIMONIO DE LAS ERRATAS', '', 'Este libro no tiene cosa digna que no corresponda a su original; en', 'testimonio de lo haber correcto, di esta fee. En el Colegio de la Madre de', 'Dios de los Teólogos de la Universidad de Alcalá, en primero de diciembre', 'de 1604 años.', '', 'El licenciado Francisco Murcia de la Llana.', '', 'EL REY', '', 'Por cuanto por parte de vos, Miguel de Cervantes, nos fue fecha relación', 'que habíades compuesto un libro intitulado El ingenioso hidalgo de la', 'Mancha, el cual os había costado mucho trabajo y era muy útil y provechoso,', 'nos pedistes y suplicastes os mandásemos dar licencia y facultad para le', 'poder imprimir, y previlegio por el tiempo que fuésemos servidos, o como la', 'nuestra merced fuese; lo cual visto por los del nuestro Consejo, por cuanto', 'en el dicho libro se hicieron las diligencias que la premática últimamente', 'por nos fecha sobre la impresión de los libros dispone, fue acordado que', 'debíamos mandar dar esta nuestra cédula para vos, en la dicha razón; y nos', 'tuvímoslo por bien. Por la cual, por os hacer bien y merced, os damos', 'licencia y facultad para que vos, o la persona que vuestro poder hubiere, y', 'no otra alguna, podáis imprimir el dicho libro, intitulado El ingenioso', 'hidalgo de la Mancha, que desuso se hace mención, en todos estos nuestros', 'reinos de Castilla, por tiempo y espacio de diez años, que corran y se', 'cuenten desde el dicho día de la data desta nuestra cédula; so pena que la', 'persona o personas que, sin tener vuestro poder, lo imprimiere o vendiere,', 'o hiciere imprimir o vender, por el mesmo caso pierda la impresión que', 'hiciere, con los moldes y aparejos della; y más, incurra en pena de', 'cincuenta mil maravedís cada vez que lo contrario hiciere. La cual dicha', 'pena sea la tercia parte para la persona que lo acusare, y la otra tercia', 'parte para nuestra Cámara, y la otra tercia parte para el juez que lo', 'sentenciare. Con tanto que todas las veces que hubiéredes de hacer imprimir', 'el dicho libro, durante el tiempo de los dichos diez años, le traigáis al', 'nuestro Consejo, juntamente con el original que en él fue visto, que va', 'rubricado cada plana y firmado al fin dél de Juan Gallo de Andrada, nuestro', 'Escribano de Cámara, de los que en él residen, para saber si la dicha', 'impresión está conforme el original; o traigáis fe en pública forma de cómo', 'por corretor nombrado por nuestro mandado, se vio y corrigió la dicha', 'impresión por el original, y se imprimió conforme a él, y quedan impresas', 'las erratas por él apuntadas, para cada un libro de los que así fueren', 'impresos, para que se tase el precio que por cada volume hubiéredes de', 'haber. Y mandamos al impresor que así imprimiere el dicho libro, no imprima', 'el principio ni el primer pliego dél, ni entregue más de un solo libro con', 'el original al autor, o persona a cuya costa lo imprimiere, ni otro alguno,', 'para efeto de la dicha correción y tasa, hasta que antes y primero el dicho', 'libro esté corregido y tasado por los del nuestro Consejo; y, estando', 'hecho, y no de otra manera, pueda imprimir el dicho principio y primer', 'pliego, y sucesivamente ponga esta nuestra cédula y la aprobación, tasa y', 'erratas, so pena de caer e incurrir en las penas contenidas en las leyes y', 'premáticas destos nuestros reinos. Y mandamos a los del nuestro Consejo, y', 'a otras cualesquier justicias dellos, guarden y cumplan esta nuestra cédula', 'y lo en ella contenido. Fecha en Valladolid, a veinte y seis días del mes', 'de setiembre de mil y seiscientos y cuatro años.', '', 'YO, EL REY.', '', 'Por mandado del Rey nuestro señor:', '', 'Juan de Amezqueta.', '', 'AL DUQUE DE BÉJAR,', '', 'marqués de Gibraleón, conde de Benalcázar y Bañares, vizconde de La Puebla de', 'Alcocer, señor de las villas de Capilla, Curiel y Burguillos', '', 'En fe del buen acogimiento y honra que hace Vuestra Excelencia a toda', 'suerte de libros, como príncipe tan inclinado a favorecer las buenas artes,', 'mayormente las que por su nobleza no se abaten al servicio y granjerías del', 'vulgo, he determinado de sacar a luz al Ingenioso hidalgo don Quijote de la', 'Mancha, al abrigo del clarísimo nombre de Vuestra Excelencia, a quien, con', 'el acatamiento que debo a tanta grandeza, suplico le reciba agradablemente', 'en su protección, para que a su sombra, aunque desnudo de aquel precioso', 'ornamento de elegancia y erudición de que suelen andar vestidas las obras', 'que se componen en las casas de los hombres que saben, ose parecer', 'seguramente en el juicio de algunos que, continiéndose en los límites de su', 'ignorancia, suelen condenar con más rigor y menos justicia los trabajos', 'ajenos; que, poniendo los ojos la prudencia de Vuestra Excelencia en mi', 'buen deseo, fío que no desdeñará la cortedad de tan humilde servicio.', '', 'Miguel de Cervantes Saavedra.', '', 'PRÓLOGO', '', 'Desocupado lector: sin juramento me podrás creer que quisiera que este', 'libro, como hijo del entendimiento, fuera el más hermoso, el más gallardo y', 'más discreto que pudiera imaginarse. Pero no he podido yo contravenir al', 'orden de naturaleza; que en ella cada cosa engendra su semejante. Y así,', '¿qué podrá engendrar el estéril y mal cultivado ingenio mío, sino la', 'historia de un hijo seco, avellanado, antojadizo y lleno de pensamientos', 'varios y nunca imaginados de otro alguno, bien como quien se engendró en', 'una cárcel, donde toda incomodidad tiene su asiento y donde todo triste', 'ruido hace su habitación? El sosiego, el lugar apacible, la amenidad de los', 'campos, la serenidad de los cielos, el murmurar de las fuentes, la quietud', 'del espíritu son grande parte para que las musas más estériles se muestren', 'fecundas y ofrezcan partos al mundo que le colmen de maravilla y de', 'contento. Acontece tener un padre un hijo feo y sin gracia alguna, y el', 'amor que le tiene le pone una venda en los ojos para que no vea sus faltas,', 'antes las juzga por discreciones y lindezas y las cuenta a sus amigos por', 'agudezas y donaires. Pero yo, que, aunque parezco padre, soy padrastro de', 'Don Quijote, no quiero irme con la corriente del uso, ni suplicarte, casi', 'con las lágrimas en los ojos, como otros hacen, lector carísimo, que', 'perdones o disimules las faltas que en este mi hijo vieres; y ni eres su', 'pariente ni su amigo, y tienes tu alma en tu cuerpo y tu libre albedrío', 'como el más pintado, y estás en tu casa, donde eres señor della, como el', 'rey de sus alcabalas, y sabes lo que comúnmente se dice: que debajo de mi', 'manto, al rey mato. Todo lo cual te esenta y hace libre de todo respecto y', 'obligación; y así, puedes decir de la historia todo aquello que te', 'pareciere, sin temor que te calunien por el mal ni te premien por el bien', 'que dijeres della.', '', 'Sólo quisiera dártela monda y desnuda, sin el ornato de prólogo, ni de la', 'inumerabilidad y catálogo de los acostumbrados sonetos, epigramas y elogios', 'que al principio de los libros suelen ponerse. Porque te sé decir que,', 'aunque me costó algún trabajo componerla, ninguno tuve por mayor que hacer', 'esta prefación que vas leyendo. Muchas veces tomé la pluma para escribille,', 'y muchas la dejé, por no saber lo que escribiría; y, estando una suspenso,', 'con el papel delante, la pluma en la oreja, el codo en el bufete y la mano', 'en la mejilla, pensando lo que diría, entró a deshora un amigo mío,', 'gracioso y bien entendido, el cual, viéndome tan imaginativo, me preguntó', 'la causa; y, no encubriéndosela yo, le dije que pensaba en el prólogo que', 'había de hacer a la historia de don Quijote, y que me tenía de suerte que', 'ni quería hacerle, ni menos sacar a luz las hazañas de tan noble caballero.', '', '-Porque, ¿cómo queréis vos que no me tenga confuso el qué dirá el antiguo', 'legislador que llaman vulgo cuando vea que, al cabo de tantos años como ha', 'que duermo en el silencio del olvido, salgo ahora, con todos mis años a', 'cuestas, con una leyenda seca como un esparto, ajena de invención, menguada', 'de estilo, pobre de concetos y falta de toda erudición y doctrina; sin', 'acotaciones en las márgenes y sin anotaciones en el fin del libro, como veo', 'que están otros libros, aunque sean fabulosos y profanos, tan llenos de', 'sentencias de Aristóteles, de Platón y de toda la caterva de filósofos, que', 'admiran a los leyentes y tienen a sus autores por hombres leídos, eruditos', 'y elocuentes? ¡Pues qué, cuando citan la Divina Escritura! No dirán sino', 'que son unos santos Tomases y otros doctores de la Iglesia; guardando en', 'esto un decoro tan ingenioso, que en un renglón han pintado un enamorado', 'destraído y en otro hacen un sermoncico cristiano, que es un contento y un', 'regalo oílle o leelle. De todo esto ha de carecer mi libro, porque ni tengo', 'qué acotar en el margen, ni qué anotar en el fin, ni menos sé qué autores', 'sigo en él, para ponerlos al principio, como hacen todos, por las letras', 'del A.B.C., comenzando en Aristóteles y acabando en Xenofonte y en Zoílo o', 'Zeuxis, aunque fue maldiciente el uno y pintor el otro. También ha de', 'carecer mi libro de sonetos al principio, a lo menos de sonetos cuyos', 'autores sean duques, marqueses, condes, obispos, damas o poetas', 'celebérrimos; aunque, si yo los pidiese a dos o tres oficiales amigos, yo', 'sé que me los darían, y tales, que no les igualasen los de aquellos que', 'tienen más nombre en nuestra España. En fin, señor y amigo mío -proseguí-,', 'yo determino que el señor don Quijote se quede sepultado en sus archivos en', 'la Mancha, hasta que el cielo depare quien le adorne de tantas cosas como', 'le faltan; porque yo me hallo incapaz de remediarlas, por mi insuficiencia', 'y pocas letras, y porque naturalmente soy poltrón y perezoso de andarme', 'buscando autores que digan lo que yo me sé decir sin ellos. De aquí nace la', 'suspensión y elevamiento, amigo, en que me hallastes; bastante causa para', 'ponerme en ella la que de mí habéis oído.', '', 'Oyendo lo cual mi amigo, dándose una palmada en la frente y disparando en', 'una carga de risa, me dijo:', '', '-Por Dios, hermano, que agora me acabo de desengañar de un engaño en que he', 'estado todo el mucho tiempo que ha que os conozco, en el cual siempre os he', 'tenido por discreto y prudente en todas vuestras aciones. Pero agora veo', 'que estáis tan lejos de serlo como lo está el cielo de la tierra. ¿Cómo que', 'es posible que cosas de tan poco momento y tan fáciles de remediar puedan', 'tener fuerzas de suspender y absortar un ingenio tan maduro como el', 'vuestro, y tan hecho a romper y atropellar por otras dificultades mayores?', 'A la fe, esto no nace de falta de habilidad, sino de sobra de pereza y', 'penuria de discurso. ¿Queréis ver si es verdad lo que digo? Pues estadme', 'atento y veréis cómo, en un abrir y cerrar de ojos, confundo todas vuestras', 'dificultades y remedio todas las faltas que decís que os suspenden y', 'acobardan para dejar de sacar a la luz del mundo la historia de vuestro', 'famoso don Quijote, luz y espejo de toda la caballería andante.', '', '-Decid -le repliqué yo, oyendo lo que me decía-: ¿de qué modo pensáis', 'llenar el vacío de mi temor y reducir a claridad el caos de mi confusión?', '', 'A lo cual él dijo:', '', '-Lo primero en que reparáis de los sonetos, epigramas o elogios que os', 'faltan para el principio, y que sean de personajes graves y de título, se', 'puede remediar en que vos mesmo toméis algún trabajo en hacerlos, y después', 'los podéis bautizar y poner el nombre que quisiéredes, ahijándolos al', 'Preste Juan de las Indias o al Emperador de Trapisonda, de quien yo sé que', 'hay noticia que fueron famosos poetas; y cuando no lo hayan sido y hubiere', 'algunos pedantes y bachilleres que por detrás os muerdan y murmuren desta', 'verdad, no se os dé dos maravedís; porque, ya que os averigüen la mentira,', 'no os han de cortar la mano con que lo escribistes.', '', '»En lo de citar en las márgenes los libros y autores de donde sacáredes las', 'sentencias y dichos que pusiéredes en vuestra historia, no hay más sino', 'hacer, de manera que venga a pelo, algunas sentencias o latines que vos', 'sepáis de memoria, o, a lo menos, que os cuesten poco trabajo el buscalle;', 'como será poner, tratando de libertad y cautiverio:', '', '   Non bene pro toto libertas venditur auro.', '', 'Y luego, en el margen, citar a Horacio, o a quien lo dijo. Si tratáredes', 'del poder de la muerte, acudir luego con:', '', '   Pallida mors aequo pulsat pede pauperum tabernas,', '   Regumque turres.', '', 'Si de la amistad y amor que Dios manda que se tenga al enemigo, entraros', 'luego al punto por la Escritura Divina, que lo podéis hacer con tantico de', 'curiosidad, y decir las palabras, por lo menos, del mismo Dios: Ego autem', 'dico vobis: diligite inimicos vestros. Si tratáredes de malos pensamientos,', 'acudid con el Evangelio: De corde exeunt cogitationes malae. Si de la', 'instabilidad de los amigos, ahí está Catón, que os dará su dístico:', '', '   Donec eris felix, multos numerabis amicos,', '   tempora si fuerint nubila, solus eris.', '', 'Y con estos latinicos y otros tales os tendrán siquiera por gramático, que', 'el serlo no es de poca honra y provecho el día de hoy.', '', '»En lo que toca el poner anotaciones al fin del libro, seguramente lo', 'podéis hacer desta manera: si nombráis algún gigante en vuestro libro,', 'hacelde que sea el gigante Golías, y con sólo esto, que os costará casi', 'nada, tenéis una grande anotación, pues podéis poner: El gigante Golías, o', 'Goliat, fue un filisteo a quien el pastor David mató de una gran pedrada en', 'el valle de Terebinto, según se cuenta en el Libro de los Reyes, en el', 'capítulo que vos halláredes que se escribe. Tras esto, para mostraros', 'hombre erudito en letras humanas y cosmógrafo, haced de modo como en', 'vuestra historia se nombre el río Tajo, y veréisos luego con otra famosa', 'anotación, poniendo: El río Tajo fue así dicho por un rey de las Españas;', 'tiene su nacimiento en tal lugar y muere en el mar océano, besando los', 'muros de la famosa ciudad de Lisboa; y es opinión que tiene las arenas de', 'oro, etc. Si tratáredes de ladrones, yo os diré la historia de Caco, que la', 'sé de coro; si de mujeres rameras, ahí está el obispo de Mondoñedo, que os', 'prestará a Lamia, Laida y Flora, cuya anotación os dará gran crédito; si de', 'crueles, Ovidio os entregará a Medea; si de encantadores y hechiceras,', 'Homero tiene a Calipso, y Virgilio a Circe; si de capitanes valerosos, el', 'mesmo Julio César os prestará a sí mismo en sus Comentarios, y Plutarco os', 'dará mil Alejandros. Si tratáredes de amores, con dos onzas que sepáis de', 'la lengua toscana, toparéis con León Hebreo, que os hincha las medidas. Y', 'si no queréis andaros por tierras extrañas, en vuestra casa tenéis a', 'Fonseca, Del amor de Dios, donde se cifra todo lo que vos y el más', 'ingenioso acertare a desear en tal materia. En resolución, no hay más sino', 'que vos procuréis nombrar estos nombres, o tocar estas historias en la', 'vuestra, que aquí he dicho, y dejadme a mí el cargo de poner las', 'anotaciones y acotaciones; que yo os voto a tal de llenaros las márgenes y', 'de gastar cuatro pliegos en el fin del libro.', '', '»Vengamos ahora a la citación de los autores que los otros libros tienen,', 'que en el vuestro os faltan. El remedio que esto tiene es muy fácil, porque', 'no habéis de hacer otra cosa que buscar un libro que los acote todos, desde', 'la A hasta la Z, como vos decís. Pues ese mismo abecedario pondréis vos en', 'vuestro libro; que, puesto que a la clara se vea la mentira, por la poca', 'necesidad que vos teníades de aprovecharos dellos, no importa nada; y quizá', 'alguno habrá tan simple, que crea que de todos os habéis aprovechado en la', 'simple y sencilla historia vuestra; y, cuando no sirva de otra cosa, por lo', 'menos servirá aquel largo catálogo de autores a dar de improviso autoridad', 'al libro. Y más, que no habrá quien se ponga a averiguar si los seguistes o', 'no los seguistes, no yéndole nada en ello. Cuanto más que, si bien caigo en', 'la cuenta, este vuestro libro no tiene necesidad de ninguna cosa de', 'aquellas que vos decís que le falta, porque todo él es una invectiva contra', 'los libros de caballerías, de quien nunca se acordó Aristóteles, ni dijo', 'nada San Basilio, ni alcanzó Cicerón; ni caen debajo de la cuenta de sus', 'fabulosos disparates las puntualidades de la verdad, ni las observaciones', 'de la astrología; ni le son de importancia las medidas geométricas, ni la', 'confutación de los argumentos de quien se sirve la retórica; ni tiene para', 'qué predicar a ninguno, mezclando lo humano con lo divino, que es un género', 'de mezcla de quien no se ha de vestir ningún cristiano entendimiento. Sólo', 'tiene que aprovecharse de la imitación en lo que fuere escribiendo; que,', 'cuanto ella fuere más perfecta, tanto mejor será lo que se escribiere. Y,', 'pues esta vuestra escritura no mira a más que a deshacer la autoridad y', 'cabida que en el mundo y en el vulgo tienen los libros de caballerías, no', 'hay para qué andéis mendigando sentencias de filósofos, consejos de la', 'Divina Escritura, fábulas de poetas, oraciones de retóricos, milagros de', 'santos, sino procurar que a la llana, con palabras significantes, honestas', 'y bien colocadas, salga vuestra oración y período sonoro y festivo;', 'pintando, en todo lo que alcanzáredes y fuere posible, vuestra intención,', 'dando a entender vuestros conceptos sin intricarlos y escurecerlos.', 'Procurad también que, leyendo vuestra historia, el melancólico se mueva a', 'risa, el risueño la acreciente, el simple no se enfade, el discreto se', 'admire de la invención, el grave no la desprecie, ni el prudente deje de', 'alabarla. En efecto, llevad la mira puesta a derribar la máquina mal', 'fundada destos caballerescos libros, aborrecidos de tantos y alabados de', 'muchos más; que si esto alcanzásedes, no habríades alcanzado poco.', '', 'Con silencio grande estuve escuchando lo que mi amigo me decía, y de tal', 'manera se imprimieron en mí sus razones que, sin ponerlas en disputa, las', 'aprobé por buenas y de ellas mismas quise hacer este prólogo; en el cual', 'verás, lector suave, la discreción de mi amigo, la buena ventura mía en', 'hallar en tiempo tan necesitado tal consejero, y el alivio tuyo en hallar', 'tan sincera y tan sin revueltas la historia del famoso don Quijote de la', 'Mancha, de quien hay opinión, por todos los habitadores del distrito del', 'campo de Montiel, que fue el más casto enamorado y el más valiente', 'caballero que de muchos años a esta parte se vio en aquellos contornos. Yo', 'no quiero encarecerte el servicio que te hago en darte a conocer tan noble', 'y tan honrado caballero, pero quiero que me agradezcas el conocimiento que', 'tendrás del famoso Sancho Panza, su escudero, en quien, a mi parecer, te', 'doy cifradas todas las gracias escuderiles que en la caterva de los libros', 'vanos de caballerías están esparcidas.', '', 'Y con esto, Dios te dé salud, y a mí no olvide. Vale.', '', 'AL LIBRO DE DON QUIJOTE DE LA MANCHA', '', '   Urganda la desconocida', '   Si de llegarte a los bue-,', '   libro, fueres con letu-,', '   no te dirá el boquirru-', '   que no pones bien los de-.', '   Mas si el pan no se te cue-', '   por ir a manos de idio-,', '   verás de manos a bo-,', '   aun no dar una en el cla-,', '   si bien se comen las ma-', '   por mostrar que son curio-.', '   Y, pues la expiriencia ense-', '   que el que a buen árbol se arri-', '   buena sombra le cobi-,', '   en Béjar tu buena estre-', '   un árbol real te ofre-', '   que da príncipes por fru-,', '   en el cual floreció un du-', '   que es nuevo Alejandro Ma-:', '   llega a su sombra, que a osa-', '   favorece la fortu-.', '   De un noble hidalgo manche-', '   contarás las aventu-,', '   a quien ociosas letu-,', '   trastornaron la cabe-:', '   damas, armas, caballe-,', '   le provocaron de mo-,', '   que, cual Orlando furio-,', '   templado a lo enamora-,', '   alcanzó a fuerza de bra-', '   a Dulcinea del Tobo-.', '   No indiscretos hieroglí-', '   estampes en el escu-,', '   que, cuando es todo figu-,', '   con ruines puntos se envi-.', '   Si en la dirección te humi-,', '', '   no dirá, mofante, algu-:', \"   ''¡Qué don Álvaro de Lu-,\", '   qué Anibal el de Carta-,', '   qué rey Francisco en Espa-', \"   se queja de la Fortu-!''\", '   Pues al cielo no le plu-', '   que salieses tan ladi-', '   como el negro Juan Lati-,', '   hablar latines rehú-.', '   No me despuntes de agu-,', '   ni me alegues con filó-,', '   porque, torciendo la bo-,', '   dirá el que entiende la le-,', '   no un palmo de las ore-:', \"   ''¿Para qué conmigo flo-?''\", '   No te metas en dibu-,', '   ni en saber vidas aje-,', '   que, en lo que no va ni vie-,', '', '   pasar de largo es cordu-.', '   Que suelen en caperu-', '   darles a los que grace-;', '   mas tú quémate las ce-', '   sólo en cobrar buena fa-;', '   que el que imprime neceda-', '   dalas a censo perpe-.', '   Advierte que es desati-,', '   siendo de vidrio el teja-,', '   tomar piedras en las ma-', '   para tirar al veci-.', '   Deja que el hombre de jui-,', '   en las obras que compo-,', '   se vaya con pies de plo-;', '   que el que saca a luz pape-', '   para entretener donce-', '   escribe a tontas y a lo-.', '', 'AMADÍS DE GAULA A DON QUIJOTE DE LA MANCHA', '', 'Soneto', '', '   Tú, que imitaste la llorosa vida', '   que tuve, ausente y desdeñado sobre', '   el gran ribazo de la Peña Pobre,', '   de alegre a penitencia reducida;', '   tú, a quien los ojos dieron la bebida', '   de abundante licor, aunque salobre,', '   y alzándote la plata, estaño y cobre,', '   te dio la tierra en tierra la comida,', '   vive seguro de que eternamente,', '   en tanto, al menos, que en la cuarta esfera,', '   sus caballos aguije el rubio Apolo,', '   tendrás claro renombre de valiente;', '   tu patria será en todas la primera;', '   tu sabio autor, al mundo único y solo.', '', 'DON BELIANÍS DE GRECIA A DON QUIJOTE DE LA MANCHA', '', 'Soneto', '', '   Rompí, corté, abollé, y dije y hice', '   más que en el orbe caballero andante;', '   fui diestro, fui valiente, fui arrogante;', '   mil agravios vengué, cien mil deshice.', '   Hazañas di a la Fama que eternice;', '   fui comedido y regalado amante;', '   fue enano para mí todo gigante,', '   y al duelo en cualquier punto satisfice.', '   Tuve a mis pies postrada la Fortuna,', '   y trajo del copete mi cordura', '   a la calva Ocasión al estricote.', '   Más, aunque sobre el cuerno de la luna', '   siempre se vio encumbrada mi ventura,', '   tus proezas envidio, ¡oh gran Quijote!', '', 'LA SEÑORA ORIANA A DULCINEA DEL TOBOSO', '', 'Soneto', '', '   ¡Oh, quién tuviera, hermosa Dulcinea,', '   por más comodidad y más reposo,', '   a Miraflores puesto en el Toboso,', '   y trocara sus Londres con tu aldea!', '   ¡Oh, quién de tus deseos y librea', '   alma y cuerpo adornara, y del famoso', '   caballero que hiciste venturoso', '   mirara alguna desigual pelea!', '   ¡Oh, quién tan castamente se escapara', '   del señor Amadís como tú hiciste', '   del comedido hidalgo don Quijote!', '   Que así envidiada fuera, y no envidiara,', '   y fuera alegre el tiempo que fue triste,', '   y gozara los gustos sin escote.', '', 'GANDALÍN, ESCUDERO DE AMADÍS DE GAULA, A SANCHO PANZA, ESCUDERO DE DON QUIJOTE', '', 'Soneto', '', '   Salve, varón famoso, a quien Fortuna,', '   cuando en el trato escuderil te puso,', '   tan blanda y cuerdamente lo dispuso,', '   que lo pasaste sin desgracia alguna.', '   Ya la azada o la hoz poco repugna', '   al andante ejercicio; ya está en uso', '   la llaneza escudera, con que acuso', '   al soberbio que intenta hollar la luna.', '   Envidio a tu jumento y a tu nombre,', '   y a tus alforjas igualmente invidio,', '   que mostraron tu cuerda providencia.', '   Salve otra vez, ¡oh Sancho!, tan buen hombre,', '   que a solo tú nuestro español Ovidio', '   con buzcorona te hace reverencia.', '', 'DEL DONOSO, POETA ENTREVERADO, A SANCHO PANZA Y ROCINANTE', '', '   Soy Sancho Panza, escude-', '   del manchego don Quijo-.', '   Puse pies en polvoro-,', '   por vivir a lo discre-;', '   que el tácito Villadie-', '   toda su razón de esta-', '   cifró en una retira-,', '   según siente Celesti-,', '   libro, en mi opinión, divi-', '   si encubriera más lo huma-.', '   A Rocinante', '   Soy Rocinante, el famo-', '   bisnieto del gran Babie-.', '   Por pecados de flaque-,', '   fui a poder de un don Quijo-.', '   Parejas corrí a lo flo-;', '   mas, por uña de caba-,', '   no se me escapó ceba-;', '   que esto saqué a Lazari-', '   cuando, para hurtar el vi-', '   al ciego, le di la pa-.', '', 'ORLANDO FURIOSO A DON QUIJOTE DE LA MANCHA', '', 'Soneto', '', '   Si no eres par, tampoco le has tenido:', '   que par pudieras ser entre mil pares;', '   ni puede haberle donde tú te hallares,', '   invito vencedor, jamás vencido.', '   Orlando soy, Quijote, que, perdido', '   por Angélica, vi remotos mares,', '   ofreciendo a la Fama en sus altares', '   aquel valor que respetó el olvido.', '   No puedo ser tu igual; que este decoro', '   se debe a tus proezas y a tu fama,', '   puesto que, como yo, perdiste el seso.', '   Mas serlo has mío, si al soberbio moro', '   y cita fiero domas, que hoy nos llama', '   iguales en amor con mal suceso.', '', 'EL CABALLERO DEL FEBO A DON QUIJOTE DE LA MANCHA', '', 'Soneto', '', '   A vuestra espada no igualó la mía,', '   Febo español, curioso cortesano,', '   ni a la alta gloria de valor mi mano,', '   que rayo fue do nace y muere el día.', '   Imperios desprecié; la monarquía', '   que me ofreció el Oriente rojo en vano', '   dejé, por ver el rostro soberano', '   de Claridiana, aurora hermosa mía.', '   Améla por milagro único y raro,', '   y, ausente en su desgracia, el propio infierno', '   temió mi brazo, que domó su rabia.', '   Mas vos, godo Quijote, ilustre y claro,', '   por Dulcinea sois al mundo eterno,', '   y ella, por vos, famosa, honesta y sabia.', '', 'DE SOLISDÁN A DON QUIJOTE DE LA MANCHA', '', 'Soneto', '', '   Maguer, señor Quijote, que sandeces', '   vos tengan el cerbelo derrumbado,', '   nunca seréis de alguno reprochado', '   por home de obras viles y soeces.', '   Serán vuesas fazañas los joeces,', '   pues tuertos desfaciendo habéis andado,', '   siendo vegadas mil apaleado', '   por follones cautivos y raheces.', '   Y si la vuesa linda Dulcinea', '   desaguisado contra vos comete,', '   ni a vuesas cuitas muestra buen talante,', '   en tal desmán, vueso conorte sea', '   que Sancho Panza fue mal alcagüete,', '   necio él, dura ella, y vos no amante.', '', 'DIÁLOGO ENTRE BABIECA Y ROCINANTE', '', 'Soneto', '', '   B. ¿Cómo estáis, Rocinante, tan delgado?', '   R. Porque nunca se come, y se trabaja.', '   B. Pues, ¿qué es de la cebada y de la paja?', '   R. No me deja mi amo ni un bocado.', '   B. Andá, señor, que estáis muy mal criado,', '   pues vuestra lengua de asno al amo ultraja.', '   R. Asno se es de la cuna a la mortaja.', '   ¿Queréislo ver? Miraldo enamorado.', '   B. ¿Es necedad amar? R. No es gran prudencia.', '   B. Metafísico estáis. R. Es que no como.', '   B. Quejaos del escudero. R. No es bastante.', '   ¿Cómo me he de quejar en mi dolencia,', '   si el amo y escudero o mayordomo', '   son tan rocines como Rocinante?', '', 'Primera parte del ingenioso hidalgo don Quijote de la Mancha', '', '', '', '', '', 'Capítulo primero. Que trata de la condición y ejercicio del famoso hidalgo', 'don Quijote de la Mancha', '', '', 'En un lugar de la Mancha, de cuyo nombre no quiero acordarme, no ha mucho', 'tiempo que vivía un hidalgo de los de lanza en astillero, adarga antigua,', 'rocín flaco y galgo corredor. Una olla de algo más vaca que carnero,', 'salpicón las más noches, duelos y quebrantos los sábados, lantejas los', 'viernes, algún palomino de añadidura los domingos, consumían las tres', 'partes de su hacienda. El resto della concluían sayo de velarte, calzas de', 'velludo para las fiestas, con sus pantuflos de lo mesmo, y los días de', 'entresemana se honraba con su vellorí de lo más fino. Tenía en su casa una', 'ama que pasaba de los cuarenta, y una sobrina que no llegaba a los veinte,', 'y un mozo de campo y plaza, que así ensillaba el rocín como tomaba la', 'podadera. Frisaba la edad de nuestro hidalgo con los cincuenta años; era de', 'complexión recia, seco de carnes, enjuto de rostro, gran madrugador y amigo', 'de la caza. Quieren decir que tenía el sobrenombre de Quijada, o Quesada,', 'que en esto hay alguna diferencia en los autores que deste caso escriben;', 'aunque, por conjeturas verosímiles, se deja entender que se llamaba', 'Quejana. Pero esto importa poco a nuestro cuento; basta que en la narración', 'dél no se salga un punto de la verdad.', '', 'Es, pues, de saber que este sobredicho hidalgo, los ratos que estaba', 'ocioso, que eran los más del año, se daba a leer libros de caballerías, con', 'tanta afición y gusto, que olvidó casi de todo punto el ejercicio de la', 'caza, y aun la administración de su hacienda. Y llegó a tanto su curiosidad', 'y desatino en esto, que vendió muchas hanegas de tierra de sembradura para', 'comprar libros de caballerías en que leer, y así, llevó a su casa todos', 'cuantos pudo haber dellos; y de todos, ningunos le parecían tan bien como', 'los que compuso el famoso Feliciano de Silva, porque la claridad de su', 'prosa y aquellas entricadas razones suyas le parecían de perlas, y más', 'cuando llegaba a leer aquellos requiebros y cartas de desafíos, donde en', 'muchas partes hallaba escrito: La razón de la sinrazón que a mi razón se', 'hace, de tal manera mi razón enflaquece, que con razón me quejo de la', 'vuestra fermosura. Y también cuando leía: ...los altos cielos que de', 'vuestra divinidad divinamente con las estrellas os fortifican, y os hacen', 'merecedora del merecimiento que merece la vuestra grandeza.', '', 'Con estas razones perdía el pobre caballero el juicio, y desvelábase por', 'entenderlas y desentrañarles el sentido, que no se lo sacara ni las', 'entendiera el mesmo Aristóteles, si resucitara para sólo ello. No estaba', 'muy bien con las heridas que don Belianís daba y recebía, porque se', 'imaginaba que, por grandes maestros que le hubiesen curado, no dejaría de', 'tener el rostro y todo el cuerpo lleno de cicatrices y señales. Pero, con', 'todo, alababa en su autor aquel acabar su libro con la promesa de aquella', 'inacabable aventura, y muchas veces le vino deseo de tomar la pluma y dalle', 'fin al pie de la letra, como allí se promete; y sin duda alguna lo hiciera,', 'y aun saliera con ello, si otros mayores y continuos pensamientos no se lo', 'estorbaran. Tuvo muchas veces competencia con el cura de su lugar -que era', 'hombre docto, graduado en Sigüenza-, sobre cuál había sido mejor caballero:', 'Palmerín de Ingalaterra o Amadís de Gaula; mas maese Nicolás, barbero del', 'mesmo pueblo, decía que ninguno llegaba al Caballero del Febo, y que si', 'alguno se le podía comparar, era don Galaor, hermano de Amadís de Gaula,', 'porque tenía muy acomodada condición para todo; que no era caballero', 'melindroso, ni tan llorón como su hermano, y que en lo de la valentía no le', 'iba en zaga.', '', 'En resolución, él se enfrascó tanto en su letura, que se le pasaban las', 'noches leyendo de claro en claro, y los días de turbio en turbio; y así,', 'del poco dormir y del mucho leer, se le secó el celebro, de manera que vino', 'a perder el juicio. Llenósele la fantasía de todo aquello que leía en los', 'libros, así de encantamentos como de pendencias, batallas, desafíos,', 'heridas, requiebros, amores, tormentas y disparates imposibles; y', 'asentósele de tal modo en la imaginación que era verdad toda aquella', 'máquina de aquellas sonadas soñadas invenciones que leía, que para él no', 'había otra historia más cierta en el mundo. Decía él que el Cid Ruy Díaz', 'había sido muy buen caballero, pero que no tenía que ver con el Caballero', 'de la Ardiente Espada, que de sólo un revés había partido por medio dos', 'fieros y descomunales gigantes. Mejor estaba con Bernardo del Carpio,', 'porque en Roncesvalles había muerto a Roldán el encantado, valiéndose de la', 'industria de Hércules, cuando ahogó a Anteo, el hijo de la Tierra, entre', 'los brazos. Decía mucho bien del gigante Morgante, porque, con ser de', 'aquella generación gigantea, que todos son soberbios y descomedidos, él', 'solo era afable y bien criado. Pero, sobre todos, estaba bien con Reinaldos', 'de Montalbán, y más cuando le veía salir de su castillo y robar cuantos', 'topaba, y cuando en allende robó aquel ídolo de Mahoma que era todo de oro,', 'según dice su historia. Diera él, por dar una mano de coces al traidor de', 'Galalón, al ama que tenía, y aun a su sobrina de añadidura.', '', 'En efeto, rematado ya su juicio, vino a dar en el más estraño pensamiento', 'que jamás dio loco en el mundo; y fue que le pareció convenible y', 'necesario, así para el aumento de su honra como para el servicio de su', 'república, hacerse caballero andante, y irse por todo el mundo con sus', 'armas y caballo a buscar las aventuras y a ejercitarse en todo aquello que', 'él había leído que los caballeros andantes se ejercitaban, deshaciendo todo', 'género de agravio, y poniéndose en ocasiones y peligros donde, acabándolos,', 'cobrase eterno nombre y fama. Imaginábase el pobre ya coronado por el valor', 'de su brazo, por lo menos, del imperio de Trapisonda; y así, con estos tan', 'agradables pensamientos, llevado del estraño gusto que en ellos sentía, se', 'dio priesa a poner en efeto lo que deseaba.', '', 'Y lo primero que hizo fue limpiar unas armas que habían sido de sus', 'bisabuelos, que, tomadas de orín y llenas de moho, luengos siglos había que', 'estaban puestas y olvidadas en un rincón. Limpiólas y aderezólas lo mejor', 'que pudo, pero vio que tenían una gran falta, y era que no tenían celada de', 'encaje, sino morrión simple; mas a esto suplió su industria, porque de', 'cartones hizo un modo de media celada, que, encajada con el morrión, hacían', 'una apariencia de celada entera. Es verdad que para probar si era fuerte y', 'podía estar al riesgo de una cuchillada, sacó su espada y le dio dos', 'golpes, y con el primero y en un punto deshizo lo que había hecho en una', 'semana; y no dejó de parecerle mal la facilidad con que la había hecho', 'pedazos, y, por asegurarse deste peligro, la tornó a hacer de nuevo,', 'poniéndole unas barras de hierro por de dentro, de tal manera que él quedó', 'satisfecho de su fortaleza; y, sin querer hacer nueva experiencia della, la', 'diputó y tuvo por celada finísima de encaje.', '', 'Fue luego a ver su rocín, y, aunque tenía más cuartos que un real y más', 'tachas que el caballo de Gonela, que tantum pellis et ossa fuit, le pareció', 'que ni el Bucéfalo de Alejandro ni Babieca el del Cid con él se igualaban.', 'Cuatro días se le pasaron en imaginar qué nombre le pondría; porque, según', 'se decía él a sí mesmo, no era razón que caballo de caballero tan famoso, y', 'tan bueno él por sí, estuviese sin nombre conocido; y ansí, procuraba', 'acomodársele de manera que declarase quién había sido, antes que fuese de', 'caballero andante, y lo que era entonces; pues estaba muy puesto en razón', 'que, mudando su señor estado, mudase él también el nombre, y le cobrase', 'famoso y de estruendo, como convenía a la nueva orden y al nuevo ejercicio', 'que ya profesaba. Y así, después de muchos nombres que formó, borró y', 'quitó, añadió, deshizo y tornó a hacer en su memoria e imaginación, al fin', 'le vino a llamar Rocinante: nombre, a su parecer, alto, sonoro y', 'significativo de lo que había sido cuando fue rocín, antes de lo que ahora', 'era, que era antes y primero de todos los rocines del mundo.', '', 'Puesto nombre, y tan a su gusto, a su caballo, quiso ponérsele a sí mismo,', 'y en este pensamiento duró otros ocho días, y al cabo se vino a llamar don', 'Quijote; de donde -como queda dicho- tomaron ocasión los autores desta tan', 'verdadera historia que, sin duda, se debía de llamar Quijada, y no Quesada,', 'como otros quisieron decir. Pero, acordándose que el valeroso Amadís no', 'sólo se había contentado con llamarse Amadís a secas, sino que añadió el', 'nombre de su reino y patria, por Hepila famosa, y se llamó Amadís de Gaula,', 'así quiso, como buen caballero, añadir al suyo el nombre de la suya y', 'llamarse don Quijote de la Mancha, con que, a su parecer, declaraba muy al', 'vivo su linaje y patria, y la honraba con tomar el sobrenombre della.', '', 'Limpias, pues, sus armas, hecho del morrión celada, puesto nombre a su', 'rocín y confirmándose a sí mismo, se dio a entender que no le faltaba otra', 'cosa sino buscar una dama de quien enamorarse; porque el caballero andante', 'sin amores era árbol sin hojas y sin fruto y cuerpo sin alma. Decíase él', 'a sí:', '', '-Si yo, por malos de mis pecados, o por mi buena suerte, me encuentro por', 'ahí con algún gigante, como de ordinario les acontece a los caballeros', 'andantes, y le derribo de un encuentro, o le parto por mitad del cuerpo, o,', 'finalmente, le venzo y le rindo, ¿no será bien tener a quien enviarle', 'presentado y que entre y se hinque de rodillas ante mi dulce señora, y diga', \"con voz humilde y rendido: ''Yo, señora, soy el gigante Caraculiambro,\", 'señor de la ínsula Malindrania, a quien venció en singular batalla el', 'jamás como se debe alabado caballero don Quijote de la Mancha, el cual me', 'mandó que me presentase ante vuestra merced, para que la vuestra grandeza', \"disponga de mí a su talante''?\", '', '¡Oh, cómo se holgó nuestro buen caballero cuando hubo hecho este discurso,', 'y más cuando halló a quien dar nombre de su dama! Y fue, a lo que se cree,', 'que en un lugar cerca del suyo había una moza labradora de muy buen', 'parecer, de quien él un tiempo anduvo enamorado, aunque, según se entiende,', 'ella jamás lo supo, ni le dio cata dello. Llamábase Aldonza Lorenzo, y a', 'ésta le pareció ser bien darle título de señora de sus pensamientos; y,', 'buscándole nombre que no desdijese mucho del suyo, y que tirase y se', 'encaminase al de princesa y gran señora, vino a llamarla Dulcinea del', 'Toboso, porque era natural del Toboso; nombre, a su parecer, músico y', 'peregrino y significativo, como todos los demás que a él y a sus cosas', 'había puesto.', '', '', '', '', '', 'Capítulo II. Que trata de la primera salida que de su tierra hizo el', 'ingenioso don Quijote', '', '', 'Hechas, pues, estas prevenciones, no quiso aguardar más tiempo a poner en', 'efeto su pensamiento, apretándole a ello la falta que él pensaba que hacía', 'en el mundo su tardanza, según eran los agravios que pensaba deshacer,', 'tuertos que enderezar, sinrazones que emendar, y abusos que mejorar y', 'deudas que satisfacer. Y así, sin dar parte a persona alguna de su', 'intención, y sin que nadie le viese, una mañana, antes del día, que era uno', 'de los calurosos del mes de julio, se armó de todas sus armas, subió sobre', 'Rocinante, puesta su mal compuesta celada, embrazó su adarga, tomó su', 'lanza, y, por la puerta falsa de un corral, salió al campo con grandísimo', 'contento y alborozo de ver con cuánta facilidad había dado principio a su', 'buen deseo. Mas, apenas se vio en el campo, cuando le asaltó un pensamiento', 'terrible, y tal, que por poco le hiciera dejar la comenzada empresa; y fue', 'que le vino a la memoria que no era armado caballero, y que, conforme a ley', 'de caballería, ni podía ni debía tomar armas con ningún caballero; y,', 'puesto que lo fuera, había de llevar armas blancas, como novel caballero,', 'sin empresa en el escudo, hasta que por su esfuerzo la ganase. Estos', 'pensamientos le hicieron titubear en su propósito; mas, pudiendo más su', 'locura que otra razón alguna, propuso de hacerse armar caballero del', 'primero que topase, a imitación de otros muchos que así lo hicieron, según', 'él había leído en los libros que tal le tenían. En lo de las armas blancas,', 'pensaba limpiarlas de manera, en teniendo lugar, que lo fuesen más que un', 'armiño; y con esto se quietó y prosiguió su camino, sin llevar otro que', 'aquel que su caballo quería, creyendo que en aquello consistía la fuerza de', 'las aventuras.', '', 'Yendo, pues, caminando nuestro flamante aventurero, iba hablando consigo', 'mesmo y diciendo:', '', '-¿Quién duda sino que en los venideros tiempos, cuando salga a luz la', 'verdadera historia de mis famosos hechos, que el sabio que los escribiere', 'no ponga, cuando llegue a contar esta mi primera salidad tan de mañana,', 'desta manera?: «Apenas había el rubicundo Apolo tendido por la faz de la', 'ancha y espaciosa tierra las doradas hebras de sus hermosos cabellos, y', 'apenas los pequeños y pintados pajarillos con sus arpadas lenguas habían', 'saludado con dulce y meliflua armonía la venida de la rosada aurora, que,', 'dejando la blanda cama del celoso marido, por las puertas y balcones del', 'manchego horizonte a los mortales se mostraba, cuando el famoso caballero', 'don Quijote de la Mancha, dejando las ociosas plumas, subió sobre su famoso', 'caballo Rocinante, y comenzó a caminar por el antiguo y conocido campo de', 'Montiel».', '', 'Y era la verdad que por él caminaba. Y añadió diciendo:', '', '-Dichosa edad, y siglo dichoso aquel adonde saldrán a luz las famosas', 'hazañas mías, dignas de entallarse en bronces, esculpirse en mármoles y', 'pintarse en tablas para memoria en lo futuro. ¡Oh tú, sabio encantador,', 'quienquiera que seas, a quien ha de tocar el ser coronista desta peregrina', 'historia, ruégote que no te olvides de mi buen Rocinante, compañero eterno', 'mío en todos mis caminos y carreras!', '', 'Luego volvía diciendo, como si verdaderamente fuera enamorado:', '', '-¡Oh princesa Dulcinea, señora deste cautivo corazón!, mucho agravio me', 'habedes fecho en despedirme y reprocharme con el riguroso afincamiento de', 'mandarme no parecer ante la vuestra fermosura. Plégaos, señora, de', 'membraros deste vuestro sujeto corazón, que tantas cuitas por vuestro amor', 'padece.', '', 'Con éstos iba ensartando otros disparates, todos al modo de los que sus', 'libros le habían enseñado, imitando en cuanto podía su lenguaje. Con esto,', 'caminaba tan despacio, y el sol entraba tan apriesa y con tanto ardor, que', 'fuera bastante a derretirle los sesos, si algunos tuviera.', '', 'Casi todo aquel día caminó sin acontecerle cosa que de contar fuese, de lo', 'cual se desesperaba, porque quisiera topar luego luego con quien hacer', 'experiencia del valor de su fuerte brazo. Autores hay que dicen que la', 'primera aventura que le avino fue la del Puerto Lápice; otros dicen que la', 'de los molinos de viento; pero, lo que yo he podido averiguar en este caso,', 'y lo que he hallado escrito en los Anales de la Mancha, es que él anduvo', 'todo aquel día, y, al anochecer, su rocín y él se hallaron cansados y', 'muertos de hambre; y que, mirando a todas partes por ver si descubriría', 'algún castillo o alguna majada de pastores donde recogerse y adonde pudiese', 'remediar su mucha hambre y necesidad, vio, no lejos del camino por donde', 'iba, una venta, que fue como si viera una estrella que, no a los portales,', 'sino a los alcázares de su redención le encaminaba. Diose priesa a caminar,', 'y llegó a ella a tiempo que anochecía.', '', 'Estaban acaso a la puerta dos mujeres mozas, destas que llaman del partido,', 'las cuales iban a Sevilla con unos arrieros que en la venta aquella noche', 'acertaron a hacer jornada; y, como a nuestro aventurero todo cuanto', 'pensaba, veía o imaginaba le parecía ser hecho y pasar al modo de lo que', 'había leído, luego que vio la venta, se le representó que era un castillo', 'con sus cuatro torres y chapiteles de luciente plata, sin faltarle su', 'puente levadiza y honda cava, con todos aquellos adherentes que semejantes', 'castillos se pintan. Fuese llegando a la venta, que a él le parecía', 'castillo, y a poco trecho della detuvo las riendas a Rocinante, esperando', 'que algún enano se pusiese entre las almenas a dar señal con alguna', 'trompeta de que llegaba caballero al castillo. Pero, como vio que se', 'tardaban y que Rocinante se daba priesa por llegar a la caballeriza, se', 'llegó a la puerta de la venta, y vio a las dos destraídas mozas que allí', 'estaban, que a él le parecieron dos hermosas doncellas o dos graciosas', 'damas que delante de la puerta del castillo se estaban solazando. En esto,', 'sucedió acaso que un porquero que andaba recogiendo de unos rastrojos una', 'manada de puercos -que, sin perdón, así se llaman- tocó un cuerno, a cuya', 'señal ellos se recogen, y al instante se le representó a don Quijote lo que', 'deseaba, que era que algún enano hacía señal de su venida; y así, con', 'estraño contento, llegó a la venta y a las damas, las cuales, como vieron', 'venir un hombre de aquella suerte, armado y con lanza y adarga, llenas de', 'miedo, se iban a entrar en la venta; pero don Quijote, coligiendo por su', 'huida su miedo, alzándose la visera de papelón y descubriendo su seco y', 'polvoroso rostro, con gentil talante y voz reposada, les dijo:', '', '-No fuyan las vuestras mercedes ni teman desaguisado alguno; ca a la orden', 'de caballería que profeso non toca ni atañe facerle a ninguno, cuanto más a', 'tan altas doncellas como vuestras presencias demuestran.', '', 'Mirábanle las mozas, y andaban con los ojos buscándole el rostro, que la', 'mala visera le encubría; mas, como se oyeron llamar doncellas, cosa tan', 'fuera de su profesión, no pudieron tener la risa, y fue de manera que don', 'Quijote vino a correrse y a decirles:', '', '-Bien parece la mesura en las fermosas, y es mucha sandez además la risa', 'que de leve causa procede; pero no vos lo digo porque os acuitedes ni', 'mostredes mal talante; que el mío non es de ál que de serviros.', '', 'El lenguaje, no entendido de las señoras, y el mal talle de nuestro', 'caballero acrecentaba en ellas la risa y en él el enojo; y pasara muy', 'adelante si a aquel punto no saliera el ventero, hombre que, por ser muy', 'gordo, era muy pacífico, el cual, viendo aquella figura contrahecha, armada', 'de armas tan desiguales como eran la brida, lanza, adarga y coselete, no', 'estuvo en nada en acompañar a las doncellas en las muestras de su contento.', 'Mas, en efeto, temiendo la máquina de tantos pertrechos, determinó de', 'hablarle comedidamente; y así, le dijo:', '', '-Si vuestra merced, señor caballero, busca posada, amén del lecho (porque', 'en esta venta no hay ninguno), todo lo demás se hallará en ella en mucha', 'abundancia.', '', 'Viendo don Quijote la humildad del alcaide de la fortaleza, que tal le', 'pareció a él el ventero y la venta, respondió:', '', '   -Para mí, señor castellano, cualquiera cosa basta, porque', '   mis arreos son las armas,', '   mi descanso el pelear, etc.', '', 'Pensó el huésped que el haberle llamado castellano había sido por haberle', 'parecido de los sanos de Castilla, aunque él era andaluz, y de los de la', 'playa de Sanlúcar, no menos ladrón que Caco, ni menos maleante que', 'estudiantado paje; y así, le respondió:', '', '-Según eso, las camas de vuestra merced serán duras peñas, y su dormir,', 'siempre velar; y siendo así, bien se puede apear, con seguridad de hallar', 'en esta choza ocasión y ocasiones para no dormir en todo un año, cuanto más', 'en una noche.', '', 'Y, diciendo esto, fue a tener el estribo a don Quijote, el cual se apeó con', 'mucha dificultad y trabajo, como aquel que en todo aquel día no se había', 'desayunado.', '', 'Dijo luego al huésped que le tuviese mucho cuidado de su caballo, porque', 'era la mejor pieza que comía pan en el mundo. Miróle el ventero, y no le', 'pareció tan bueno como don Quijote decía, ni aun la mitad; y, acomodándole', 'en la caballeriza, volvió a ver lo que su huésped mandaba, al cual estaban', 'desarmando las doncellas, que ya se habían reconciliado con él; las cuales,', 'aunque le habían quitado el peto y el espaldar, jamás supieron ni pudieron', 'desencajarle la gola, ni quitalle la contrahecha celada, que traía atada', 'con unas cintas verdes, y era menester cortarlas, por no poderse quitar los', 'ñudos; mas él no lo quiso consentir en ninguna manera, y así, se quedó toda', 'aquella noche con la celada puesta, que era la más graciosa y estraña', 'figura que se pudiera pensar; y, al desarmarle, como él se imaginaba que', 'aquellas traídas y llevadas que le desarmaban eran algunas principales', 'señoras y damas de aquel castillo, les dijo con mucho donaire:', '', '   -Nunca fuera caballero', '   de damas tan bien servido', '   como fuera don Quijote', '   cuando de su aldea vino:', '   doncellas curaban dél;', '   princesas, del su rocino,', '', 'o Rocinante, que éste es el nombre, señoras mías, de mi caballo, y don', 'Quijote de la Mancha el mío; que, puesto que no quisiera descubrirme fasta', 'que las fazañas fechas en vuestro servicio y pro me descubrieran, la fuerza', 'de acomodar al propósito presente este romance viejo de Lanzarote ha sido', 'causa que sepáis mi nombre antes de toda sazón; pero, tiempo vendrá en que', 'las vuestras señorías me manden y yo obedezca, y el valor de mi brazo', 'descubra el deseo que tengo de serviros.', '', 'Las mozas, que no estaban hechas a oír semejantes retóricas, no respondían', 'palabra; sólo le preguntaron si quería comer alguna cosa.', '', '-Cualquiera yantaría yo -respondió don Quijote-, porque, a lo que entiendo,', 'me haría mucho al caso.', '', 'A dicha, acertó a ser viernes aquel día, y no había en toda la venta sino', 'unas raciones de un pescado que en Castilla llaman abadejo, y en Andalucía', 'bacallao, y en otras partes curadillo, y en otras truchuela. Preguntáronle', 'si por ventura comería su merced truchuela, que no había otro pescado que', 'dalle a comer.', '', '-Como haya muchas truchuelas -respondió don Quijote-, podrán servir de una', 'trucha, porque eso se me da que me den ocho reales en sencillos que en una', 'pieza de a ocho. Cuanto más, que podría ser que fuesen estas truchuelas', 'como la ternera, que es mejor que la vaca, y el cabrito que el cabrón.', 'Pero, sea lo que fuere, venga luego, que el trabajo y peso de las armas no', 'se puede llevar sin el gobierno de las tripas.', '', 'Pusiéronle la mesa a la puerta de la venta, por el fresco, y trújole el', 'huésped una porción del mal remojado y peor cocido bacallao, y un pan tan', 'negro y mugriento como sus armas; pero era materia de grande risa verle', 'comer, porque, como tenía puesta la celada y alzada la visera, no podía', 'poner nada en la boca con sus manos si otro no se lo daba y ponía; y ansí,', 'una de aquellas señoras servía deste menester. Mas, al darle de beber, no', 'fue posible, ni lo fuera si el ventero no horadara una caña, y puesto el un', 'cabo en la boca, por el otro le iba echando el vino; y todo esto lo recebía', 'en paciencia, a trueco de no romper las cintas de la celada.', '', 'Estando en esto, llegó acaso a la venta un castrador de puercos; y, así', 'como llegó, sonó su silbato de cañas cuatro o cinco veces, con lo cual', 'acabó de confirmar don Quijote que estaba en algún famoso castillo, y que', 'le servían con música, y que el abadejo eran truchas; el pan, candeal; y', 'las rameras, damas; y el ventero, castellano del castillo, y con esto daba', 'por bien empleada su determinación y salida. Mas lo que más le fatigaba era', 'el no verse armado caballero, por parecerle que no se podría poner', 'legítimamente en aventura alguna sin recebir la orden de caballería.', '', '', '', '', '', 'Capítulo III. Donde se cuenta la graciosa manera que tuvo don Quijote en']\n"
          ]
        }
      ],
      "source": [
        "quijoteRDD = sc.textFile(os.environ[\"DRIVE_DATA\"] + \"quijote.txt\")\n",
        "\n",
        "print(quijoteRDD.take(1000))"
      ]
    },
    {
      "cell_type": "markdown",
      "metadata": {
        "id": "JOiqOaBUjNee"
      },
      "source": [
        "## Partitions\n",
        "\n",
        "Spark splits each RDD into multiple partitions, which may be computed on different nodes of the cluster\n",
        "\n",
        "-   The default number of partitions is function of the size of the cluster or the number of file blocks (for example, HDFS blocks)\n",
        "\n",
        "-   A different number of partitions can be defined when the RDD is created\n",
        "\n",
        "-  They can also be modified once created  (`repartition` or `coalesce`)\n",
        "\n",
        "-  The method `glom` shows how the partitions were created"
      ]
    },
    {
      "cell_type": "code",
      "execution_count": 12,
      "metadata": {
        "id": "3-rwTuOnjl2A",
        "colab": {
          "base_uri": "https://localhost:8080/"
        },
        "outputId": "6a20b262-b06a-4f40-848d-2bc78820b63f"
      },
      "outputs": [
        {
          "output_type": "stream",
          "name": "stdout",
          "text": [
            "[[1, 2], [3, 4]]\n",
            "2\n"
          ]
        }
      ],
      "source": [
        "rdd = sc.parallelize([1,2,3,4], 2)\n",
        "print(rdd.glom().collect())\n",
        "print(rdd.getNumPartitions())"
      ]
    },
    {
      "cell_type": "markdown",
      "metadata": {
        "id": "3XcddAzKj2il"
      },
      "source": [
        "## RDDs and DataFrames\n",
        "\n",
        "A DataFrame has an RDD underneath, that can be accessed in a simple way"
      ]
    },
    {
      "cell_type": "code",
      "execution_count": 13,
      "metadata": {
        "id": "GFeEiX37kDu2",
        "colab": {
          "base_uri": "https://localhost:8080/"
        },
        "outputId": "b5475104-8575-4d61-aa5f-2e722cbfc601"
      },
      "outputs": [
        {
          "output_type": "execute_result",
          "data": {
            "text/plain": [
              "[Row(DEST_COUNTRY_NAME='United States', ORIGIN_COUNTRY_NAME='Romania', count=15),\n",
              " Row(DEST_COUNTRY_NAME='United States', ORIGIN_COUNTRY_NAME='Croatia', count=1),\n",
              " Row(DEST_COUNTRY_NAME='United States', ORIGIN_COUNTRY_NAME='Ireland', count=344),\n",
              " Row(DEST_COUNTRY_NAME='Egypt', ORIGIN_COUNTRY_NAME='United States', count=15),\n",
              " Row(DEST_COUNTRY_NAME='United States', ORIGIN_COUNTRY_NAME='India', count=62),\n",
              " Row(DEST_COUNTRY_NAME='United States', ORIGIN_COUNTRY_NAME='Singapore', count=1),\n",
              " Row(DEST_COUNTRY_NAME='United States', ORIGIN_COUNTRY_NAME='Grenada', count=62),\n",
              " Row(DEST_COUNTRY_NAME='Costa Rica', ORIGIN_COUNTRY_NAME='United States', count=588),\n",
              " Row(DEST_COUNTRY_NAME='Senegal', ORIGIN_COUNTRY_NAME='United States', count=40),\n",
              " Row(DEST_COUNTRY_NAME='Moldova', ORIGIN_COUNTRY_NAME='United States', count=1)]"
            ]
          },
          "metadata": {},
          "execution_count": 13
        }
      ],
      "source": [
        "dfFlightData2015 = (spark\n",
        "    .read\n",
        "    .option(\"inferSchema\", \"true\")\n",
        "    .option(\"header\", \"true\")\n",
        "    .csv(os.environ[\"DRIVE_DATA\"] + \"2015-summary.csv\"))\n",
        "\n",
        "rddFlightData2015 = dfFlightData2015.rdd\n",
        "\n",
        "rddFlightData2015.take(10)"
      ]
    },
    {
      "cell_type": "markdown",
      "metadata": {
        "id": "A844PtpGnteE"
      },
      "source": [
        "We can create a DataFrame from an RDD"
      ]
    },
    {
      "cell_type": "code",
      "execution_count": 15,
      "metadata": {
        "id": "YG5G9L1rnkU9",
        "colab": {
          "base_uri": "https://localhost:8080/"
        },
        "outputId": "c8ae0d4b-a9f5-459d-cadd-a30ef1bf97df"
      },
      "outputs": [
        {
          "output_type": "stream",
          "name": "stdout",
          "text": [
            "+--------------------+-------------------+-----+\n",
            "|   DEST_COUNTRY_NAME|ORIGIN_COUNTRY_NAME|count|\n",
            "+--------------------+-------------------+-----+\n",
            "|       United States|            Romania|   15|\n",
            "|       United States|            Croatia|    1|\n",
            "|       United States|            Ireland|  344|\n",
            "|               Egypt|      United States|   15|\n",
            "|       United States|              India|   62|\n",
            "|       United States|          Singapore|    1|\n",
            "|       United States|            Grenada|   62|\n",
            "|          Costa Rica|      United States|  588|\n",
            "|             Senegal|      United States|   40|\n",
            "|             Moldova|      United States|    1|\n",
            "|       United States|       Sint Maarten|  325|\n",
            "|       United States|   Marshall Islands|   39|\n",
            "|              Guyana|      United States|   64|\n",
            "|               Malta|      United States|    1|\n",
            "|            Anguilla|      United States|   41|\n",
            "|             Bolivia|      United States|   30|\n",
            "|       United States|           Paraguay|    6|\n",
            "|             Algeria|      United States|    4|\n",
            "|Turks and Caicos ...|      United States|  230|\n",
            "|       United States|          Gibraltar|    1|\n",
            "+--------------------+-------------------+-----+\n",
            "only showing top 20 rows\n",
            "\n"
          ]
        }
      ],
      "source": [
        "dfNew = spark.createDataFrame(rddFlightData2015, dfFlightData2015.schema)\n",
        "dfNew.show()"
      ]
    },
    {
      "cell_type": "markdown",
      "metadata": {
        "id": "sykqj4CJo7CF"
      },
      "source": [
        "## Transformations and Actions"
      ]
    },
    {
      "cell_type": "markdown",
      "metadata": {
        "id": "CKFWSW2ukoVT"
      },
      "source": [
        "### Transformations\n",
        "\n",
        "Operations on RDDs that return a new RDD\n",
        "\n",
        "-   Computed in a *lazy* way.\n",
        "\n",
        "-   They typically execute a function (anonymous or not) on each of the original RDD elements."
      ]
    },
    {
      "cell_type": "code",
      "execution_count": 16,
      "metadata": {
        "id": "z3FcbFS0pRlH",
        "colab": {
          "base_uri": "https://localhost:8080/"
        },
        "outputId": "19ba7773-7593-45a7-bf72-61d59d93ebe6"
      },
      "outputs": [
        {
          "output_type": "stream",
          "name": "stdout",
          "text": [
            "['-Encomiéndalo tú a Dios, Sancho -respondió don Quijote-, que Él dará lo que', '-No digo yo, Sancho -replicó don Quijote-, que sea forzoso a los caballeros', '-Ya te entiendo, Sancho -le respondió don Quijote-; que bien se me trasluce', 'llegaban ijadeando; y dijo don Quijote a Sancho:', 'Quijote-. Mas yo te juro, Sancho Panza, a fe de caballero andante, que', '-Sábete, amigo Sancho -respondió don Quijote-, que la vida de los', '-¿Tan malas obras te hago, Sancho -respondió don Quijote-, que me querrías', '-No temas eso, Sancho -dijo don Quijote-, que mejor lo hará el cielo', '-En eso harás lo que debes, Sancho -dijo don Quijote-, porque, para entrar', 'movían. Pasmóse Sancho en viéndolas, y don Quijote no las tuvo todas']\n"
          ]
        }
      ],
      "source": [
        "quijs = quijoteRDD.filter(lambda l: \"Quijote\" in l)\n",
        "sanchs = quijoteRDD.filter(lambda l: \"Sancho\" in l)\n",
        "quijssancs = quijs.intersection(sanchs)\n",
        "print(quijssancs.take(10))"
      ]
    },
    {
      "cell_type": "markdown",
      "metadata": {
        "id": "ou0P7NxAplRd"
      },
      "source": [
        "### Actions\n",
        "\n",
        "Obtain output data from RDDs\n",
        "\n",
        "-   Return values to the driver or to the storage system\n",
        "\n",
        "-   Force the pending transformations to be applied"
      ]
    },
    {
      "cell_type": "code",
      "execution_count": 17,
      "metadata": {
        "id": "ZfnqsVlqpsPw",
        "colab": {
          "base_uri": "https://localhost:8080/"
        },
        "outputId": "e670006d-3ca8-4805-ef1f-7642e41400d0"
      },
      "outputs": [
        {
          "output_type": "stream",
          "name": "stdout",
          "text": [
            "Lines with Quijote and Sancho 350\n",
            "El ventero, que vio a don Quijote atravesado en el asno, preguntó a Sancho\n",
            "don Quijote, por parecerle que siempre había de hablar dél y de Sancho, sin\n",
            "-Mira, Sancho -respondió don Quijote-: si el consejo que me das de que me\n",
            "-Eso no -dijo a esta sazón Sancho, antes que don Quijote respondiese-. Y a\n",
            "-Dáselos, Sancho -dijo don Quijote-, no para tomar el mono, sino la mona; y\n",
            "don Quijote que llegasen a ella a beber un trago. Apenas oyó esto Sancho\n",
            "-¿Es posible -le dijo don Quijote- que todavía, ¡oh Sancho!, pienses que\n",
            "A esta sazón, dijo don Quijote, volviéndose a Sancho:\n",
            "-Pues no ha de ser así, Sancho amigo -respondió don Quijote-, sino que para\n",
            "de don Quijote y de la de Sancho Panza; y, confirmándose en la intención\n"
          ]
        }
      ],
      "source": [
        "nqs = quijssancs.count()\n",
        "print(\"Lines with Quijote and Sancho {0}\".format(nqs))\n",
        "for l in quijssancs.takeSample(False,10):\n",
        "    print(l)"
      ]
    },
    {
      "cell_type": "markdown",
      "metadata": {
        "id": "Mfy4p9DPqBZC"
      },
      "source": [
        "## Common Transformations and Actions"
      ]
    },
    {
      "cell_type": "markdown",
      "metadata": {
        "id": "EC8przcxqEtS"
      },
      "source": [
        "###Element-wise transformations\n",
        "\n",
        "\n",
        "Generate a new RDD from a given one by applying a function to each of the elements of the original RDD"
      ]
    },
    {
      "cell_type": "markdown",
      "metadata": {
        "id": "mi3s7Dupq-9k"
      },
      "source": [
        "-   `filter(func)` filters elements from an RDD"
      ]
    },
    {
      "cell_type": "code",
      "execution_count": 18,
      "metadata": {
        "id": "wT8G89jErWYU",
        "colab": {
          "base_uri": "https://localhost:8080/"
        },
        "outputId": "46a1d46c-e95c-493e-a61b-a1c08190d189"
      },
      "outputs": [
        {
          "output_type": "stream",
          "name": "stdout",
          "text": [
            "Lines with Quijote and Sancho 350\n",
            "-Calla, Sancho -dijo don Quijote-; que, aunque parecen aceñas, no lo son; y\n",
            "-Con todo eso -dijo don Quijote-, mira, Sancho, lo que hablas, porque\n",
            "-Mira, Sancho -respondió don Quijote-: si el consejo que me das de que me\n",
            "Sancho fue a do estaba la bacía y la trujo; y, así como don Quijote la vio,\n",
            "-Yo lo creo, Sancho -dijo don Quijote-; ve en buena hora, y Dios te guíe.\n",
            "las trincheas de Sancho, y derribando no sólo a don Quijote, sino llevando\n",
            "de don Quijote y de la de Sancho Panza; y, confirmándose en la intención\n",
            "-Pues, ¿cómo, Sancho? -dijo don Quijote-. ¿Haste medido tú con ella?\n",
            "Quijote y Sancho, con intención de buscar algún lugar donde bizmarle y\n",
            "Rompió también el silencio don Quijote, diciendo a Sancho:\n"
          ]
        }
      ],
      "source": [
        "#As seen before\n",
        "quijsRDD = quijoteRDD.filter(lambda l: \"Quijote\" in l)\n",
        "sanchsRDD = quijoteRDD.filter(lambda l: \"Sancho\" in l)\n",
        "quijssancsRDD = quijsRDD.intersection(sanchsRDD)\n",
        "quijssancsRDD.cache()\n",
        "print(\"Lines with Quijote and Sancho {0}\".format(quijssancsRDD.count()))\n",
        "for l in quijssancsRDD.takeSample(False,10):\n",
        "    print(l)"
      ]
    },
    {
      "cell_type": "code",
      "execution_count": 19,
      "metadata": {
        "id": "J01jDtPEIWer",
        "colab": {
          "base_uri": "https://localhost:8080/"
        },
        "outputId": "d05cc760-e41e-489a-97ed-a308def99b58"
      },
      "outputs": [
        {
          "output_type": "stream",
          "name": "stderr",
          "text": [
            "test_positive (__main__.TestNotebook) ... "
          ]
        },
        {
          "output_type": "stream",
          "name": "stdout",
          "text": [
            "[-5, -4, -3, -2, -1, 0, 1, 2, 3, 4]\n"
          ]
        },
        {
          "output_type": "stream",
          "name": "stderr",
          "text": [
            "ok\n",
            "\n",
            "----------------------------------------------------------------------\n",
            "Ran 1 test in 0.361s\n",
            "\n",
            "OK\n"
          ]
        },
        {
          "output_type": "execute_result",
          "data": {
            "text/plain": [
              "<unittest.main.TestProgram at 0x7a74a25ecd00>"
            ]
          },
          "metadata": {},
          "execution_count": 19
        }
      ],
      "source": [
        "from __future__ import print_function\n",
        "import unittest\n",
        "# Extract the positive values from a range of numbers\n",
        "\n",
        "#from test_helpers import Test\n",
        "rdd = sc.parallelize(range(-5,5))          # Range [-5, 5)\n",
        "print(rdd.collect())\n",
        "filtered_rdd = rdd.filter(lambda x: x >= 0)   # Returns only the positive values\n",
        "\n",
        "\n",
        "class TestNotebook(unittest.TestCase):\n",
        "\n",
        "    def test_positive(self):\n",
        "        self.assertEqual(filtered_rdd.collect(), [0, 1, 2, 3, 4])\n",
        "\n",
        "\n",
        "unittest.main(argv=[''], verbosity=2, exit=False)"
      ]
    },
    {
      "cell_type": "markdown",
      "metadata": {
        "id": "L-oTHAipIilD"
      },
      "source": [
        "-   `map(func)` applies a function to each element in an RDD, with the result of the function being the new value of each element in the resulting RDD"
      ]
    },
    {
      "cell_type": "code",
      "execution_count": 20,
      "metadata": {
        "id": "qDYn4yH1Immz",
        "colab": {
          "base_uri": "https://localhost:8080/"
        },
        "outputId": "77cc35e5-3a3a-460d-e13f-ccff56786cfe"
      },
      "outputs": [
        {
          "output_type": "stream",
          "name": "stderr",
          "text": [
            "test_squared (__main__.TestNotebook) ... ok\n",
            "\n",
            "----------------------------------------------------------------------\n",
            "Ran 1 test in 0.391s\n",
            "\n",
            "OK\n"
          ]
        },
        {
          "output_type": "execute_result",
          "data": {
            "text/plain": [
              "<unittest.main.TestProgram at 0x7a74a0393160>"
            ]
          },
          "metadata": {},
          "execution_count": 20
        }
      ],
      "source": [
        "# Adds 1 to each element in the RDD\n",
        "# For each element, it obtains a tuple (x, x**2)\n",
        "def add1(x):\n",
        "    return(x+1)\n",
        "\n",
        "squared_rdd = (filtered_rdd\n",
        "               .map(add1)                 # Adds 1 to each element in the RDD\n",
        "               .map(lambda x: (x, x*x)))  # For each element, it obtains a tuple (x, x**2)\n",
        "\n",
        "\n",
        "class TestNotebook(unittest.TestCase):\n",
        "\n",
        "    def test_squared(self):\n",
        "        self.assertEqual(squared_rdd.collect(), [(1, 1), (2, 4), (3, 9), (4, 16), (5, 25)])\n",
        "\n",
        "\n",
        "unittest.main(argv=[''], verbosity=2, exit=False)"
      ]
    },
    {
      "cell_type": "markdown",
      "metadata": {
        "id": "G1L8UOO4IwLU"
      },
      "source": [
        "-   `flatMap(func)` similar to `map`, but “flattening” the output"
      ]
    },
    {
      "cell_type": "code",
      "execution_count": 21,
      "metadata": {
        "id": "mfH8BzCpIuxw",
        "colab": {
          "base_uri": "https://localhost:8080/"
        },
        "outputId": "b0ff09a7-d148-4800-df7f-40650ca6a960"
      },
      "outputs": [
        {
          "output_type": "stream",
          "name": "stderr",
          "text": [
            "test_squaredflat (__main__.TestNotebook) ... ok\n",
            "\n",
            "----------------------------------------------------------------------\n",
            "Ran 1 test in 0.503s\n",
            "\n",
            "OK\n"
          ]
        },
        {
          "output_type": "execute_result",
          "data": {
            "text/plain": [
              "<unittest.main.TestProgram at 0x7a74a04dea10>"
            ]
          },
          "metadata": {},
          "execution_count": 21
        }
      ],
      "source": [
        "squaredflat_rdd = (filtered_rdd\n",
        "                   .map(add1)\n",
        "                   .flatMap(lambda x: (x, x*x)))  # returns output as a list\n",
        "\n",
        "class TestNotebook(unittest.TestCase):\n",
        "\n",
        "    def test_squaredflat(self):\n",
        "        self.assertEqual(squaredflat_rdd.collect(), [1, 1, 2, 4, 3, 9, 4, 16, 5, 25])\n",
        "\n",
        "\n",
        "unittest.main(argv=[''], verbosity=2, exit=False)\n"
      ]
    },
    {
      "cell_type": "markdown",
      "metadata": {
        "id": "juHuDhOmI8X5"
      },
      "source": [
        "-   `sample(withReplacement, fraction, seed=None)` returns a sample of the RDD\n",
        "    - `withReplacement` - if True, each element can show up several times in the sample\n",
        "    - `fraction` - expected sample size as a fraction of the RDD size\n",
        "        -  **without replacement**: probability of selecting an element, its value must be [0, 1]\n",
        "        -  **with replacement**: expected number of times that an element will be picked up, its value must be >= 0\n",
        "    - `seed` - seed for the random number generator\n"
      ]
    },
    {
      "cell_type": "code",
      "execution_count": 22,
      "metadata": {
        "id": "CvF12YTMJANM",
        "colab": {
          "base_uri": "https://localhost:8080/"
        },
        "outputId": "1f4d95d8-7a4f-4b27-f79a-62c48ad66bca"
      },
      "outputs": [
        {
          "output_type": "stream",
          "name": "stdout",
          "text": [
            "s1=[1, 1, 2, 4, 4, 5, 25]\n",
            "s2=[1, 1, 1, 1, 1, 1, 4, 4, 4, 3, 3, 3, 4, 4, 16, 16, 16, 25]\n",
            "s3=[1, 1, 2, 4, 3, 4, 16, 5, 25]\n"
          ]
        }
      ],
      "source": [
        "srdd1 = squaredflat_rdd.sample(False, 0.5)\n",
        "srdd2 = squaredflat_rdd.sample(True, 2)\n",
        "srdd3 = squaredflat_rdd.sample(False, 0.8, 14)\n",
        "print('s1={0}\\ns2={1}\\ns3={2}'.format(srdd1.collect(), srdd2.collect(), srdd3.collect()))"
      ]
    },
    {
      "cell_type": "markdown",
      "metadata": {
        "id": "CBSl9tYbJFmK"
      },
      "source": [
        "-   `distinct()` returns a new RDD without duplicates\n",
        "    - The output order is not defined"
      ]
    },
    {
      "cell_type": "code",
      "execution_count": 23,
      "metadata": {
        "id": "l-H6HYvZJVYb",
        "colab": {
          "base_uri": "https://localhost:8080/"
        },
        "outputId": "d5ce4c85-544c-453e-fefe-ef47c0290534"
      },
      "outputs": [
        {
          "output_type": "stream",
          "name": "stdout",
          "text": [
            "[2, 4, 16, 1, 3, 9, 5, 25]\n"
          ]
        }
      ],
      "source": [
        "distinct_rdd = squaredflat_rdd.distinct()\n",
        "print(distinct_rdd.collect())"
      ]
    },
    {
      "cell_type": "markdown",
      "metadata": {
        "id": "hwfWMnqPJYdM"
      },
      "source": [
        "`groupBy(func)` returns a RDD with its data grouped in a key/value format, using a function to obtain the key"
      ]
    },
    {
      "cell_type": "code",
      "execution_count": 24,
      "metadata": {
        "id": "p2_KQTlLJcuz",
        "colab": {
          "base_uri": "https://localhost:8080/"
        },
        "outputId": "1e0d66bd-00ea-4fd3-ce04-30da417e82f4"
      },
      "outputs": [
        {
          "output_type": "stream",
          "name": "stdout",
          "text": [
            "[(2, <pyspark.resultiterable.ResultIterable object at 0x7a74a03939d0>), (0, <pyspark.resultiterable.ResultIterable object at 0x7a74a0408d60>), (1, <pyspark.resultiterable.ResultIterable object at 0x7a74a0408f40>)]\n",
            "[(2, [2, 5]), (0, [3, 9]), (1, [1, 4, 16, 25])]\n"
          ]
        }
      ],
      "source": [
        "grouped_rdd = distinct_rdd.groupBy(lambda x: x%3) #remainder of dividing by 3\n",
        "print(grouped_rdd.collect())\n",
        "print([(x,sorted(y)) for (x,y) in grouped_rdd.collect()])"
      ]
    },
    {
      "cell_type": "markdown",
      "metadata": {
        "id": "g_aqy32_J5qb"
      },
      "source": [
        "### Transformations on two RDDs\n",
        "\n",
        "Set operations on two RDDs\n"
      ]
    },
    {
      "cell_type": "markdown",
      "metadata": {
        "id": "uV0qWikBJ-M1"
      },
      "source": [
        "-   `rdda.union(rddb)` returns a RDD with all the elements from the input RDDs"
      ]
    },
    {
      "cell_type": "code",
      "execution_count": 25,
      "metadata": {
        "id": "Ii9CxKQnKAfG",
        "colab": {
          "base_uri": "https://localhost:8080/"
        },
        "outputId": "22f17225-de99-4338-e13f-cfd48f748425"
      },
      "outputs": [
        {
          "output_type": "stream",
          "name": "stderr",
          "text": [
            "test_rddu (__main__.TestNotebook) ... ok\n",
            "\n",
            "----------------------------------------------------------------------\n",
            "Ran 1 test in 0.063s\n",
            "\n",
            "OK\n"
          ]
        },
        {
          "output_type": "execute_result",
          "data": {
            "text/plain": [
              "<unittest.main.TestProgram at 0x7a74a0393640>"
            ]
          },
          "metadata": {},
          "execution_count": 25
        }
      ],
      "source": [
        "rdda = sc.parallelize(['a', 'b', 'c'])\n",
        "rddb = sc.parallelize(['c', 'd', 'e'])\n",
        "rddu = rdda.union(rddb)\n",
        "\n",
        "class TestNotebook(unittest.TestCase):\n",
        "\n",
        "    def test_rddu(self):\n",
        "        self.assertEqual(rddu.collect(),['a', 'b', 'c', 'c', 'd', 'e'])\n",
        "\n",
        "\n",
        "unittest.main(argv=[''], verbosity=2, exit=False)"
      ]
    },
    {
      "cell_type": "markdown",
      "metadata": {
        "id": "VlgU-Ke9KDbR"
      },
      "source": [
        "- `rdda.intersection(rddb)` returns a new RDD with the elements in common in both RDDs"
      ]
    },
    {
      "cell_type": "code",
      "execution_count": 26,
      "metadata": {
        "id": "_TyzvnyHKF3E",
        "colab": {
          "base_uri": "https://localhost:8080/"
        },
        "outputId": "57688e40-1ae7-4ed9-d6a9-7c3e7afcd98b"
      },
      "outputs": [
        {
          "output_type": "stream",
          "name": "stderr",
          "text": [
            "test_rddi (__main__.TestNotebook) ... ok\n",
            "\n",
            "----------------------------------------------------------------------\n",
            "Ran 1 test in 2.169s\n",
            "\n",
            "OK\n"
          ]
        },
        {
          "output_type": "execute_result",
          "data": {
            "text/plain": [
              "<unittest.main.TestProgram at 0x7a74a03927a0>"
            ]
          },
          "metadata": {},
          "execution_count": 26
        }
      ],
      "source": [
        "rddi = rdda.intersection(rddb)\n",
        "\n",
        "class TestNotebook(unittest.TestCase):\n",
        "\n",
        "    def test_rddi(self):\n",
        "        self.assertEqual(rddi.collect(),['c'])\n",
        "\n",
        "\n",
        "unittest.main(argv=[''], verbosity=2, exit=False)"
      ]
    },
    {
      "cell_type": "markdown",
      "metadata": {
        "id": "C2ISYjhOKNQn"
      },
      "source": [
        "-   `rdda.subtract(rddb)` returns a new RDD with the elements from the second RDD substracted to those from the first RDD"
      ]
    },
    {
      "cell_type": "code",
      "execution_count": 27,
      "metadata": {
        "id": "ZvI0JeqkKQBR",
        "colab": {
          "base_uri": "https://localhost:8080/"
        },
        "outputId": "cc4ec5c5-b273-4d07-d4e1-7c3bb08603c0"
      },
      "outputs": [
        {
          "output_type": "stream",
          "name": "stderr",
          "text": [
            "test_rdds (__main__.TestNotebook) ... ok\n",
            "\n",
            "----------------------------------------------------------------------\n",
            "Ran 1 test in 2.043s\n",
            "\n",
            "OK\n"
          ]
        },
        {
          "output_type": "execute_result",
          "data": {
            "text/plain": [
              "<unittest.main.TestProgram at 0x7a74a0392a40>"
            ]
          },
          "metadata": {},
          "execution_count": 27
        }
      ],
      "source": [
        "rdds = rdda.subtract(rddb)\n",
        "\n",
        "class TestNotebook(unittest.TestCase):\n",
        "\n",
        "    def test_rdds(self):\n",
        "        self.assertEqual(rdds.collect(), ['b', 'a'])\n",
        "\n",
        "\n",
        "unittest.main(argv=[''], verbosity=2, exit=False)"
      ]
    },
    {
      "cell_type": "markdown",
      "metadata": {
        "id": "DHOo_LyUKTAP"
      },
      "source": [
        "- `rdda.cartesian(rddb)` cartesian product of both RDDs (heavy operation)"
      ]
    },
    {
      "cell_type": "code",
      "execution_count": 28,
      "metadata": {
        "id": "hrMKdf03KW9-",
        "colab": {
          "base_uri": "https://localhost:8080/"
        },
        "outputId": "6ec585aa-e92d-4291-c21e-14a0888d4625"
      },
      "outputs": [
        {
          "output_type": "stream",
          "name": "stderr",
          "text": [
            "test_rddc (__main__.TestNotebook) ... ok\n",
            "\n",
            "----------------------------------------------------------------------\n",
            "Ran 1 test in 0.112s\n",
            "\n",
            "OK\n"
          ]
        },
        {
          "output_type": "execute_result",
          "data": {
            "text/plain": [
              "<unittest.main.TestProgram at 0x7a74a0408a60>"
            ]
          },
          "metadata": {},
          "execution_count": 28
        }
      ],
      "source": [
        "rddc = rdda.cartesian(rddb)\n",
        "\n",
        "class TestNotebook(unittest.TestCase):\n",
        "\n",
        "    def test_rddc(self):\n",
        "        self.assertEqual(rddc.collect(),[('a','c'),('a','d'),('a','e'),('b','c'),('c','c'),('b','d'),('b','e'), ('c','d'), ('c','e')])\n",
        "\n",
        "unittest.main(argv=[''], verbosity=2, exit=False)"
      ]
    },
    {
      "cell_type": "markdown",
      "metadata": {
        "id": "3uzixrgv33i-"
      },
      "source": [
        "###Actions on simple RDDs\n",
        "\n",
        "\n",
        "Obtain (simple or complex) elements from a RDD\n"
      ]
    },
    {
      "cell_type": "markdown",
      "metadata": {
        "id": "WobYnSRy4Waq"
      },
      "source": [
        "#### Main aggregate actions: `reduce` and `fold`"
      ]
    },
    {
      "cell_type": "markdown",
      "metadata": {
        "id": "fHwsIdw64hu8"
      },
      "source": [
        "-   `reduce(op)` combines elements from a RDD in parallel, using an operator\n",
        "    - The reduction operator must be an associative-and-commutative binary operator\n",
        "    - The reduction is first computed at partition level and then the intermediate values are reduced"
      ]
    },
    {
      "cell_type": "code",
      "execution_count": 30,
      "metadata": {
        "id": "-U5Z3LCZ4hA8",
        "colab": {
          "base_uri": "https://localhost:8080/"
        },
        "outputId": "b4def11a-8cd6-4503-9da1-606a98231c46"
      },
      "outputs": [
        {
          "output_type": "stream",
          "name": "stdout",
          "text": [
            "[[1], [2], [3], [4], [5], [6], [7], [8, 9]]\n",
            "1*2*3*4*5*6*7*8*9 = 362880\n",
            "1+2+3+4+5+6+7+8+9 = 45\n",
            "1-2-3-4-5-6-7-8-9 = -25\n"
          ]
        }
      ],
      "source": [
        "rdd = sc.parallelize(range(1,10), 8)  # range [1, 10)\n",
        "print(rdd.glom().collect())\n",
        "\n",
        "# Reduction using a lambda function\n",
        "p = rdd.reduce(lambda x,y: x*y) # r = 1*2*3*4*5*6*7*8*9 = 362880\n",
        "print(\"1*2*3*4*5*6*7*8*9 = {0}\".format(p))\n",
        "\n",
        "# Reduction using a predefined operator\n",
        "from operator import add\n",
        "s = rdd.reduce(add) # s = 1+2+3+4+5+6+7+8+9 = 45\n",
        "print(\"1+2+3+4+5+6+7+8+9 = {0}\".format(s))\n",
        "\n",
        "# Test with a non-commutative operator\n",
        "p = rdd.reduce(lambda x,y: x-y) # r = 1-2-3-4-5-6-7-8-9 = -43\n",
        "print(\"1-2-3-4-5-6-7-8-9 = {0}\".format(p))\n",
        "\n",
        "# It does not work with empty RDDs\n",
        "#sc.parallelize([]).reduce(add)"
      ]
    },
    {
      "cell_type": "markdown",
      "metadata": {
        "id": "3fJ8RRbX4rYl"
      },
      "source": [
        "-   `fold(zero, op)` general version of `reduce`:\n",
        "    - An initial zero value must be provided to the operator\n",
        "    - The initial value must be the operator's identity value (i.e. 0 for addition; 1 for product, or an empty list for a list concatenation)\n",
        "        - It works with empty RDDs\n",
        "    - The `op` function must be a commutative monoid to ensure a consistent output\n",
        "        - Different behaviour compared to `fold` operations of languages such as Scala\n",
        "        - The operator is applied at partition level (using `zero` as initial value), and late between all partitions (using `zero` again)\n",
        "        - For non-commutative operators, the output might be different from the one obtained using a sequential `fold`"
      ]
    },
    {
      "cell_type": "code",
      "execution_count": 31,
      "metadata": {
        "id": "3sPNN_Tj4ujN",
        "colab": {
          "base_uri": "https://localhost:8080/"
        },
        "outputId": "04341b76-81f3-468e-d579-db5c73277391"
      },
      "outputs": [
        {
          "output_type": "stream",
          "name": "stdout",
          "text": [
            "Python 3.10.12\n",
            "[[1, 3], [2, 4, 2]]\n",
            "12\n",
            "[[1], [3, 2], [4, 2]]\n",
            "48\n",
            "('d', 3)\n"
          ]
        }
      ],
      "source": [
        "!python -V\n",
        "\n",
        "#addition\n",
        "rdd1 = sc.parallelize([1,3,2,4,2], 2)\n",
        "print(rdd1.glom().collect())\n",
        "f1 = rdd1.fold(0,lambda a,b:a+b )\n",
        "print(f1)\n",
        "\n",
        "\n",
        "#product\n",
        "rdd2 = sc.parallelize([1,3,2,4,2], 3)\n",
        "print(rdd2.glom().collect())\n",
        "f2 = rdd2.fold(1,lambda a,b:a*b )\n",
        "print(f2)\n",
        "\n",
        "#max\n",
        "from functools import partial\n",
        "from operator import itemgetter\n",
        "\n",
        "data = sc.parallelize([('a', 1), ('b', 2),('c', 0), ('d', 3)])\n",
        "zero = (None, float(\"-Inf\"))\n",
        "op = partial(max, key=itemgetter(1))\n",
        "\n",
        "f3 = data.fold(zero,op)\n",
        "print(f3)"
      ]
    },
    {
      "cell_type": "markdown",
      "metadata": {
        "id": "k9t5XLca43dO"
      },
      "source": [
        "#### Other aggregate functions: `aggregate`"
      ]
    },
    {
      "cell_type": "markdown",
      "metadata": {
        "id": "khJ7RlMC49pE"
      },
      "source": [
        " - `aggregate(zero,seqOp,combOp)`: Returns a collection by aggregating the RDD elements using two functions:\n",
        "      1. `seqOp` -  partition-level aggregation: an accumulator is created by partition (initialised to `zero`); values from the partition are aggregated in the accumulator\n",
        "      2. `combOp` - Aggregation between partitions: all accumulators from each partition are aggregated\n",
        "      -  Both aggregations use an initial value `zero` (similar to the `fold` case).\n",
        "\n",
        "- General version of `reduce` and `fold`    \n",
        "- The first function (`seqOp`) can return a type, U, different to the T type of the RDD elements\n",
        "    - `seqOp` aggregates T-type elements and returns a U-type\n",
        "    - `combOp` aggregates U-type elements\n",
        "    - `zero` must be of U-type\n",
        "\n",
        "- Can return a type different from the input RDD elements."
      ]
    },
    {
      "cell_type": "code",
      "execution_count": 32,
      "metadata": {
        "id": "OtqMFe975iTf",
        "colab": {
          "base_uri": "https://localhost:8080/"
        },
        "outputId": "b5b0834a-bbd0-4d38-b2c0-c7469c899025"
      },
      "outputs": [
        {
          "output_type": "stream",
          "name": "stdout",
          "text": [
            "(10, 4)\n"
          ]
        },
        {
          "output_type": "execute_result",
          "data": {
            "text/plain": [
              "2.5"
            ]
          },
          "metadata": {},
          "execution_count": 32
        }
      ],
      "source": [
        "# Example: compute the average of an RDD\n",
        "#            (0, 0) <-- zeroValue\n",
        "#\n",
        "#    [1, 2]              [3, 4]\n",
        "#\n",
        "#    0 + 1 = 1           0 + 3 = 3  -> seqOp\n",
        "#    0 + 1 = 1           0 + 1 = 1\n",
        "#\n",
        "#    1 + 2 = 3           3 + 4 = 7\n",
        "#    1 + 1 = 2           1 + 1 = 2\n",
        "#        |                   |\n",
        "#        v                   v\n",
        "#     (3, 2)              (7, 2)\n",
        "#         \\                 /\n",
        "#          \\               /\n",
        "#           \\             /\n",
        "#            \\           /\n",
        "#             ------------\n",
        "#             |  combOp  |\n",
        "#             ------------\n",
        "#                  |\n",
        "#                  v\n",
        "#               (10, 4)\n",
        "\n",
        "seqOp = (lambda local_result, list_element: (local_result[0] + list_element, local_result[1] + 1) )\n",
        "rddSeqOp = rdd.filter(seqOp)\n",
        "combOp = (lambda some_local_result, another_local_result: (some_local_result[0] + another_local_result[0], some_local_result[1] + another_local_result[1]) )\n",
        "sumCount = sc.parallelize([1, 2, 3, 4],2).aggregate((0, 0), seqOp, combOp)\n",
        "print(sumCount)\n",
        "sumCount[0] / float(sumCount[1])"
      ]
    },
    {
      "cell_type": "code",
      "execution_count": 33,
      "metadata": {
        "id": "RcRe74tg5nwR",
        "colab": {
          "base_uri": "https://localhost:8080/"
        },
        "outputId": "5b247e6e-3122-4f29-dfb7-e855115a5f46"
      },
      "outputs": [
        {
          "output_type": "stream",
          "name": "stderr",
          "text": [
            "test_a (__main__.TestNotebook) ... ok\n",
            "\n",
            "----------------------------------------------------------------------\n",
            "Ran 1 test in 0.014s\n",
            "\n",
            "OK\n"
          ]
        },
        {
          "output_type": "stream",
          "name": "stdout",
          "text": [
            "([1, 4, 9, 16, 25, 36, 49, 64], 40320.0, 8)\n"
          ]
        },
        {
          "output_type": "execute_result",
          "data": {
            "text/plain": [
              "<unittest.main.TestProgram at 0x7a74a04df100>"
            ]
          },
          "metadata": {},
          "execution_count": 33
        }
      ],
      "source": [
        "import unittest\n",
        "\n",
        "l = [1, 2, 3, 4, 5, 6, 7, 8]\n",
        "rdd = sc.parallelize(l)\n",
        "\n",
        "# acc is a three-element tuple (List, Double, Int)\n",
        "# The squared elements of RDD are concatenated in the first element of acc (list).\n",
        "# The second element accumulates the RDD elements after a multiplication\n",
        "# The third one stores the number of elements of the RDD\n",
        "seqOp  = (lambda acc, val: (acc[0]+[val*val],\n",
        "                            acc[1]*val,\n",
        "                            acc[2]+1))\n",
        "# For each partition, a new tuple of type acc is created\n",
        "# In this operation, the three elements of the tuples are combined\n",
        "combOp = (lambda acc1, acc2: (acc1[0]+acc2[0],\n",
        "                              acc1[1]*acc2[1],\n",
        "                              acc1[2]+acc2[2]))\n",
        "\n",
        "a = rdd.aggregate(([], 1., 0), seqOp, combOp)\n",
        "\n",
        "print(a)\n",
        "\n",
        "\n",
        "class TestNotebook(unittest.TestCase):\n",
        "\n",
        "    def test_a(self):\n",
        "\n",
        "        self.assertEqual(a[1],8.*7.*6.*5.*4.*3.*2.*1.)\n",
        "        self.assertEqual(a[2], len(l))\n",
        "\n",
        "unittest.main(argv=[''], verbosity=2, exit=False)"
      ]
    },
    {
      "cell_type": "markdown",
      "metadata": {
        "id": "0R7X1Mqt5xXV"
      },
      "source": [
        "#### Actions to count elements on RDDs\n",
        "- `count()` returns an integer with the exact number of elements in the RDD\n",
        "- `countApprox(timeout, confidence=0.95)` approximate version of `count()`, it returns a result potentially incomplete in a maximal time, even if not all tasks have finished (Experimental).\n",
        "    - `timeout` is a long integer and gives the time in milliseconds\n",
        "    - `confidence` probability of obtaining the the actual value. If `confidence` is 0.90 it means that, after several executions, we expect that 90% of them return the right value. Output value in [0,1]\n",
        "- `countApproxDistinct(relativeSD=0.05)` returns an estimation of the number of different elements in the RDD (Experimental).\n",
        "    - `relativeSD` – relative accuracy (smaller values imply a lower error, but require more memory; they must be higher than 0.000017).\n"
      ]
    },
    {
      "cell_type": "code",
      "execution_count": 34,
      "metadata": {
        "id": "c2RtxZIv6F4U",
        "colab": {
          "base_uri": "https://localhost:8080/"
        },
        "outputId": "56454fb1-1edb-4556-9d49-76d33cb55158"
      },
      "outputs": [
        {
          "output_type": "stream",
          "name": "stdout",
          "text": [
            "Total number of elements: 10000\n",
            "Number of different elements: 20\n",
            "Total number of elements (approx.): 10000\n",
            "Number of different elements (approx.): 18\n"
          ]
        }
      ],
      "source": [
        "rdd = sc.parallelize([i % 20 for i in range(10000)], 16)\n",
        "print(\"Total number of elements: {0}\".format(rdd.count()))\n",
        "print(\"Number of different elements: {0}\".format(rdd.distinct().count()))\n",
        "\n",
        "print(\"Total number of elements (approx.): {0}\".format(rdd.countApprox(1, 0.4)))\n",
        "print(\"Number of different elements (approx.): {0}\".format(rdd.countApproxDistinct(0.5)))"
      ]
    },
    {
      "cell_type": "markdown",
      "metadata": {
        "id": "peDFQ_z36KBW"
      },
      "source": [
        "-   `countByValue()` returns the number of appearances of each element in the RDD as a map (or dictionary) in a key/value fashion\n",
        "    - Keys are the RDD elements. Values are the number of occurrences of the associated key"
      ]
    },
    {
      "cell_type": "code",
      "execution_count": 35,
      "metadata": {
        "id": "KGIFUB7t6Ry0",
        "colab": {
          "base_uri": "https://localhost:8080/"
        },
        "outputId": "d3315d7f-3d39-4274-8969-f96b2645476e"
      },
      "outputs": [
        {
          "output_type": "stream",
          "name": "stdout",
          "text": [
            "<class 'collections.defaultdict'>\n",
            "dict_items([('a', 5), ('b', 2), ('r', 2), ('c', 1), ('d', 1)])\n"
          ]
        }
      ],
      "source": [
        "rdd = sc.parallelize(list(\"abracadabra\")).cache()\n",
        "mymap = rdd.countByValue()\n",
        "\n",
        "print(type(mymap))\n",
        "print(mymap.items())"
      ]
    },
    {
      "cell_type": "markdown",
      "metadata": {
        "id": "aM_x4BLA6War"
      },
      "source": [
        "#### Actions to obtain values\n",
        "- These methods must be used with care: if the expected result is very large the driver memory can be saturated"
      ]
    },
    {
      "cell_type": "markdown",
      "metadata": {
        "id": "Y3MQ5lPi6ZsV"
      },
      "source": [
        "-   `collect()` returns a list with all the RDD elements\n",
        "-   `show()` shows the elements as a table"
      ]
    },
    {
      "cell_type": "code",
      "execution_count": 36,
      "metadata": {
        "id": "4DF5OD7c6SN_",
        "colab": {
          "base_uri": "https://localhost:8080/"
        },
        "outputId": "5f46adbe-23ac-4af3-cbaa-f41a2f1f5f47"
      },
      "outputs": [
        {
          "output_type": "stream",
          "name": "stdout",
          "text": [
            "['a', 'b', 'r', 'a', 'c', 'a', 'd', 'a', 'b', 'r', 'a']\n"
          ]
        }
      ],
      "source": [
        "mylist = rdd.collect()\n",
        "print(mylist)"
      ]
    },
    {
      "cell_type": "markdown",
      "metadata": {
        "id": "PDXLHPRk6fqk"
      },
      "source": [
        "-   `take(n)` returns the `n` first elements of the RDD\n",
        "-   `takeSample(withRep, n, [seed])` returns `n` random elements of the RDD\n",
        "    - `withRep`: if True, the same element can appear several times in the sample\n",
        "    - `seed`: seed for the random number generator"
      ]
    },
    {
      "cell_type": "code",
      "execution_count": 37,
      "metadata": {
        "id": "cZeRxNci6lKA",
        "colab": {
          "base_uri": "https://localhost:8080/"
        },
        "outputId": "4fbf5b36-4168-4256-898a-3b9fd6849f7b"
      },
      "outputs": [
        {
          "output_type": "stream",
          "name": "stdout",
          "text": [
            "['a', 'b', 'r', 'a']\n",
            "['r', 'c', 'a', 'a']\n"
          ]
        }
      ],
      "source": [
        "t = rdd.take(4)\n",
        "print(t)\n",
        "s = rdd.takeSample(False, 4)\n",
        "print(s)"
      ]
    },
    {
      "cell_type": "markdown",
      "metadata": {
        "id": "0VDC33Oo6rfq"
      },
      "source": [
        "-   `top(n)` returns a list with the first `n` elements of the RDD sorted in descending order\n",
        "-   `takeOrdered(n,[order])` returns a list with the first `n` elements of the RDD in ascending order (as opposite to `top`), or following the order indicated as a function in the optional parameter"
      ]
    },
    {
      "cell_type": "code",
      "execution_count": 38,
      "metadata": {
        "id": "b-MjWWQo6tc9",
        "colab": {
          "base_uri": "https://localhost:8080/"
        },
        "outputId": "230af56e-c59e-4b2e-93c6-769b83d54ff6"
      },
      "outputs": [
        {
          "output_type": "stream",
          "name": "stdout",
          "text": [
            "4 largest elements: [10, 9, 8, 7]\n",
            "4 smallest elements: [1, 2, 3, 4]\n",
            "4 largest elements: [10, 9, 8, 7]\n"
          ]
        }
      ],
      "source": [
        "rdd = sc.parallelize([8, 4, 2, 9, 3, 1, 10, 5, 6, 7]).cache()\n",
        "\n",
        "print(\"4 largest elements: {0}\".format(rdd.top(4)))\n",
        "\n",
        "print(\"4 smallest elements: {0}\".format(rdd.takeOrdered(4)))\n",
        "\n",
        "print(\"4 largest elements: {0}\".format(rdd.takeOrdered(4, lambda x: -x)))"
      ]
    },
    {
      "cell_type": "markdown",
      "metadata": {
        "id": "hyAADA2J_ncL"
      },
      "source": [
        "## RDDs of key/value pairs (aka *Pair RDDs*)\n",
        "\n",
        "-   Data types heavily used on Big Data (MapReduce)\n",
        "\n",
        "-   Spark provides special operation to handle them"
      ]
    },
    {
      "cell_type": "markdown",
      "metadata": {
        "id": "VVyfXBFZAWVV"
      },
      "source": [
        "### Creation of *Pair RDDs*\n",
        "Key/value RDDs can be created from a list of tuples, from another RDD or from a zip of two RDDs"
      ]
    },
    {
      "cell_type": "markdown",
      "metadata": {
        "id": "rfw7YLtkAc8z"
      },
      "source": [
        "-   From a list of tuples"
      ]
    },
    {
      "cell_type": "code",
      "execution_count": 39,
      "metadata": {
        "id": "PB0ZdRCIA5GU",
        "colab": {
          "base_uri": "https://localhost:8080/"
        },
        "outputId": "fdf6c80a-49e9-4475-fed9-1c1b1479056a"
      },
      "outputs": [
        {
          "output_type": "stream",
          "name": "stdout",
          "text": [
            "[('a', 2), ('b', 5), ('a', 3)]\n",
            "[('a', 0), ('b', 1), ('c', 2)]\n"
          ]
        }
      ],
      "source": [
        "prdd = sc.parallelize([('a',2), ('b',5), ('a',3)])\n",
        "print(prdd.collect())\n",
        "\n",
        "prdd = sc.parallelize(zip(['a', 'b', 'c'], range(3)))\n",
        "print(prdd.collect())"
      ]
    },
    {
      "cell_type": "markdown",
      "metadata": {
        "id": "bSijjQ9MBvAz"
      },
      "source": [
        "-   From another RDD"
      ]
    },
    {
      "cell_type": "code",
      "execution_count": 40,
      "metadata": {
        "id": "pb-s7RgoBwX6",
        "colab": {
          "base_uri": "https://localhost:8080/"
        },
        "outputId": "e8e658d0-b998-4192-fb2d-904ff1bf8704"
      },
      "outputs": [
        {
          "output_type": "stream",
          "name": "stdout",
          "text": [
            "Pair (1st word, line): [('', ''), ('', ''), ('', '   y el estar siempre ocupada,')]\n",
            "\n"
          ]
        }
      ],
      "source": [
        "# Example using a file\n",
        "# For each line we get a tuple, the first element being the first word of the line\n",
        "# and the second one the whole line\n",
        "linesrdd = sc.textFile(os.environ[\"DRIVE_DATA\"] + \"/quijote.txt\", use_unicode=True)\n",
        "prdd = linesrdd.map(lambda x: (x.split(\" \")[0], x))\n",
        "\n",
        "print('Pair (1st word, line): {0}\\n'.format(prdd.takeSample(False, 3)))\n"
      ]
    },
    {
      "cell_type": "code",
      "execution_count": 41,
      "metadata": {
        "id": "mSoBpRnCB7ij",
        "colab": {
          "base_uri": "https://localhost:8080/"
        },
        "outputId": "7c7f4d3f-15c0-4d20-f347-d5639d8f2dab"
      },
      "outputs": [
        {
          "output_type": "stream",
          "name": "stdout",
          "text": [
            "[(4, 2), (9, 3), (16, 4)]\n"
          ]
        }
      ],
      "source": [
        "# Using keyBy(f): Creates tuples of the RDD elements using f to obtain the key.\n",
        "nrdd = sc.parallelize(range(2,5))\n",
        "prdd = nrdd.keyBy(lambda x: x*x)\n",
        "\n",
        "print(prdd.collect())"
      ]
    },
    {
      "cell_type": "code",
      "execution_count": 42,
      "metadata": {
        "id": "gEGXu3EFB9xj",
        "colab": {
          "base_uri": "https://localhost:8080/"
        },
        "outputId": "ac690577-0de6-46db-feac-259723b170d7"
      },
      "outputs": [
        {
          "output_type": "stream",
          "name": "stdout",
          "text": [
            "[['a', 'b'], ['c', 'd'], ['e', 'f', 'g', 'h']]\n",
            "[('a', 0), ('b', 1), ('c', 2), ('d', 3), ('e', 4), ('f', 5), ('g', 6), ('h', 7)]\n"
          ]
        }
      ],
      "source": [
        "# zipWithIndex(): Zips the RDD with its elements' indexes.\n",
        "rdd = sc.parallelize(['a', 'b', 'c', 'd', 'e', 'f', 'g', 'h'], 3)\n",
        "prdd = rdd.zipWithIndex()\n",
        "print(rdd.glom().collect())\n",
        "\n",
        "print(prdd.collect())\n",
        "\n",
        "# This method starts a Spark job when the RDD has more than one partition"
      ]
    },
    {
      "cell_type": "code",
      "execution_count": 43,
      "metadata": {
        "id": "Mu5JfQX1CGRt",
        "colab": {
          "base_uri": "https://localhost:8080/"
        },
        "outputId": "c3f096c8-9161-4c6b-d42f-ce7608d38117"
      },
      "outputs": [
        {
          "output_type": "stream",
          "name": "stdout",
          "text": [
            "RDD partitions: [['a', 'b'], ['c', 'd'], ['e', 'f', 'g', 'h']]\n",
            "[('a', 0), ('b', 3), ('c', 1), ('d', 4), ('e', 2), ('f', 5), ('g', 8), ('h', 11)]\n"
          ]
        }
      ],
      "source": [
        "# zipWithUniqueId(): Zips the RDD with unique identifiers (long) for each element.\n",
        "# Elements in the k-th partition get the k, n+k, 2*n+k,... ids, being n = number of partitions\n",
        "# It does not start a Spark job\n",
        "rdd = sc.parallelize(['a', 'b', 'c', 'd', 'e', 'f', 'g', 'h'], 3)\n",
        "print(\"RDD partitions: {0}\".format(rdd.glom().collect()))\n",
        "prdd = rdd.zipWithUniqueId()\n",
        "\n",
        "print(prdd.collect())"
      ]
    },
    {
      "cell_type": "markdown",
      "metadata": {
        "id": "WQpK7Al4B4u_"
      },
      "source": [
        "- From a zip of two RDDs\n",
        "    - RDDs must have the same number of partitions and the same number of elements on each partition"
      ]
    },
    {
      "cell_type": "code",
      "execution_count": 44,
      "metadata": {
        "id": "AA5lHTHBR6bn",
        "colab": {
          "base_uri": "https://localhost:8080/"
        },
        "outputId": "552bc088-3884-4331-8f7d-976dff3f6f91"
      },
      "outputs": [
        {
          "output_type": "stream",
          "name": "stdout",
          "text": [
            "[(0, 1000), (1, 1001), (2, 1002), (3, 1003), (4, 1004)]\n"
          ]
        }
      ],
      "source": [
        "rdd1 = sc.parallelize(range(0, 5), 2)\n",
        "\n",
        "rdd2 = sc.parallelize(range(1000, 1005), 2)\n",
        "\n",
        "prdd = rdd1.zip(rdd2)\n",
        "\n",
        "print(prdd.collect())"
      ]
    },
    {
      "cell_type": "markdown",
      "metadata": {
        "id": "jUcY18f3CYcW"
      },
      "source": [
        "### Transformations on a single RDD containing key/value pairs\n",
        "On a single RDD key/value we can perform key-based aggregation transformations as well as transformations affecting keys or values"
      ]
    },
    {
      "cell_type": "markdown",
      "metadata": {
        "id": "o9CeV-c4CfnW"
      },
      "source": [
        "#### Aggregation transformations"
      ]
    },
    {
      "cell_type": "markdown",
      "metadata": {
        "id": "OkbKWP9CCs8J"
      },
      "source": [
        "-   `reduceByKey(func)`/`foldByKey(func)`\n",
        "    -  Return a RDD, grouping all values associated to the same key according to the `func` function\n",
        "    -  Similar to `reduce` and `fold` on simple RDDs"
      ]
    },
    {
      "cell_type": "code",
      "execution_count": 45,
      "metadata": {
        "id": "4QPGdWf6DYrl",
        "colab": {
          "base_uri": "https://localhost:8080/"
        },
        "outputId": "45d42bf1-1448-4ebe-bd1b-99cf4d3b6f33"
      },
      "outputs": [
        {
          "output_type": "stream",
          "name": "stdout",
          "text": [
            "[('b', 13), ('a', 10)]\n"
          ]
        }
      ],
      "source": [
        "from operator import add\n",
        "prdd   = sc.parallelize([('a', 2), ('b', 5), ('a', 8), ('b', 6), ('b', 2)]).cache()\n",
        "redrdd = prdd.reduceByKey(add)\n",
        "\n",
        "print(redrdd.collect())"
      ]
    },
    {
      "cell_type": "markdown",
      "metadata": {
        "id": "4BX9l_3aDbiJ"
      },
      "source": [
        "-   `groupByKey()` groups values associated to the same key\n",
        "    - Operation very costly on communications\n",
        "    - It is usually better to use a reduction operation\n"
      ]
    },
    {
      "cell_type": "code",
      "execution_count": 46,
      "metadata": {
        "id": "4RbKXqYyDiR2",
        "colab": {
          "base_uri": "https://localhost:8080/"
        },
        "outputId": "65001b70-68d2-4642-c7d7-d7e63bc5e924"
      },
      "outputs": [
        {
          "output_type": "stream",
          "name": "stdout",
          "text": [
            "[('b', <pyspark.resultiterable.ResultIterable object at 0x7a74d5211300>), ('a', <pyspark.resultiterable.ResultIterable object at 0x7a74a0268cd0>)]\n",
            "[('b', [5, 6, 2]), ('a', [2, 8])]\n"
          ]
        }
      ],
      "source": [
        "grouprdd = prdd.groupByKey()\n",
        "\n",
        "print(grouprdd.collect())\n",
        "print\n",
        "\n",
        "mylist = [(k, list(v)) for k, v in grouprdd.collect()]\n",
        "print(mylist)"
      ]
    },
    {
      "cell_type": "markdown",
      "metadata": {
        "id": "CXsEGHEsDpZn"
      },
      "source": [
        "- `combineByKey(createCombiner(func1), mergeValue(func2), mergeCombiners(func3))`\n",
        "    - General method for key-based aggregation, similar to `aggregate`\n",
        "    - It requires three functions:\n",
        "\n",
        "     1.  `createCombiner` when going through the elements of each partition, if we find a new key, a new cummulator is created and initialised with `func1`\n",
        "\n",
        "     2.  `mergeValue` merges values of each key in each partition using `func2`\n",
        "\n",
        "     3.  `mergeCombiners` merges the results from the different partitions using `func3`\n",
        "\n",
        "- The values of the output RDD can have a type different from the values of the input RDD."
      ]
    },
    {
      "cell_type": "code",
      "execution_count": 47,
      "metadata": {
        "id": "jV8DjwlBDuqJ",
        "colab": {
          "base_uri": "https://localhost:8080/"
        },
        "outputId": "0d6d2266-510c-4cc5-8b93-ee835b2dcc7d"
      },
      "outputs": [
        {
          "output_type": "stream",
          "name": "stdout",
          "text": [
            "[('b', (13, 3)), ('a', (10, 2))]\n",
            "[('b', 4.333333333333333), ('a', 5.0)]\n"
          ]
        }
      ],
      "source": [
        "# For each key, it obtains a tuple with the addition and the number of values\n",
        "sumCount = prdd.combineByKey(\n",
        "                            (lambda x: (x, 1)),\n",
        "                            (lambda x, y: (x[0]+y, x[1]+1)),\n",
        "                            (lambda x, y: (x[0]+y[0], x[1]+y[1])))\n",
        "\n",
        "print(sumCount.collect())\n",
        "\n",
        "# With this RDD, we obtain the average value for each key\n",
        "m = sumCount.mapValues(lambda v: float(v[0])/v[1])\n",
        "print(m.collect())"
      ]
    },
    {
      "cell_type": "markdown",
      "metadata": {
        "id": "bwIinMjuGTir"
      },
      "source": [
        "#### Transformations on keys or values\n",
        "-   `keys()` returns a RDD with the keys\n",
        "-   `values()` returns a RDD with the values\n",
        "-   `sortByKey()` returns a RDD key/value with the keys sorted\n"
      ]
    },
    {
      "cell_type": "code",
      "execution_count": 48,
      "metadata": {
        "id": "_RprhvEhGXUy",
        "colab": {
          "base_uri": "https://localhost:8080/"
        },
        "outputId": "9db15ef4-a361-4e82-ac73-1c52b57cecc9"
      },
      "outputs": [
        {
          "output_type": "stream",
          "name": "stdout",
          "text": [
            "RDD complete: [('a', 2), ('b', 5), ('a', 8), ('b', 6), ('b', 2)]\n",
            "RDD with the keys: ['a', 'b', 'a', 'b', 'b']\n",
            "RDD with the values: [2, 5, 8, 6, 2]\n",
            "RDD the sorted keys: [('a', 2), ('a', 8), ('b', 5), ('b', 6), ('b', 2)]\n"
          ]
        }
      ],
      "source": [
        "print(\"RDD complete: {0}\".format(prdd.collect()))\n",
        "print(\"RDD with the keys: {0}\".format(prdd.keys().collect()))\n",
        "print(\"RDD with the values: {0}\".format(prdd.values().collect()))\n",
        "print(\"RDD the sorted keys: {0}\".format(prdd.sortByKey().collect()))"
      ]
    },
    {
      "cell_type": "markdown",
      "metadata": {
        "id": "-DI8fVvJGjJZ"
      },
      "source": [
        "-   `mapValues(func)` returns a RDD applying a function on its values\n",
        "-   `flatMapValues(func)` returns a RDD applying a function on its values and \"flattening\" the output."
      ]
    },
    {
      "cell_type": "code",
      "execution_count": 49,
      "metadata": {
        "id": "XmnXE5pyGmK4",
        "colab": {
          "base_uri": "https://localhost:8080/"
        },
        "outputId": "db94cb88-ecf0-4d7e-e027-99f7ad72dba5"
      },
      "outputs": [
        {
          "output_type": "stream",
          "name": "stdout",
          "text": [
            "[('a', (2, 20)), ('b', (5, 50)), ('a', (8, 80)), ('b', (6, 60)), ('b', (2, 20))]\n",
            "[('a', 2), ('a', 20), ('b', 5), ('b', 50), ('a', 8), ('a', 80), ('b', 6), ('b', 60), ('b', 2), ('b', 20)]\n"
          ]
        }
      ],
      "source": [
        "mapv = prdd.mapValues(lambda x: (x, 10*x))\n",
        "print(mapv.collect())\n",
        "\n",
        "fmapv = prdd.flatMapValues(lambda x: (x, 10*x))\n",
        "print(fmapv.collect())"
      ]
    },
    {
      "cell_type": "markdown",
      "metadata": {
        "id": "zzGVWWLYGreo"
      },
      "source": [
        "### Transformations on two RDDs containing key/value pairs\n",
        "Combine two RDDs of type key/value to obtain a third RDD."
      ]
    },
    {
      "cell_type": "markdown",
      "metadata": {
        "id": "lZiT6m0wGw1N"
      },
      "source": [
        "- `join`/`leftOuterJoin`/`rightOuterJoin`/`fullOuterJoin` perform inner/outer/full joins on the two RDDs"
      ]
    },
    {
      "cell_type": "code",
      "execution_count": 50,
      "metadata": {
        "id": "Zxz5sB5oG2TH",
        "colab": {
          "base_uri": "https://localhost:8080/"
        },
        "outputId": "9b27d728-59a7-46bc-8af5-b7b4ac73cac4"
      },
      "outputs": [
        {
          "output_type": "stream",
          "name": "stdout",
          "text": [
            "[('a', (2, 1)), ('a', (8, 1))]\n"
          ]
        }
      ],
      "source": [
        "rdd1 = sc.parallelize([(\"a\", 2), (\"b\", 5), (\"a\", 8)]).cache()\n",
        "rdd2 = sc.parallelize([(\"c\", 7), (\"a\", 1)]).cache()\n",
        "\n",
        "rdd3 = rdd1.join(rdd2)\n",
        "\n",
        "print(rdd3.collect())"
      ]
    },
    {
      "cell_type": "code",
      "execution_count": 51,
      "metadata": {
        "id": "8FOea7fAG44n",
        "colab": {
          "base_uri": "https://localhost:8080/"
        },
        "outputId": "73c8f8f5-6784-416b-f1c7-d34141ce8f5c"
      },
      "outputs": [
        {
          "output_type": "stream",
          "name": "stdout",
          "text": [
            "[('b', (5, None)), ('a', (2, 1)), ('a', (8, 1))]\n"
          ]
        }
      ],
      "source": [
        "rdd3 = rdd1.leftOuterJoin(rdd2)\n",
        "\n",
        "print(rdd3.collect())"
      ]
    },
    {
      "cell_type": "code",
      "execution_count": 53,
      "metadata": {
        "id": "imBLvb0PG8X3",
        "colab": {
          "base_uri": "https://localhost:8080/"
        },
        "outputId": "422f788f-528e-46b2-d090-aca59bddba16"
      },
      "outputs": [
        {
          "output_type": "stream",
          "name": "stdout",
          "text": [
            "[('c', (None, 7)), ('a', (2, 1)), ('a', (8, 1))]\n"
          ]
        }
      ],
      "source": [
        "rdd3 = rdd1.rightOuterJoin(rdd2)\n",
        "\n",
        "print(rdd3.collect())"
      ]
    },
    {
      "cell_type": "code",
      "execution_count": 52,
      "metadata": {
        "id": "gSnOVgqNG94b",
        "colab": {
          "base_uri": "https://localhost:8080/"
        },
        "outputId": "81ea9f0c-3486-48f2-f885-ac5ef0f1ae74"
      },
      "outputs": [
        {
          "output_type": "stream",
          "name": "stdout",
          "text": [
            "[('b', (5, None)), ('c', (None, 7)), ('a', (2, 1)), ('a', (8, 1))]\n"
          ]
        }
      ],
      "source": [
        "rdd3 = rdd1.fullOuterJoin(rdd2)\n",
        "\n",
        "print(rdd3.collect())"
      ]
    },
    {
      "cell_type": "markdown",
      "metadata": {
        "id": "KbR8z_LTHCcd"
      },
      "source": [
        "-   `subtractByKey` deletes elements with a key present in another RDD"
      ]
    },
    {
      "cell_type": "code",
      "execution_count": 54,
      "metadata": {
        "id": "OuTlI8iEHHBQ",
        "colab": {
          "base_uri": "https://localhost:8080/"
        },
        "outputId": "ae0c5946-7272-4111-b397-e817f9fa3f0c"
      },
      "outputs": [
        {
          "output_type": "stream",
          "name": "stdout",
          "text": [
            "[('b', 5)]\n"
          ]
        }
      ],
      "source": [
        "rdd3 = rdd1.subtractByKey(rdd2)\n",
        "\n",
        "print(rdd3.collect())"
      ]
    },
    {
      "cell_type": "markdown",
      "metadata": {
        "id": "r_VWBLneHLyq"
      },
      "source": [
        "-   `cogroup` groups the elements that share the same key in both RDDs"
      ]
    },
    {
      "cell_type": "code",
      "execution_count": 55,
      "metadata": {
        "id": "hNMwjFgsHPmW",
        "colab": {
          "base_uri": "https://localhost:8080/"
        },
        "outputId": "9f94f18c-9b96-434a-be8f-fc9e5bbc0e3a"
      },
      "outputs": [
        {
          "output_type": "stream",
          "name": "stdout",
          "text": [
            "[('b', (<pyspark.resultiterable.ResultIterable object at 0x7a74a0419120>, <pyspark.resultiterable.ResultIterable object at 0x7a74a0268880>)), ('c', (<pyspark.resultiterable.ResultIterable object at 0x7a74a026a170>, <pyspark.resultiterable.ResultIterable object at 0x7a74a02693c0>)), ('a', (<pyspark.resultiterable.ResultIterable object at 0x7a74a026ab00>, <pyspark.resultiterable.ResultIterable object at 0x7a74a0269d80>))]\n",
            "{'b': [[5], []], 'c': [[], [7]], 'a': [[2, 8], [1]]}\n"
          ]
        }
      ],
      "source": [
        "rdd3 = rdd1.cogroup(rdd2)\n",
        "\n",
        "print(rdd3.collect())\n",
        "\n",
        "map = rdd3.mapValues(lambda v: [list(l) for l in v]).collectAsMap()\n",
        "\n",
        "print(map)"
      ]
    },
    {
      "cell_type": "markdown",
      "metadata": {
        "id": "osMFwM1PHZx7"
      },
      "source": [
        "### Actions on RDDs key/value\n",
        "On RDDs key/value we can apply the same actions as for simple RDDs, as well as some additional ones.\n"
      ]
    },
    {
      "cell_type": "markdown",
      "metadata": {
        "id": "H5SRPugkHdRj"
      },
      "source": [
        "-   `collectAsMap()` obtains a RDD as a map"
      ]
    },
    {
      "cell_type": "code",
      "execution_count": 58,
      "metadata": {
        "id": "8a6uJnHGHif_",
        "colab": {
          "base_uri": "https://localhost:8080/"
        },
        "outputId": "934ba89c-3287-4be1-a955-a6aec24a406c"
      },
      "outputs": [
        {
          "output_type": "stream",
          "name": "stdout",
          "text": [
            "{'a': 8, 'b': 5}\n"
          ]
        }
      ],
      "source": [
        "prdd = sc.parallelize([(\"a\", 7), (\"b\", 5), (\"a\", 8)]).cache()\n",
        "\n",
        "rddMap = prdd.collectAsMap()\n",
        "\n",
        "print(rddMap)"
      ]
    },
    {
      "cell_type": "markdown",
      "metadata": {
        "id": "IA7kaVM2HgjA"
      },
      "source": [
        "-   `countByKey()` returns a map with the number of occurrences of each key"
      ]
    },
    {
      "cell_type": "code",
      "execution_count": 57,
      "metadata": {
        "id": "xavrSmxKHmxh",
        "colab": {
          "base_uri": "https://localhost:8080/"
        },
        "outputId": "939649a6-4920-4634-d58e-954d23c5cb3a"
      },
      "outputs": [
        {
          "output_type": "stream",
          "name": "stdout",
          "text": [
            "defaultdict(<class 'int'>, {'a': 2, 'b': 3})\n"
          ]
        }
      ],
      "source": [
        "countMap = prdd.countByKey()\n",
        "\n",
        "print(countMap)"
      ]
    },
    {
      "cell_type": "markdown",
      "metadata": {
        "id": "jLA2qNycHp6N"
      },
      "source": [
        "-   `lookup(key)` returns a list with the values associated to a given key"
      ]
    },
    {
      "cell_type": "code",
      "execution_count": 56,
      "metadata": {
        "id": "_sFDk3YzHsTY",
        "colab": {
          "base_uri": "https://localhost:8080/"
        },
        "outputId": "e0da1dfe-a496-4a36-b441-8913268b6b1d"
      },
      "outputs": [
        {
          "output_type": "stream",
          "name": "stdout",
          "text": [
            "[2, 8]\n"
          ]
        }
      ],
      "source": [
        "listA = prdd.lookup('a')\n",
        "\n",
        "print(listA)"
      ]
    },
    {
      "cell_type": "markdown",
      "metadata": {
        "id": "Ts0Zsb4fKFdd"
      },
      "source": [
        "##Numeric RDDs\n",
        "\n",
        "\n",
        "Descriptive statistics operations provided by Spark\n",
        "\n",
        "  Method              |  Description                       \n",
        "  ------------------- | ----------------------------------\n",
        "  stats()             | Statistics overview            \n",
        "  mean()              | Average of the elements\n",
        "  sum(), max(), min() | Total, maximum value and minimum value\n",
        "  variance()          | Variance of the elements\n",
        "  sampleVariance()    | Variance of the elements, computed for a sample\n",
        "  stdev()             | Standard deviation\n",
        "  sampleStdev()       | Sample standard deviation\n",
        "  histogram()         | Histogram"
      ]
    },
    {
      "cell_type": "code",
      "execution_count": 59,
      "metadata": {
        "id": "KSq_Xio1KPf7",
        "colab": {
          "base_uri": "https://localhost:8080/"
        },
        "outputId": "d4cf8e98-d57a-44ef-a831-8ce087dc9c95"
      },
      "outputs": [
        {
          "output_type": "stream",
          "name": "stdout",
          "text": [
            "Statistics overview:\n",
            " (count: 10000, mean: -0.004904589605158475, stdev: 0.9938966741930515, max: 3.591964840925373, min: -3.6406009569610225)\n",
            "\n"
          ]
        }
      ],
      "source": [
        "import numpy as np\n",
        "\n",
        "# Consider an RDD of random data with normal distribution\n",
        "nrdd = sc.parallelize(np.random.normal(size=10000)).cache()\n",
        "\n",
        "# Statistics overview\n",
        "sts = nrdd.stats()\n",
        "\n",
        "print(\"Statistics overview:\\n {0}\\n\".format(sts))"
      ]
    },
    {
      "cell_type": "code",
      "execution_count": 60,
      "metadata": {
        "id": "TlYGN9ffKVJK",
        "colab": {
          "base_uri": "https://localhost:8080/"
        },
        "outputId": "36804f37-68e2-4f17-f04d-f9a2bdd48139"
      },
      "outputs": [
        {
          "output_type": "stream",
          "name": "stdout",
          "text": [
            "Number of outliers: 28\n"
          ]
        }
      ],
      "source": [
        "from math import fabs\n",
        "\n",
        "# Filter outliers\n",
        "stddev = sts.stdev()\n",
        "avg = sts.mean()\n",
        "\n",
        "frdd = nrdd.filter(lambda x: fabs(x - avg) < 3*stddev).cache()\n",
        "\n",
        "print(\"Number of outliers: {0}\".format(sts.count() - frdd.count()))"
      ]
    },
    {
      "cell_type": "code",
      "execution_count": 61,
      "metadata": {
        "id": "wJJc_21GKbKw",
        "colab": {
          "base_uri": "https://localhost:8080/",
          "height": 508
        },
        "outputId": "69ebcc6c-8ae4-490b-ac89-f3cac849f76c"
      },
      "outputs": [
        {
          "output_type": "execute_result",
          "data": {
            "text/plain": [
              "Text(0.5, 1.0, 'Histogram')"
            ]
          },
          "metadata": {},
          "execution_count": 61
        },
        {
          "output_type": "display_data",
          "data": {
            "text/plain": [
              "<Figure size 640x480 with 0 Axes>"
            ]
          },
          "metadata": {}
        },
        {
          "output_type": "display_data",
          "data": {
            "text/plain": [
              "<Figure size 640x480 with 1 Axes>"
            ],
            "image/png": "[encoded data removed]"
          },
          "metadata": {}
        }
      ],
      "source": [
        "#import base64\n",
        "import matplotlib.pyplot as plt; plt.rcdefaults()\n",
        "import matplotlib.pyplot as plt\n",
        "import io\n",
        "\n",
        "def show(p):\n",
        "    img = StringIO.StringIO()\n",
        "    p.savefig(img, format='svg')\n",
        "    img.seek(0)\n",
        "    print (\"%html <div style='width:600px'>\" + img.buf + \"</div>\")\n",
        "\n",
        "# Get a histogram with 10 groups\n",
        "x,y = frdd.histogram(10)\n",
        "\n",
        "# Clean the plot\n",
        "plt.gcf().clear()\n",
        "plt.figure()\n",
        "plt.bar(x[:-1], y, width=0.6)\n",
        "plt.xlabel(u'Values')\n",
        "plt.ylabel(u'Number of occurrences')\n",
        "plt.title(u'Histogram')\n",
        "\n",
        "#show(plt)"
      ]
    },
    {
      "cell_type": "markdown",
      "metadata": {
        "id": "KhRQQgPWM9ZU"
      },
      "source": [
        "## Reading and writing RDDs from/to files"
      ]
    },
    {
      "cell_type": "markdown",
      "metadata": {
        "id": "2-krfCkdNDt2"
      },
      "source": [
        "### Supported filesystems\n",
        "-   Like Hadoop, Spark supports different filesystems: local, HDFS, Amazon S3\n",
        "\n",
        "    -   In general, it supports any data source that can be read with Hadoop\n",
        "\n",
        "-   It can access relational or noSQL databases\n",
        "\n",
        "    -   MySQL, Postgres, etc. using JDBC\n",
        "    -   Apache Hive, HBase, Cassandra or Elasticsearch\n",
        "\n",
        "### Supported file formats\n",
        "\n",
        "-   Spark can access different file types:\n",
        "\n",
        "    -   Plain text, CSV, sequence files, JSON, *protocol buffers* and *object files*\n",
        "        -   It supports compressed files"
      ]
    },
    {
      "cell_type": "markdown",
      "metadata": {
        "id": "UlI-91DzNekY"
      },
      "source": [
        "### Examples with text files\n",
        "\n",
        "In the `../yourDrive/books` directory there is a collection of compressed text files."
      ]
    },
    {
      "cell_type": "code",
      "execution_count": 62,
      "metadata": {
        "id": "CqI6MeqkNirc",
        "colab": {
          "base_uri": "https://localhost:8080/"
        },
        "outputId": "35a7e469-a8dc-450c-a899-34a3e23eb2d2"
      },
      "outputs": [
        {
          "output_type": "stream",
          "name": "stdout",
          "text": [
            "pg14329.txt.gz\tpg17013.txt.gz\tpg2000.txt.gz\tpg25807.txt.gz\tpg7109.txt.gz\n",
            "pg1619.txt.gz\tpg17073.txt.gz\tpg24536.txt.gz\tpg32315.txt.gz\tpg8870.txt.gz\n",
            "pg16625.txt.gz\tpg18005.txt.gz\tpg25640.txt.gz\tpg5201.txt.gz\tpg9980.txt.gz\n"
          ]
        }
      ],
      "source": [
        "# Input files\n",
        "!ls \"$DRIVE_DATA\"/books"
      ]
    },
    {
      "cell_type": "markdown",
      "metadata": {
        "id": "rUbrWdpANn69"
      },
      "source": [
        "### Functions for reading and writing text files\n",
        "\n",
        "\n",
        "- `sc.textFile(file/directory_name)` It creates an RDD from the lines of one or several text files\n",
        "    - If a directory is specified, all files inside will be read, creating a partition per file\n",
        "    - Files can be compressed, also in different formats (gz, bz2,...)\n",
        "    - Wildcards can be specified in the file name\n",
        "- `sc.wholeTextFiles(file/directory_name)` Reads the file and returns a key/value RDD\n",
        "    - key: File absolute path\n",
        "    - value: The whole text of the file\n",
        "- `rdd.saveAsTextFile(output_directory)` Stores the RDD in text format in the specified directory\n",
        "    - Creates a file for each partition of rdd\n"
      ]
    },
    {
      "cell_type": "code",
      "execution_count": 64,
      "metadata": {
        "id": "qEC3rkJwOGl-",
        "colab": {
          "base_uri": "https://localhost:8080/"
        },
        "outputId": "4d4ba9c7-f2f8-409e-863b-b7a320a44f8a"
      },
      "outputs": [
        {
          "output_type": "stream",
          "name": "stdout",
          "text": [
            "Number of partitions of the RDD lines = 15\n"
          ]
        }
      ],
      "source": [
        "# Reads all files in the directory\n",
        "# and creates an RDD with their lines\n",
        "lines = sc.textFile(os.environ[\"DRIVE_DATA\"] + \"books\")\n",
        "\n",
        "# Creates a partition per input file\n",
        "print(\"Number of partitions of the RDD lines = {0}\".format(\n",
        "       lines.getNumPartitions()))"
      ]
    },
    {
      "cell_type": "code",
      "execution_count": 65,
      "metadata": {
        "id": "9q7IIuqxOrpI",
        "colab": {
          "base_uri": "https://localhost:8080/"
        },
        "outputId": "30879bf6-0dad-4646-b031-4affb3a9a5c6"
      },
      "outputs": [
        {
          "output_type": "stream",
          "name": "stdout",
          "text": [
            "Number of partitions of the RDD words = 15\n"
          ]
        }
      ],
      "source": [
        "# Gets the words using the split method (split uses a space as default delimiter)\n",
        "words = lines.flatMap(lambda x: x.split())\n",
        "print(\"Number of partitions of the RDD words = {0}\".format(\n",
        "       words.getNumPartitions()))"
      ]
    },
    {
      "cell_type": "code",
      "execution_count": 66,
      "metadata": {
        "id": "gjpgVQpXOss6",
        "colab": {
          "base_uri": "https://localhost:8080/"
        },
        "outputId": "f11e91d5-3949-4a01-f57f-93ee14c50608"
      },
      "outputs": [
        {
          "output_type": "stream",
          "name": "stdout",
          "text": [
            "Number of partitions of the RDD words2 = 4\n"
          ]
        }
      ],
      "source": [
        "# Repartitioning the RDD in 4 partitions\n",
        "words2 = words.coalesce(4)\n",
        "print(\"Number of partitions of the RDD words2 = {0}\".format(\n",
        "       words2.getNumPartitions()))"
      ]
    },
    {
      "cell_type": "code",
      "execution_count": 67,
      "metadata": {
        "id": "YLGz4yHfPc1R",
        "colab": {
          "base_uri": "https://localhost:8080/"
        },
        "outputId": "15dd02ca-0ea7-4d89-8494-d0e24d36f1ef"
      },
      "outputs": [
        {
          "output_type": "stream",
          "name": "stdout",
          "text": [
            "['ese', 'iba', 'bostezar».', 'a', 'estos', 'y', 'provincialismo,', 'que', 'tomar', 'entusiastas']\n"
          ]
        }
      ],
      "source": [
        "# Takes a random sample from the words\n",
        "print(words2.takeSample(False, 10))"
      ]
    },
    {
      "cell_type": "code",
      "execution_count": 68,
      "metadata": {
        "id": "lrZjjtogPgtU"
      },
      "outputs": [],
      "source": [
        "# Saves the RDD words as several output files\n",
        "# (a file per partition)\n",
        "words2.saveAsTextFile(\"file:///tmp/outputtxt\")"
      ]
    },
    {
      "cell_type": "code",
      "execution_count": 69,
      "metadata": {
        "id": "ZR7xk_6xPkh8",
        "colab": {
          "base_uri": "https://localhost:8080/"
        },
        "outputId": "51f285fd-1807-468b-dc99-51c498b9ca4c"
      },
      "outputs": [
        {
          "output_type": "stream",
          "name": "stdout",
          "text": [
            "total 12800\n",
            "-rw-r--r-- 1 root root 2579635 Nov 26 09:16 part-00000\n",
            "-rw-r--r-- 1 root root 1753383 Nov 26 09:16 part-00001\n",
            "-rw-r--r-- 1 root root 2192855 Nov 26 09:16 part-00002\n",
            "-rw-r--r-- 1 root root 6571159 Nov 26 09:16 part-00003\n",
            "-rw-r--r-- 1 root root       0 Nov 26 09:16 _SUCCESS\n",
            "The\n",
            "Project\n",
            "Gutenberg\n",
            "EBook\n",
            "of\n",
            "La\n",
            "Mejor\n",
            "Cocinera,\n",
            "by\n",
            "Calleja\n"
          ]
        }
      ],
      "source": [
        "# output files\n",
        "!ls -l /tmp/outputtxt\n",
        "!head /tmp/outputtxt/part-00002"
      ]
    },
    {
      "cell_type": "code",
      "execution_count": 70,
      "metadata": {
        "id": "3Pov4YA9PpKA",
        "colab": {
          "base_uri": "https://localhost:8080/"
        },
        "outputId": "517cca22-ce6d-4c89-9ea4-71b0fa2a18ab"
      },
      "outputs": [
        {
          "output_type": "stream",
          "name": "stdout",
          "text": [
            "Number of partitions of the RDD prdd = 2\n",
            "\n"
          ]
        }
      ],
      "source": [
        "# Reads the files and returns a key/value RDD\n",
        "# key->file name, value->complete file\n",
        "prdd = sc.wholeTextFiles(os.environ[\"DRIVE_DATA\"] +\"books/p*.gz\")\n",
        "print(\"Number of partitions of the RDD prdd = {0}\\n\".format(\n",
        "       prdd.getNumPartitions()))"
      ]
    },
    {
      "cell_type": "code",
      "execution_count": 71,
      "metadata": {
        "id": "T7P6tJ1pQiJ2",
        "colab": {
          "base_uri": "https://localhost:8080/"
        },
        "outputId": "9c50b142-0819-4c30-df6b-2144392a2564"
      },
      "outputs": [
        {
          "output_type": "stream",
          "name": "stdout",
          "text": [
            "The book pg14329.txt.gz has 183777 words\n",
            "The book pg1619.txt.gz  has 109878 words\n",
            "The book pg16625.txt.gz has 170900 words\n",
            "The book pg17013.txt.gz has 396086 words\n",
            "The book pg17073.txt.gz has 309473 words\n",
            "The book pg18005.txt.gz has  86446 words\n",
            "The book pg2000.txt.gz  has 384258 words\n",
            "The book pg24536.txt.gz has 134016 words\n",
            "The book pg25640.txt.gz has 207338 words\n",
            "The book pg25807.txt.gz has  15014 words\n",
            "The book pg32315.txt.gz has  46142 words\n",
            "The book pg5201.txt.gz  has  49441 words\n",
            "The book pg7109.txt.gz  has  35037 words\n",
            "The book pg8870.txt.gz  has  54348 words\n",
            "The book pg9980.txt.gz  has  34014 words\n"
          ]
        }
      ],
      "source": [
        "# Gets a key/value list\n",
        "# key->file name, value->number of words\n",
        "mylist = prdd.mapValues(lambda x: len(x.split())).collect()\n",
        "\n",
        "for book in mylist:\n",
        "    print(\"The book {0:14s} has {1:6d} words\".format(\n",
        "           book[0].split(\"/\")[-1], book[1]))"
      ]
    },
    {
      "cell_type": "markdown",
      "metadata": {
        "id": "32YS9pB0Qtbq"
      },
      "source": [
        "### Sequence files\n",
        "Flat files used in Hadoop consisting of binary key/value pairs\n",
        "\n",
        "-   Their elements implement the [`Writable`](https://hadoop.apache.org/docs/stable/api/org/apache/hadoop/io/Writable.html) interface"
      ]
    },
    {
      "cell_type": "code",
      "execution_count": 72,
      "metadata": {
        "id": "dTjyykBEQzRc"
      },
      "outputs": [],
      "source": [
        "rdd = sc.parallelize([(\"a\",2), (\"b\",5), (\"a\",8)], 2)\n",
        "\n",
        "# We save the key/value RDD as a Sequence file\n",
        "rdd.saveAsSequenceFile(\"file:///tmp/sequenceoutdir2\")"
      ]
    },
    {
      "cell_type": "code",
      "execution_count": 73,
      "metadata": {
        "id": "apyhKT_eQ-lN",
        "colab": {
          "base_uri": "https://localhost:8080/"
        },
        "outputId": "2e36396a-4eb8-4183-bf27-74cdc9f88e93"
      },
      "outputs": [
        {
          "output_type": "stream",
          "name": "stdout",
          "text": [
            "output directory\n",
            "total 8\n",
            "-rw-r--r-- 1 root root  99 Nov 26 09:16 part-00000\n",
            "-rw-r--r-- 1 root root 113 Nov 26 09:16 part-00001\n",
            "-rw-r--r-- 1 root root   0 Nov 26 09:16 _SUCCESS\n",
            "Read the file using Hadoop\n",
            "--2024-11-26 09:16:36--  https://archive.apache.org/dist/hadoop/core/hadoop-2.7.3/hadoop-2.7.3.tar.gz\n",
            "Resolving archive.apache.org (archive.apache.org)... 65.108.204.189, 2a01:4f9:1a:a084::2\n",
            "Connecting to archive.apache.org (archive.apache.org)|65.108.204.189|:443... connected.\n",
            "HTTP request sent, awaiting response... 200 OK\n",
            "Length: 214092195 (204M) [application/x-gzip]\n",
            "Saving to: ‘hadoop-2.7.3.tar.gz’\n",
            "\n",
            "hadoop-2.7.3.tar.gz 100%[===================>] 204.17M   507KB/s    in 6m 20s  \n",
            "\n",
            "2024-11-26 09:22:56 (551 KB/s) - ‘hadoop-2.7.3.tar.gz’ saved [214092195/214092195]\n",
            "\n",
            "b\t5\n",
            "a\t8\n"
          ]
        }
      ],
      "source": [
        "!echo 'output directory'\n",
        "!ls -l /tmp/sequenceoutdir2\n",
        "#!echo 'Attempt to read one of the files'\n",
        "#!cat /tmp/sequenceoutdir2/part-00000\n",
        "#!echo\n",
        "!echo  'Read the file using Hadoop'\n",
        "!wget https://archive.apache.org/dist/hadoop/core/hadoop-2.7.3/hadoop-2.7.3.tar.gz\n",
        "!tar xf hadoop-2.7.3.tar.gz\n",
        "!rm hadoop-2.7.3.tar.gz\n",
        "!/content/hadoop-2.7.3/bin/hdfs dfs -text /tmp/sequenceoutdir2/part-00001"
      ]
    },
    {
      "cell_type": "code",
      "execution_count": 74,
      "metadata": {
        "id": "ndlvU2czRGxj",
        "colab": {
          "base_uri": "https://localhost:8080/"
        },
        "outputId": "09fe2dd9-1bed-40ef-e2f7-bf967ba7e5ac"
      },
      "outputs": [
        {
          "output_type": "stream",
          "name": "stdout",
          "text": [
            "Content of the RDD [('b', 5), ('a', 8), ('a', 2)]\n"
          ]
        }
      ],
      "source": [
        "# We read the file in another RDD\n",
        "rdd2 = sc.sequenceFile(\"file:///tmp/sequenceoutdir2\",\n",
        "                       \"org.apache.hadoop.io.Text\",\n",
        "                       \"org.apache.hadoop.io.IntWritable\")\n",
        "\n",
        "print(\"Content of the RDD {0}\".format(rdd2.collect()))"
      ]
    },
    {
      "cell_type": "markdown",
      "metadata": {
        "id": "wjEP3YwEV-7W"
      },
      "source": [
        "### Hadoop input/output formats\n",
        "Spark can interact with any file format supported by Hadoop\n",
        "- It supports the \"old\" and \"new\" APIs\n",
        "- It supports accessing other storage types (not files), e.g. HBase or MongoDB, using `saveAsHadoopDataSet` and/or `saveAsNewAPIHadoopDataSet`\n"
      ]
    },
    {
      "cell_type": "code",
      "execution_count": 75,
      "metadata": {
        "id": "pltQUkchWBFx"
      },
      "outputs": [],
      "source": [
        "# We save the key/value RDD as a Hadoop text file (TextOutputFormat)\n",
        "rdd.saveAsNewAPIHadoopFile(\"file:///tmp/hadoopfileoutdir\",\n",
        "                            \"org.apache.hadoop.mapreduce.lib.output.TextOutputFormat\",\n",
        "                            \"org.apache.hadoop.io.Text\",\n",
        "                            \"org.apache.hadoop.io.IntWritable\")\n"
      ]
    },
    {
      "cell_type": "code",
      "execution_count": 76,
      "metadata": {
        "id": "CokGimr9WFDD",
        "colab": {
          "base_uri": "https://localhost:8080/"
        },
        "outputId": "a6cb3fbd-04f5-43f7-f9ba-f5bcaf2e7491"
      },
      "outputs": [
        {
          "output_type": "stream",
          "name": "stdout",
          "text": [
            "Output directory\n",
            "total 8\n",
            "-rw-r--r-- 1 root root 4 Nov 26 09:23 part-r-00000\n",
            "-rw-r--r-- 1 root root 8 Nov 26 09:23 part-r-00001\n",
            "-rw-r--r-- 1 root root 0 Nov 26 09:23 _SUCCESS\n",
            "b\t5\n",
            "a\t8\n"
          ]
        }
      ],
      "source": [
        "!echo 'Output directory'\n",
        "!ls -l /tmp/hadoopfileoutdir\n",
        "!cat /tmp/hadoopfileoutdir/part-r-00001"
      ]
    },
    {
      "cell_type": "code",
      "execution_count": 77,
      "metadata": {
        "id": "t7wpP5SZWK9y",
        "colab": {
          "base_uri": "https://localhost:8080/"
        },
        "outputId": "feec623c-39db-479f-916b-80b608558d21"
      },
      "outputs": [
        {
          "output_type": "stream",
          "name": "stdout",
          "text": [
            "Content of the RDD [('b', '5'), ('a', '8'), ('a', '2')]\n"
          ]
        }
      ],
      "source": [
        "# We read it as a Hadoop key/value file (KeyValueTextInputFormat)\n",
        "rdd3 = sc.newAPIHadoopFile(\"file:///tmp/hadoopfileoutdir\",\n",
        "                          \"org.apache.hadoop.mapreduce.lib.input.KeyValueTextInputFormat\",\n",
        "                          \"org.apache.hadoop.io.Text\",\n",
        "                          \"org.apache.hadoop.io.IntWritable\")\n",
        "\n",
        "print(\"Content of the RDD {0}\".format(rdd3.collect()))"
      ]
    },
    {
      "cell_type": "markdown",
      "metadata": {
        "id": "6O3IAwByxTpJ"
      },
      "source": [
        "\n",
        "\n",
        "---\n",
        "\n",
        "## Exercises"
      ]
    },
    {
      "cell_type": "markdown",
      "metadata": {
        "id": "mJ708zvl627q"
      },
      "source": [
        "### Exercise 5.1: Word count\n",
        "\n",
        "**Using RDDs**, count the number of lines in the `$DRIVE_DATA/quijote.txt` file. Then, count the number of words in the file. Finally, count the number of *different* words in the file.\n"
      ]
    },
    {
      "cell_type": "code",
      "execution_count": 81,
      "metadata": {
        "id": "Slr4nXhp_knl",
        "colab": {
          "base_uri": "https://localhost:8080/"
        },
        "outputId": "229c8526-b737-427c-f7fd-e313e5a0d9b5"
      },
      "outputs": [
        {
          "output_type": "stream",
          "name": "stdout",
          "text": [
            "Number of lines: 31931\n",
            "Number of words: 387834\n",
            "Number of different words: 40060\n"
          ]
        }
      ],
      "source": [
        "file_path = f\"{os.environ['DRIVE_DATA']}quijote.txt\"\n",
        "\n",
        "rdd = spark.sparkContext.textFile(file_path)\n",
        "\n",
        "rdd = rdd.filter(lambda line: line.strip() != \"\") # We remove empty lines\n",
        "\n",
        "num_lines = rdd.count()\n",
        "\n",
        "num_words = rdd.flatMap(lambda line: line.split(\" \")).count()\n",
        "\n",
        "num_distinct_words = rdd.flatMap(lambda line: line.split(\" \")).distinct().count()\n",
        "\n",
        "print(f\"Number of lines: {num_lines}\")\n",
        "print(f\"Number of words: {num_words}\")\n",
        "print(f\"Number of different words: {num_distinct_words}\")\n"
      ]
    },
    {
      "cell_type": "markdown",
      "metadata": {
        "id": "jjtVkYOKxTo7"
      },
      "source": [
        "### Exercise 5.2: Count people by age\n",
        "\n",
        "Using RDDs, create a barplot showing of number of people (y-axis) per age (x-axis) using the information in the $DRIVE_DATA/people.txt file\n",
        "\n"
      ]
    },
    {
      "cell_type": "code",
      "execution_count": 84,
      "metadata": {
        "id": "-JgE0XavBBLB",
        "colab": {
          "base_uri": "https://localhost:8080/",
          "height": 472
        },
        "outputId": "f56a9275-91bc-4c14-ab90-5b5865e53c26"
      },
      "outputs": [
        {
          "output_type": "display_data",
          "data": {
            "text/plain": [
              "<Figure size 640x480 with 1 Axes>"
            ],
            "image/png": "[encoded data removed]"
          },
          "metadata": {}
        }
      ],
      "source": [
        "import matplotlib.pyplot as plt\n",
        "\n",
        "file_path = f\"{os.environ['DRIVE_DATA']}people.txt\"\n",
        "\n",
        "rdd = spark.sparkContext.textFile(file_path)\n",
        "\n",
        "# Extract age and count occurrences\n",
        "age_counts = rdd.map(lambda line: line.split(\"\\t\")[1])\n",
        "age_counts = age_counts.map(lambda age: (age, 1)).reduceByKey(lambda x, y: x + y)\n",
        "\n",
        "# Collect the results\n",
        "age_counts_data = age_counts.collect()\n",
        "\n",
        "# Sort for plotting\n",
        "ages, counts = zip(*sorted(age_counts_data, key=lambda x: int(x[0])))\n",
        "\n",
        "# Create the bar plot\n",
        "plt.bar(ages, counts)\n",
        "plt.xlabel(\"Age\")\n",
        "plt.ylabel(\"Number of People\")\n",
        "plt.title(\"Number of People per Age\")\n",
        "#plt.xticks(rotation=45)\n",
        "plt.show()\n"
      ]
    },
    {
      "cell_type": "markdown",
      "metadata": {
        "id": "xddDZ2zCxTor"
      },
      "source": [
        "### Exercise 5.3: Obtain the number of received citations\n",
        "\n",
        "Using RDDs, write a PySpark program that obtains, from the cite75_99.txt file, the number of citations received by each patent.\n"
      ]
    },
    {
      "cell_type": "code",
      "source": [
        "file_path = f\"{os.environ['DRIVE_DATA']}cite75_99.txt.tar.bz2\"\n",
        "\n",
        "# Load the file into an RDD\n",
        "rdd = spark.sparkContext.textFile(file_path)\n",
        "\n",
        "rdd.take(10)\n",
        "\n",
        "# Extract cited patents and count citations\n",
        "citations = rdd.map(lambda line: line.split(\",\")[1])  # Assuming '->' separates the citing and cited patents\n",
        "citations_count = citations.map(lambda patent: (patent, 1)).reduceByKey(lambda x, y: x + y)\n",
        "\n",
        "# Collect and display results\n",
        "citations_data = citations_count.collect()\n",
        "print(\"Number of citations received by each patent:\")\n",
        "for patent, count in sorted(citations_data, key=lambda x: -x[1]):\n",
        "    print(f\"Patent {patent}: {count} citations\")\n"
      ],
      "metadata": {
        "colab": {
          "base_uri": "https://localhost:8080/",
          "height": 1000
        },
        "id": "QvMWJc0Sj_6l",
        "outputId": "04fcfaa7-3642-48da-9c75-35ef0112756c"
      },
      "execution_count": 89,
      "outputs": [
        {
          "output_type": "error",
          "ename": "Py4JJavaError",
          "evalue": "An error occurred while calling z:org.apache.spark.api.python.PythonRDD.collectAndServe.\n: org.apache.spark.SparkException: Job aborted due to stage failure: Task 2 in stage 168.0 failed 1 times, most recent failure: Lost task 2.0 in stage 168.0 (TID 480) (af5fbe9511de executor driver): org.apache.spark.api.python.PythonException: Traceback (most recent call last):\n  File \"/content/spark/python/lib/pyspark.zip/pyspark/worker.py\", line 1247, in main\n    process()\n  File \"/content/spark/python/lib/pyspark.zip/pyspark/worker.py\", line 1237, in process\n    out_iter = func(split_index, iterator)\n  File \"/content/spark/python/pyspark/rdd.py\", line 5434, in pipeline_func\n    return func(split, prev_func(split, iterator))\n  File \"/content/spark/python/pyspark/rdd.py\", line 5434, in pipeline_func\n    return func(split, prev_func(split, iterator))\n  File \"/content/spark/python/pyspark/rdd.py\", line 840, in func\n    return f(iterator)\n  File \"/content/spark/python/pyspark/rdd.py\", line 3983, in combineLocally\n    merger.mergeValues(iterator)\n  File \"/content/spark/python/lib/pyspark.zip/pyspark/shuffle.py\", line 256, in mergeValues\n    for k, v in iterator:\n  File \"/content/spark/python/lib/pyspark.zip/pyspark/util.py\", line 83, in wrapper\n    return f(*args, **kwargs)\n  File \"<ipython-input-89-06c2011bb282>\", line 9, in <lambda>\nIndexError: list index out of range\n\n\tat org.apache.spark.api.python.BasePythonRunner$ReaderIterator.handlePythonException(PythonRunner.scala:572)\n\tat org.apache.spark.api.python.PythonRunner$$anon$3.read(PythonRunner.scala:784)\n\tat org.apache.spark.api.python.PythonRunner$$anon$3.read(PythonRunner.scala:766)\n\tat org.apache.spark.api.python.BasePythonRunner$ReaderIterator.hasNext(PythonRunner.scala:525)\n\tat org.apache.spark.InterruptibleIterator.hasNext(InterruptibleIterator.scala:37)\n\tat scala.collection.Iterator$GroupedIterator.fill(Iterator.scala:1211)\n\tat scala.collection.Iterator$GroupedIterator.hasNext(Iterator.scala:1217)\n\tat scala.collection.Iterator$$anon$10.hasNext(Iterator.scala:460)\n\tat org.apache.spark.shuffle.sort.BypassMergeSortShuffleWriter.write(BypassMergeSortShuffleWriter.java:140)\n\tat org.apache.spark.shuffle.ShuffleWriteProcessor.write(ShuffleWriteProcessor.scala:59)\n\tat org.apache.spark.scheduler.ShuffleMapTask.runTask(ShuffleMapTask.scala:104)\n\tat org.apache.spark.scheduler.ShuffleMapTask.runTask(ShuffleMapTask.scala:54)\n\tat org.apache.spark.TaskContext.runTaskWithListeners(TaskContext.scala:166)\n\tat org.apache.spark.scheduler.Task.run(Task.scala:141)\n\tat org.apache.spark.executor.Executor$TaskRunner.$anonfun$run$4(Executor.scala:620)\n\tat org.apache.spark.util.SparkErrorUtils.tryWithSafeFinally(SparkErrorUtils.scala:64)\n\tat org.apache.spark.util.SparkErrorUtils.tryWithSafeFinally$(SparkErrorUtils.scala:61)\n\tat org.apache.spark.util.Utils$.tryWithSafeFinally(Utils.scala:94)\n\tat org.apache.spark.executor.Executor$TaskRunner.run(Executor.scala:623)\n\tat java.util.concurrent.ThreadPoolExecutor.runWorker(ThreadPoolExecutor.java:1149)\n\tat java.util.concurrent.ThreadPoolExecutor$Worker.run(ThreadPoolExecutor.java:624)\n\tat java.lang.Thread.run(Thread.java:750)\n\nDriver stacktrace:\n\tat org.apache.spark.scheduler.DAGScheduler.failJobAndIndependentStages(DAGScheduler.scala:2856)\n\tat org.apache.spark.scheduler.DAGScheduler.$anonfun$abortStage$2(DAGScheduler.scala:2792)\n\tat org.apache.spark.scheduler.DAGScheduler.$anonfun$abortStage$2$adapted(DAGScheduler.scala:2791)\n\tat scala.collection.mutable.ResizableArray.foreach(ResizableArray.scala:62)\n\tat scala.collection.mutable.ResizableArray.foreach$(ResizableArray.scala:55)\n\tat scala.collection.mutable.ArrayBuffer.foreach(ArrayBuffer.scala:49)\n\tat org.apache.spark.scheduler.DAGScheduler.abortStage(DAGScheduler.scala:2791)\n\tat org.apache.spark.scheduler.DAGScheduler.$anonfun$handleTaskSetFailed$1(DAGScheduler.scala:1247)\n\tat org.apache.spark.scheduler.DAGScheduler.$anonfun$handleTaskSetFailed$1$adapted(DAGScheduler.scala:1247)\n\tat scala.Option.foreach(Option.scala:407)\n\tat org.apache.spark.scheduler.DAGScheduler.handleTaskSetFailed(DAGScheduler.scala:1247)\n\tat org.apache.spark.scheduler.DAGSchedulerEventProcessLoop.doOnReceive(DAGScheduler.scala:3060)\n\tat org.apache.spark.scheduler.DAGSchedulerEventProcessLoop.onReceive(DAGScheduler.scala:2994)\n\tat org.apache.spark.scheduler.DAGSchedulerEventProcessLoop.onReceive(DAGScheduler.scala:2983)\n\tat org.apache.spark.util.EventLoop$$anon$1.run(EventLoop.scala:49)\n\tat org.apache.spark.scheduler.DAGScheduler.runJob(DAGScheduler.scala:989)\n\tat org.apache.spark.SparkContext.runJob(SparkContext.scala:2393)\n\tat org.apache.spark.SparkContext.runJob(SparkContext.scala:2414)\n\tat org.apache.spark.SparkContext.runJob(SparkContext.scala:2433)\n\tat org.apache.spark.SparkContext.runJob(SparkContext.scala:2458)\n\tat org.apache.spark.rdd.RDD.$anonfun$collect$1(RDD.scala:1049)\n\tat org.apache.spark.rdd.RDDOperationScope$.withScope(RDDOperationScope.scala:151)\n\tat org.apache.spark.rdd.RDDOperationScope$.withScope(RDDOperationScope.scala:112)\n\tat org.apache.spark.rdd.RDD.withScope(RDD.scala:410)\n\tat org.apache.spark.rdd.RDD.collect(RDD.scala:1048)\n\tat org.apache.spark.api.python.PythonRDD$.collectAndServe(PythonRDD.scala:195)\n\tat org.apache.spark.api.python.PythonRDD.collectAndServe(PythonRDD.scala)\n\tat sun.reflect.GeneratedMethodAccessor61.invoke(Unknown Source)\n\tat sun.reflect.DelegatingMethodAccessorImpl.invoke(DelegatingMethodAccessorImpl.java:43)\n\tat java.lang.reflect.Method.invoke(Method.java:498)\n\tat py4j.reflection.MethodInvoker.invoke(MethodInvoker.java:244)\n\tat py4j.reflection.ReflectionEngine.invoke(ReflectionEngine.java:374)\n\tat py4j.Gateway.invoke(Gateway.java:282)\n\tat py4j.commands.AbstractCommand.invokeMethod(AbstractCommand.java:132)\n\tat py4j.commands.CallCommand.execute(CallCommand.java:79)\n\tat py4j.ClientServerConnection.waitForCommands(ClientServerConnection.java:182)\n\tat py4j.ClientServerConnection.run(ClientServerConnection.java:106)\n\tat java.lang.Thread.run(Thread.java:750)\nCaused by: org.apache.spark.api.python.PythonException: Traceback (most recent call last):\n  File \"/content/spark/python/lib/pyspark.zip/pyspark/worker.py\", line 1247, in main\n    process()\n  File \"/content/spark/python/lib/pyspark.zip/pyspark/worker.py\", line 1237, in process\n    out_iter = func(split_index, iterator)\n  File \"/content/spark/python/pyspark/rdd.py\", line 5434, in pipeline_func\n    return func(split, prev_func(split, iterator))\n  File \"/content/spark/python/pyspark/rdd.py\", line 5434, in pipeline_func\n    return func(split, prev_func(split, iterator))\n  File \"/content/spark/python/pyspark/rdd.py\", line 840, in func\n    return f(iterator)\n  File \"/content/spark/python/pyspark/rdd.py\", line 3983, in combineLocally\n    merger.mergeValues(iterator)\n  File \"/content/spark/python/lib/pyspark.zip/pyspark/shuffle.py\", line 256, in mergeValues\n    for k, v in iterator:\n  File \"/content/spark/python/lib/pyspark.zip/pyspark/util.py\", line 83, in wrapper\n    return f(*args, **kwargs)\n  File \"<ipython-input-89-06c2011bb282>\", line 9, in <lambda>\nIndexError: list index out of range\n\n\tat org.apache.spark.api.python.BasePythonRunner$ReaderIterator.handlePythonException(PythonRunner.scala:572)\n\tat org.apache.spark.api.python.PythonRunner$$anon$3.read(PythonRunner.scala:784)\n\tat org.apache.spark.api.python.PythonRunner$$anon$3.read(PythonRunner.scala:766)\n\tat org.apache.spark.api.python.BasePythonRunner$ReaderIterator.hasNext(PythonRunner.scala:525)\n\tat org.apache.spark.InterruptibleIterator.hasNext(InterruptibleIterator.scala:37)\n\tat scala.collection.Iterator$GroupedIterator.fill(Iterator.scala:1211)\n\tat scala.collection.Iterator$GroupedIterator.hasNext(Iterator.scala:1217)\n\tat scala.collection.Iterator$$anon$10.hasNext(Iterator.scala:460)\n\tat org.apache.spark.shuffle.sort.BypassMergeSortShuffleWriter.write(BypassMergeSortShuffleWriter.java:140)\n\tat org.apache.spark.shuffle.ShuffleWriteProcessor.write(ShuffleWriteProcessor.scala:59)\n\tat org.apache.spark.scheduler.ShuffleMapTask.runTask(ShuffleMapTask.scala:104)\n\tat org.apache.spark.scheduler.ShuffleMapTask.runTask(ShuffleMapTask.scala:54)\n\tat org.apache.spark.TaskContext.runTaskWithListeners(TaskContext.scala:166)\n\tat org.apache.spark.scheduler.Task.run(Task.scala:141)\n\tat org.apache.spark.executor.Executor$TaskRunner.$anonfun$run$4(Executor.scala:620)\n\tat org.apache.spark.util.SparkErrorUtils.tryWithSafeFinally(SparkErrorUtils.scala:64)\n\tat org.apache.spark.util.SparkErrorUtils.tryWithSafeFinally$(SparkErrorUtils.scala:61)\n\tat org.apache.spark.util.Utils$.tryWithSafeFinally(Utils.scala:94)\n\tat org.apache.spark.executor.Executor$TaskRunner.run(Executor.scala:623)\n\tat java.util.concurrent.ThreadPoolExecutor.runWorker(ThreadPoolExecutor.java:1149)\n\tat java.util.concurrent.ThreadPoolExecutor$Worker.run(ThreadPoolExecutor.java:624)\n\t... 1 more\n",
          "traceback": [
            "\u001b[0;31m---------------------------------------------------------------------------\u001b[0m",
            "\u001b[0;31mPy4JJavaError\u001b[0m                             Traceback (most recent call last)",
            "\u001b[0;32m<ipython-input-89-06c2011bb282>\u001b[0m in \u001b[0;36m<cell line: 13>\u001b[0;34m()\u001b[0m\n\u001b[1;32m     11\u001b[0m \u001b[0;34m\u001b[0m\u001b[0m\n\u001b[1;32m     12\u001b[0m \u001b[0;31m# Collect and display results\u001b[0m\u001b[0;34m\u001b[0m\u001b[0;34m\u001b[0m\u001b[0m\n\u001b[0;32m---> 13\u001b[0;31m \u001b[0mcitations_data\u001b[0m \u001b[0;34m=\u001b[0m \u001b[0mcitations_count\u001b[0m\u001b[0;34m.\u001b[0m\u001b[0mcollect\u001b[0m\u001b[0;34m(\u001b[0m\u001b[0;34m)\u001b[0m\u001b[0;34m\u001b[0m\u001b[0;34m\u001b[0m\u001b[0m\n\u001b[0m\u001b[1;32m     14\u001b[0m \u001b[0mprint\u001b[0m\u001b[0;34m(\u001b[0m\u001b[0;34m\"Number of citations received by each patent:\"\u001b[0m\u001b[0;34m)\u001b[0m\u001b[0;34m\u001b[0m\u001b[0;34m\u001b[0m\u001b[0m\n\u001b[1;32m     15\u001b[0m \u001b[0;32mfor\u001b[0m \u001b[0mpatent\u001b[0m\u001b[0;34m,\u001b[0m \u001b[0mcount\u001b[0m \u001b[0;32min\u001b[0m \u001b[0msorted\u001b[0m\u001b[0;34m(\u001b[0m\u001b[0mcitations_data\u001b[0m\u001b[0;34m,\u001b[0m \u001b[0mkey\u001b[0m\u001b[0;34m=\u001b[0m\u001b[0;32mlambda\u001b[0m \u001b[0mx\u001b[0m\u001b[0;34m:\u001b[0m \u001b[0;34m-\u001b[0m\u001b[0mx\u001b[0m\u001b[0;34m[\u001b[0m\u001b[0;36m1\u001b[0m\u001b[0;34m]\u001b[0m\u001b[0;34m)\u001b[0m\u001b[0;34m:\u001b[0m\u001b[0;34m\u001b[0m\u001b[0;34m\u001b[0m\u001b[0m\n",
            "\u001b[0;32m/content/spark/python/pyspark/rdd.py\u001b[0m in \u001b[0;36mcollect\u001b[0;34m(self)\u001b[0m\n\u001b[1;32m   1831\u001b[0m         \u001b[0;32mwith\u001b[0m \u001b[0mSCCallSiteSync\u001b[0m\u001b[0;34m(\u001b[0m\u001b[0mself\u001b[0m\u001b[0;34m.\u001b[0m\u001b[0mcontext\u001b[0m\u001b[0;34m)\u001b[0m\u001b[0;34m:\u001b[0m\u001b[0;34m\u001b[0m\u001b[0;34m\u001b[0m\u001b[0m\n\u001b[1;32m   1832\u001b[0m             \u001b[0;32massert\u001b[0m \u001b[0mself\u001b[0m\u001b[0;34m.\u001b[0m\u001b[0mctx\u001b[0m\u001b[0;34m.\u001b[0m\u001b[0m_jvm\u001b[0m \u001b[0;32mis\u001b[0m \u001b[0;32mnot\u001b[0m \u001b[0;32mNone\u001b[0m\u001b[0;34m\u001b[0m\u001b[0;34m\u001b[0m\u001b[0m\n\u001b[0;32m-> 1833\u001b[0;31m             \u001b[0msock_info\u001b[0m \u001b[0;34m=\u001b[0m \u001b[0mself\u001b[0m\u001b[0;34m.\u001b[0m\u001b[0mctx\u001b[0m\u001b[0;34m.\u001b[0m\u001b[0m_jvm\u001b[0m\u001b[0;34m.\u001b[0m\u001b[0mPythonRDD\u001b[0m\u001b[0;34m.\u001b[0m\u001b[0mcollectAndServe\u001b[0m\u001b[0;34m(\u001b[0m\u001b[0mself\u001b[0m\u001b[0;34m.\u001b[0m\u001b[0m_jrdd\u001b[0m\u001b[0;34m.\u001b[0m\u001b[0mrdd\u001b[0m\u001b[0;34m(\u001b[0m\u001b[0;34m)\u001b[0m\u001b[0;34m)\u001b[0m\u001b[0;34m\u001b[0m\u001b[0;34m\u001b[0m\u001b[0m\n\u001b[0m\u001b[1;32m   1834\u001b[0m         \u001b[0;32mreturn\u001b[0m \u001b[0mlist\u001b[0m\u001b[0;34m(\u001b[0m\u001b[0m_load_from_socket\u001b[0m\u001b[0;34m(\u001b[0m\u001b[0msock_info\u001b[0m\u001b[0;34m,\u001b[0m \u001b[0mself\u001b[0m\u001b[0;34m.\u001b[0m\u001b[0m_jrdd_deserializer\u001b[0m\u001b[0;34m)\u001b[0m\u001b[0;34m)\u001b[0m\u001b[0;34m\u001b[0m\u001b[0;34m\u001b[0m\u001b[0m\n\u001b[1;32m   1835\u001b[0m \u001b[0;34m\u001b[0m\u001b[0m\n",
            "\u001b[0;32m/content/spark/python/lib/py4j-0.10.9.7-src.zip/py4j/java_gateway.py\u001b[0m in \u001b[0;36m__call__\u001b[0;34m(self, *args)\u001b[0m\n\u001b[1;32m   1320\u001b[0m \u001b[0;34m\u001b[0m\u001b[0m\n\u001b[1;32m   1321\u001b[0m         \u001b[0manswer\u001b[0m \u001b[0;34m=\u001b[0m \u001b[0mself\u001b[0m\u001b[0;34m.\u001b[0m\u001b[0mgateway_client\u001b[0m\u001b[0;34m.\u001b[0m\u001b[0msend_command\u001b[0m\u001b[0;34m(\u001b[0m\u001b[0mcommand\u001b[0m\u001b[0;34m)\u001b[0m\u001b[0;34m\u001b[0m\u001b[0;34m\u001b[0m\u001b[0m\n\u001b[0;32m-> 1322\u001b[0;31m         return_value = get_return_value(\n\u001b[0m\u001b[1;32m   1323\u001b[0m             answer, self.gateway_client, self.target_id, self.name)\n\u001b[1;32m   1324\u001b[0m \u001b[0;34m\u001b[0m\u001b[0m\n",
            "\u001b[0;32m/content/spark/python/pyspark/errors/exceptions/captured.py\u001b[0m in \u001b[0;36mdeco\u001b[0;34m(*a, **kw)\u001b[0m\n\u001b[1;32m    177\u001b[0m     \u001b[0;32mdef\u001b[0m \u001b[0mdeco\u001b[0m\u001b[0;34m(\u001b[0m\u001b[0;34m*\u001b[0m\u001b[0ma\u001b[0m\u001b[0;34m:\u001b[0m \u001b[0mAny\u001b[0m\u001b[0;34m,\u001b[0m \u001b[0;34m**\u001b[0m\u001b[0mkw\u001b[0m\u001b[0;34m:\u001b[0m \u001b[0mAny\u001b[0m\u001b[0;34m)\u001b[0m \u001b[0;34m->\u001b[0m \u001b[0mAny\u001b[0m\u001b[0;34m:\u001b[0m\u001b[0;34m\u001b[0m\u001b[0;34m\u001b[0m\u001b[0m\n\u001b[1;32m    178\u001b[0m         \u001b[0;32mtry\u001b[0m\u001b[0;34m:\u001b[0m\u001b[0;34m\u001b[0m\u001b[0;34m\u001b[0m\u001b[0m\n\u001b[0;32m--> 179\u001b[0;31m             \u001b[0;32mreturn\u001b[0m \u001b[0mf\u001b[0m\u001b[0;34m(\u001b[0m\u001b[0;34m*\u001b[0m\u001b[0ma\u001b[0m\u001b[0;34m,\u001b[0m \u001b[0;34m**\u001b[0m\u001b[0mkw\u001b[0m\u001b[0;34m)\u001b[0m\u001b[0;34m\u001b[0m\u001b[0;34m\u001b[0m\u001b[0m\n\u001b[0m\u001b[1;32m    180\u001b[0m         \u001b[0;32mexcept\u001b[0m \u001b[0mPy4JJavaError\u001b[0m \u001b[0;32mas\u001b[0m \u001b[0me\u001b[0m\u001b[0;34m:\u001b[0m\u001b[0;34m\u001b[0m\u001b[0;34m\u001b[0m\u001b[0m\n\u001b[1;32m    181\u001b[0m             \u001b[0mconverted\u001b[0m \u001b[0;34m=\u001b[0m \u001b[0mconvert_exception\u001b[0m\u001b[0;34m(\u001b[0m\u001b[0me\u001b[0m\u001b[0;34m.\u001b[0m\u001b[0mjava_exception\u001b[0m\u001b[0;34m)\u001b[0m\u001b[0;34m\u001b[0m\u001b[0;34m\u001b[0m\u001b[0m\n",
            "\u001b[0;32m/content/spark/python/lib/py4j-0.10.9.7-src.zip/py4j/protocol.py\u001b[0m in \u001b[0;36mget_return_value\u001b[0;34m(answer, gateway_client, target_id, name)\u001b[0m\n\u001b[1;32m    324\u001b[0m             \u001b[0mvalue\u001b[0m \u001b[0;34m=\u001b[0m \u001b[0mOUTPUT_CONVERTER\u001b[0m\u001b[0;34m[\u001b[0m\u001b[0mtype\u001b[0m\u001b[0;34m]\u001b[0m\u001b[0;34m(\u001b[0m\u001b[0manswer\u001b[0m\u001b[0;34m[\u001b[0m\u001b[0;36m2\u001b[0m\u001b[0;34m:\u001b[0m\u001b[0;34m]\u001b[0m\u001b[0;34m,\u001b[0m \u001b[0mgateway_client\u001b[0m\u001b[0;34m)\u001b[0m\u001b[0;34m\u001b[0m\u001b[0;34m\u001b[0m\u001b[0m\n\u001b[1;32m    325\u001b[0m             \u001b[0;32mif\u001b[0m \u001b[0manswer\u001b[0m\u001b[0;34m[\u001b[0m\u001b[0;36m1\u001b[0m\u001b[0;34m]\u001b[0m \u001b[0;34m==\u001b[0m \u001b[0mREFERENCE_TYPE\u001b[0m\u001b[0;34m:\u001b[0m\u001b[0;34m\u001b[0m\u001b[0;34m\u001b[0m\u001b[0m\n\u001b[0;32m--> 326\u001b[0;31m                 raise Py4JJavaError(\n\u001b[0m\u001b[1;32m    327\u001b[0m                     \u001b[0;34m\"An error occurred while calling {0}{1}{2}.\\n\"\u001b[0m\u001b[0;34m.\u001b[0m\u001b[0;34m\u001b[0m\u001b[0;34m\u001b[0m\u001b[0m\n\u001b[1;32m    328\u001b[0m                     format(target_id, \".\", name), value)\n",
            "\u001b[0;31mPy4JJavaError\u001b[0m: An error occurred while calling z:org.apache.spark.api.python.PythonRDD.collectAndServe.\n: org.apache.spark.SparkException: Job aborted due to stage failure: Task 2 in stage 168.0 failed 1 times, most recent failure: Lost task 2.0 in stage 168.0 (TID 480) (af5fbe9511de executor driver): org.apache.spark.api.python.PythonException: Traceback (most recent call last):\n  File \"/content/spark/python/lib/pyspark.zip/pyspark/worker.py\", line 1247, in main\n    process()\n  File \"/content/spark/python/lib/pyspark.zip/pyspark/worker.py\", line 1237, in process\n    out_iter = func(split_index, iterator)\n  File \"/content/spark/python/pyspark/rdd.py\", line 5434, in pipeline_func\n    return func(split, prev_func(split, iterator))\n  File \"/content/spark/python/pyspark/rdd.py\", line 5434, in pipeline_func\n    return func(split, prev_func(split, iterator))\n  File \"/content/spark/python/pyspark/rdd.py\", line 840, in func\n    return f(iterator)\n  File \"/content/spark/python/pyspark/rdd.py\", line 3983, in combineLocally\n    merger.mergeValues(iterator)\n  File \"/content/spark/python/lib/pyspark.zip/pyspark/shuffle.py\", line 256, in mergeValues\n    for k, v in iterator:\n  File \"/content/spark/python/lib/pyspark.zip/pyspark/util.py\", line 83, in wrapper\n    return f(*args, **kwargs)\n  File \"<ipython-input-89-06c2011bb282>\", line 9, in <lambda>\nIndexError: list index out of range\n\n\tat org.apache.spark.api.python.BasePythonRunner$ReaderIterator.handlePythonException(PythonRunner.scala:572)\n\tat org.apache.spark.api.python.PythonRunner$$anon$3.read(PythonRunner.scala:784)\n\tat org.apache.spark.api.python.PythonRunner$$anon$3.read(PythonRunner.scala:766)\n\tat org.apache.spark.api.python.BasePythonRunner$ReaderIterator.hasNext(PythonRunner.scala:525)\n\tat org.apache.spark.InterruptibleIterator.hasNext(InterruptibleIterator.scala:37)\n\tat scala.collection.Iterator$GroupedIterator.fill(Iterator.scala:1211)\n\tat scala.collection.Iterator$GroupedIterator.hasNext(Iterator.scala:1217)\n\tat scala.collection.Iterator$$anon$10.hasNext(Iterator.scala:460)\n\tat org.apache.spark.shuffle.sort.BypassMergeSortShuffleWriter.write(BypassMergeSortShuffleWriter.java:140)\n\tat org.apache.spark.shuffle.ShuffleWriteProcessor.write(ShuffleWriteProcessor.scala:59)\n\tat org.apache.spark.scheduler.ShuffleMapTask.runTask(ShuffleMapTask.scala:104)\n\tat org.apache.spark.scheduler.ShuffleMapTask.runTask(ShuffleMapTask.scala:54)\n\tat org.apache.spark.TaskContext.runTaskWithListeners(TaskContext.scala:166)\n\tat org.apache.spark.scheduler.Task.run(Task.scala:141)\n\tat org.apache.spark.executor.Executor$TaskRunner.$anonfun$run$4(Executor.scala:620)\n\tat org.apache.spark.util.SparkErrorUtils.tryWithSafeFinally(SparkErrorUtils.scala:64)\n\tat org.apache.spark.util.SparkErrorUtils.tryWithSafeFinally$(SparkErrorUtils.scala:61)\n\tat org.apache.spark.util.Utils$.tryWithSafeFinally(Utils.scala:94)\n\tat org.apache.spark.executor.Executor$TaskRunner.run(Executor.scala:623)\n\tat java.util.concurrent.ThreadPoolExecutor.runWorker(ThreadPoolExecutor.java:1149)\n\tat java.util.concurrent.ThreadPoolExecutor$Worker.run(ThreadPoolExecutor.java:624)\n\tat java.lang.Thread.run(Thread.java:750)\n\nDriver stacktrace:\n\tat org.apache.spark.scheduler.DAGScheduler.failJobAndIndependentStages(DAGScheduler.scala:2856)\n\tat org.apache.spark.scheduler.DAGScheduler.$anonfun$abortStage$2(DAGScheduler.scala:2792)\n\tat org.apache.spark.scheduler.DAGScheduler.$anonfun$abortStage$2$adapted(DAGScheduler.scala:2791)\n\tat scala.collection.mutable.ResizableArray.foreach(ResizableArray.scala:62)\n\tat scala.collection.mutable.ResizableArray.foreach$(ResizableArray.scala:55)\n\tat scala.collection.mutable.ArrayBuffer.foreach(ArrayBuffer.scala:49)\n\tat org.apache.spark.scheduler.DAGScheduler.abortStage(DAGScheduler.scala:2791)\n\tat org.apache.spark.scheduler.DAGScheduler.$anonfun$handleTaskSetFailed$1(DAGScheduler.scala:1247)\n\tat org.apache.spark.scheduler.DAGScheduler.$anonfun$handleTaskSetFailed$1$adapted(DAGScheduler.scala:1247)\n\tat scala.Option.foreach(Option.scala:407)\n\tat org.apache.spark.scheduler.DAGScheduler.handleTaskSetFailed(DAGScheduler.scala:1247)\n\tat org.apache.spark.scheduler.DAGSchedulerEventProcessLoop.doOnReceive(DAGScheduler.scala:3060)\n\tat org.apache.spark.scheduler.DAGSchedulerEventProcessLoop.onReceive(DAGScheduler.scala:2994)\n\tat org.apache.spark.scheduler.DAGSchedulerEventProcessLoop.onReceive(DAGScheduler.scala:2983)\n\tat org.apache.spark.util.EventLoop$$anon$1.run(EventLoop.scala:49)\n\tat org.apache.spark.scheduler.DAGScheduler.runJob(DAGScheduler.scala:989)\n\tat org.apache.spark.SparkContext.runJob(SparkContext.scala:2393)\n\tat org.apache.spark.SparkContext.runJob(SparkContext.scala:2414)\n\tat org.apache.spark.SparkContext.runJob(SparkContext.scala:2433)\n\tat org.apache.spark.SparkContext.runJob(SparkContext.scala:2458)\n\tat org.apache.spark.rdd.RDD.$anonfun$collect$1(RDD.scala:1049)\n\tat org.apache.spark.rdd.RDDOperationScope$.withScope(RDDOperationScope.scala:151)\n\tat org.apache.spark.rdd.RDDOperationScope$.withScope(RDDOperationScope.scala:112)\n\tat org.apache.spark.rdd.RDD.withScope(RDD.scala:410)\n\tat org.apache.spark.rdd.RDD.collect(RDD.scala:1048)\n\tat org.apache.spark.api.python.PythonRDD$.collectAndServe(PythonRDD.scala:195)\n\tat org.apache.spark.api.python.PythonRDD.collectAndServe(PythonRDD.scala)\n\tat sun.reflect.GeneratedMethodAccessor61.invoke(Unknown Source)\n\tat sun.reflect.DelegatingMethodAccessorImpl.invoke(DelegatingMethodAccessorImpl.java:43)\n\tat java.lang.reflect.Method.invoke(Method.java:498)\n\tat py4j.reflection.MethodInvoker.invoke(MethodInvoker.java:244)\n\tat py4j.reflection.ReflectionEngine.invoke(ReflectionEngine.java:374)\n\tat py4j.Gateway.invoke(Gateway.java:282)\n\tat py4j.commands.AbstractCommand.invokeMethod(AbstractCommand.java:132)\n\tat py4j.commands.CallCommand.execute(CallCommand.java:79)\n\tat py4j.ClientServerConnection.waitForCommands(ClientServerConnection.java:182)\n\tat py4j.ClientServerConnection.run(ClientServerConnection.java:106)\n\tat java.lang.Thread.run(Thread.java:750)\nCaused by: org.apache.spark.api.python.PythonException: Traceback (most recent call last):\n  File \"/content/spark/python/lib/pyspark.zip/pyspark/worker.py\", line 1247, in main\n    process()\n  File \"/content/spark/python/lib/pyspark.zip/pyspark/worker.py\", line 1237, in process\n    out_iter = func(split_index, iterator)\n  File \"/content/spark/python/pyspark/rdd.py\", line 5434, in pipeline_func\n    return func(split, prev_func(split, iterator))\n  File \"/content/spark/python/pyspark/rdd.py\", line 5434, in pipeline_func\n    return func(split, prev_func(split, iterator))\n  File \"/content/spark/python/pyspark/rdd.py\", line 840, in func\n    return f(iterator)\n  File \"/content/spark/python/pyspark/rdd.py\", line 3983, in combineLocally\n    merger.mergeValues(iterator)\n  File \"/content/spark/python/lib/pyspark.zip/pyspark/shuffle.py\", line 256, in mergeValues\n    for k, v in iterator:\n  File \"/content/spark/python/lib/pyspark.zip/pyspark/util.py\", line 83, in wrapper\n    return f(*args, **kwargs)\n  File \"<ipython-input-89-06c2011bb282>\", line 9, in <lambda>\nIndexError: list index out of range\n\n\tat org.apache.spark.api.python.BasePythonRunner$ReaderIterator.handlePythonException(PythonRunner.scala:572)\n\tat org.apache.spark.api.python.PythonRunner$$anon$3.read(PythonRunner.scala:784)\n\tat org.apache.spark.api.python.PythonRunner$$anon$3.read(PythonRunner.scala:766)\n\tat org.apache.spark.api.python.BasePythonRunner$ReaderIterator.hasNext(PythonRunner.scala:525)\n\tat org.apache.spark.InterruptibleIterator.hasNext(InterruptibleIterator.scala:37)\n\tat scala.collection.Iterator$GroupedIterator.fill(Iterator.scala:1211)\n\tat scala.collection.Iterator$GroupedIterator.hasNext(Iterator.scala:1217)\n\tat scala.collection.Iterator$$anon$10.hasNext(Iterator.scala:460)\n\tat org.apache.spark.shuffle.sort.BypassMergeSortShuffleWriter.write(BypassMergeSortShuffleWriter.java:140)\n\tat org.apache.spark.shuffle.ShuffleWriteProcessor.write(ShuffleWriteProcessor.scala:59)\n\tat org.apache.spark.scheduler.ShuffleMapTask.runTask(ShuffleMapTask.scala:104)\n\tat org.apache.spark.scheduler.ShuffleMapTask.runTask(ShuffleMapTask.scala:54)\n\tat org.apache.spark.TaskContext.runTaskWithListeners(TaskContext.scala:166)\n\tat org.apache.spark.scheduler.Task.run(Task.scala:141)\n\tat org.apache.spark.executor.Executor$TaskRunner.$anonfun$run$4(Executor.scala:620)\n\tat org.apache.spark.util.SparkErrorUtils.tryWithSafeFinally(SparkErrorUtils.scala:64)\n\tat org.apache.spark.util.SparkErrorUtils.tryWithSafeFinally$(SparkErrorUtils.scala:61)\n\tat org.apache.spark.util.Utils$.tryWithSafeFinally(Utils.scala:94)\n\tat org.apache.spark.executor.Executor$TaskRunner.run(Executor.scala:623)\n\tat java.util.concurrent.ThreadPoolExecutor.runWorker(ThreadPoolExecutor.java:1149)\n\tat java.util.concurrent.ThreadPoolExecutor$Worker.run(ThreadPoolExecutor.java:624)\n\t... 1 more\n"
          ]
        }
      ]
    },
    {
      "cell_type": "code",
      "execution_count": null,
      "metadata": {
        "id": "PmYIlZ0dCQ6x"
      },
      "outputs": [],
      "source": [
        "!ls \"$DRIVE_DATA\""
      ]
    }
  ],
  "metadata": {
    "colab": {
      "provenance": [],
      "toc_visible": true,
      "include_colab_link": true
    },
    "kernelspec": {
      "display_name": "Python 3",
      "name": "python3"
    }
  },
  "nbformat": 4,
  "nbformat_minor": 0
}